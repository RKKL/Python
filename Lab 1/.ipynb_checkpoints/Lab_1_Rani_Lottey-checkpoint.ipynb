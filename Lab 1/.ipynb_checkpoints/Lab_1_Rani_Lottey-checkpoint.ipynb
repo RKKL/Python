{
 "cells": [
  {
   "cell_type": "markdown",
   "metadata": {},
   "source": [
    "# Lab 1 - Rani Lottey"
   ]
  },
  {
   "cell_type": "code",
   "execution_count": 60,
   "metadata": {},
   "outputs": [],
   "source": [
    "import pandas as pd\n",
    "import numpy as np"
   ]
  },
  {
   "cell_type": "code",
   "execution_count": 61,
   "metadata": {},
   "outputs": [
    {
     "name": "stdout",
     "output_type": "stream",
     "text": [
      "C:\\Users\\lotte\\Documents\\YorkU Python Pandas Notebooks\\CSDA_1010\\Lab 1\n"
     ]
    }
   ],
   "source": [
    "import os\n",
    "print(os.getcwd())"
   ]
  },
  {
   "cell_type": "code",
   "execution_count": 62,
   "metadata": {},
   "outputs": [],
   "source": [
    "os.chdir('C:\\\\Users\\lotte\\Documents\\YorkU Python Pandas Notebooks\\CSDA_1010\\Lab 1')"
   ]
  },
  {
   "cell_type": "code",
   "execution_count": 63,
   "metadata": {},
   "outputs": [],
   "source": [
    "IBM = pd.read_csv('IBMStock.csv')\n",
    "GE = pd.read_csv('GEStock.csv')\n",
    "ProcterGamble = pd.read_csv('ProcterGambleStock.csv')\n",
    "CocaCola = pd.read_csv('CocaColaStock.csv')\n",
    "Boeing = pd.read_csv('BoeingStock.csv')"
   ]
  },
  {
   "cell_type": "code",
   "execution_count": 64,
   "metadata": {},
   "outputs": [
    {
     "name": "stdout",
     "output_type": "stream",
     "text": [
      "<class 'pandas.core.frame.DataFrame'>\n",
      "RangeIndex: 480 entries, 0 to 479\n",
      "Data columns (total 2 columns):\n",
      " #   Column      Non-Null Count  Dtype  \n",
      "---  ------      --------------  -----  \n",
      " 0   Date        480 non-null    object \n",
      " 1   StockPrice  480 non-null    float64\n",
      "dtypes: float64(1), object(1)\n",
      "memory usage: 7.6+ KB\n",
      "<class 'pandas.core.frame.DataFrame'>\n",
      "RangeIndex: 480 entries, 0 to 479\n",
      "Data columns (total 2 columns):\n",
      " #   Column      Non-Null Count  Dtype  \n",
      "---  ------      --------------  -----  \n",
      " 0   Date        480 non-null    object \n",
      " 1   StockPrice  480 non-null    float64\n",
      "dtypes: float64(1), object(1)\n",
      "memory usage: 7.6+ KB\n",
      "<class 'pandas.core.frame.DataFrame'>\n",
      "RangeIndex: 480 entries, 0 to 479\n",
      "Data columns (total 2 columns):\n",
      " #   Column      Non-Null Count  Dtype  \n",
      "---  ------      --------------  -----  \n",
      " 0   Date        480 non-null    object \n",
      " 1   StockPrice  480 non-null    float64\n",
      "dtypes: float64(1), object(1)\n",
      "memory usage: 7.6+ KB\n",
      "<class 'pandas.core.frame.DataFrame'>\n",
      "RangeIndex: 480 entries, 0 to 479\n",
      "Data columns (total 2 columns):\n",
      " #   Column      Non-Null Count  Dtype  \n",
      "---  ------      --------------  -----  \n",
      " 0   Date        480 non-null    object \n",
      " 1   StockPrice  480 non-null    float64\n",
      "dtypes: float64(1), object(1)\n",
      "memory usage: 7.6+ KB\n",
      "<class 'pandas.core.frame.DataFrame'>\n",
      "RangeIndex: 480 entries, 0 to 479\n",
      "Data columns (total 2 columns):\n",
      " #   Column      Non-Null Count  Dtype  \n",
      "---  ------      --------------  -----  \n",
      " 0   Date        480 non-null    object \n",
      " 1   StockPrice  480 non-null    float64\n",
      "dtypes: float64(1), object(1)\n",
      "memory usage: 7.6+ KB\n"
     ]
    }
   ],
   "source": [
    "# Checking data types, counts and missing records.\n",
    "IBM.info()\n",
    "GE.info()\n",
    "ProcterGamble.info()\n",
    "CocaCola.info()\n",
    "Boeing.info()"
   ]
  },
  {
   "cell_type": "markdown",
   "metadata": {},
   "source": [
    "### The DATE field has a data type of object as shown above by using the info function."
   ]
  },
  {
   "cell_type": "code",
   "execution_count": 65,
   "metadata": {},
   "outputs": [
    {
     "data": {
      "text/html": [
       "<div>\n",
       "<style scoped>\n",
       "    .dataframe tbody tr th:only-of-type {\n",
       "        vertical-align: middle;\n",
       "    }\n",
       "\n",
       "    .dataframe tbody tr th {\n",
       "        vertical-align: top;\n",
       "    }\n",
       "\n",
       "    .dataframe thead th {\n",
       "        text-align: right;\n",
       "    }\n",
       "</style>\n",
       "<table border=\"1\" class=\"dataframe\">\n",
       "  <thead>\n",
       "    <tr style=\"text-align: right;\">\n",
       "      <th></th>\n",
       "      <th>Date</th>\n",
       "      <th>StockPrice</th>\n",
       "    </tr>\n",
       "  </thead>\n",
       "  <tbody>\n",
       "    <tr>\n",
       "      <th>0</th>\n",
       "      <td>1/1/70</td>\n",
       "      <td>360.319048</td>\n",
       "    </tr>\n",
       "    <tr>\n",
       "      <th>1</th>\n",
       "      <td>2/1/70</td>\n",
       "      <td>346.723684</td>\n",
       "    </tr>\n",
       "  </tbody>\n",
       "</table>\n",
       "</div>"
      ],
      "text/plain": [
       "     Date  StockPrice\n",
       "0  1/1/70  360.319048\n",
       "1  2/1/70  346.723684"
      ]
     },
     "execution_count": 65,
     "metadata": {},
     "output_type": "execute_result"
    }
   ],
   "source": [
    "# Checking Date field structure (assume all the other files will be the same).\n",
    "IBM.head(2)"
   ]
  },
  {
   "cell_type": "code",
   "execution_count": 66,
   "metadata": {},
   "outputs": [],
   "source": [
    "# Coverting Date field to datetime data type.\n",
    "IBM.Date=pd.to_datetime(IBM.Date)\n",
    "GE.Date=pd.to_datetime(GE.Date)\n",
    "ProcterGamble.Date=pd.to_datetime(ProcterGamble.Date)\n",
    "CocaCola.Date=pd.to_datetime(CocaCola.Date)\n",
    "Boeing.Date=pd.to_datetime(Boeing.Date)"
   ]
  },
  {
   "cell_type": "code",
   "execution_count": 67,
   "metadata": {},
   "outputs": [
    {
     "name": "stdout",
     "output_type": "stream",
     "text": [
      "<class 'pandas.core.frame.DataFrame'>\n",
      "RangeIndex: 480 entries, 0 to 479\n",
      "Data columns (total 2 columns):\n",
      " #   Column      Non-Null Count  Dtype         \n",
      "---  ------      --------------  -----         \n",
      " 0   Date        480 non-null    datetime64[ns]\n",
      " 1   StockPrice  480 non-null    float64       \n",
      "dtypes: datetime64[ns](1), float64(1)\n",
      "memory usage: 7.6 KB\n",
      "<class 'pandas.core.frame.DataFrame'>\n",
      "RangeIndex: 480 entries, 0 to 479\n",
      "Data columns (total 2 columns):\n",
      " #   Column      Non-Null Count  Dtype         \n",
      "---  ------      --------------  -----         \n",
      " 0   Date        480 non-null    datetime64[ns]\n",
      " 1   StockPrice  480 non-null    float64       \n",
      "dtypes: datetime64[ns](1), float64(1)\n",
      "memory usage: 7.6 KB\n",
      "<class 'pandas.core.frame.DataFrame'>\n",
      "RangeIndex: 480 entries, 0 to 479\n",
      "Data columns (total 2 columns):\n",
      " #   Column      Non-Null Count  Dtype         \n",
      "---  ------      --------------  -----         \n",
      " 0   Date        480 non-null    datetime64[ns]\n",
      " 1   StockPrice  480 non-null    float64       \n",
      "dtypes: datetime64[ns](1), float64(1)\n",
      "memory usage: 7.6 KB\n",
      "<class 'pandas.core.frame.DataFrame'>\n",
      "RangeIndex: 480 entries, 0 to 479\n",
      "Data columns (total 2 columns):\n",
      " #   Column      Non-Null Count  Dtype         \n",
      "---  ------      --------------  -----         \n",
      " 0   Date        480 non-null    datetime64[ns]\n",
      " 1   StockPrice  480 non-null    float64       \n",
      "dtypes: datetime64[ns](1), float64(1)\n",
      "memory usage: 7.6 KB\n",
      "<class 'pandas.core.frame.DataFrame'>\n",
      "RangeIndex: 480 entries, 0 to 479\n",
      "Data columns (total 2 columns):\n",
      " #   Column      Non-Null Count  Dtype         \n",
      "---  ------      --------------  -----         \n",
      " 0   Date        480 non-null    datetime64[ns]\n",
      " 1   StockPrice  480 non-null    float64       \n",
      "dtypes: datetime64[ns](1), float64(1)\n",
      "memory usage: 7.6 KB\n"
     ]
    }
   ],
   "source": [
    "# Checking Date field has changed to datetime data type for all files and non-null count is as same as before.\n",
    "IBM.info()\n",
    "GE.info()\n",
    "ProcterGamble.info()\n",
    "CocaCola.info()\n",
    "Boeing.info()"
   ]
  },
  {
   "cell_type": "markdown",
   "metadata": {},
   "source": [
    "## Warm-up Questions"
   ]
  },
  {
   "cell_type": "code",
   "execution_count": 83,
   "metadata": {},
   "outputs": [
    {
     "name": "stdout",
     "output_type": "stream",
     "text": [
      "(480, 2)\n",
      "(480, 2)\n",
      "(480, 2)\n",
      "(480, 2)\n",
      "(480, 2)\n"
     ]
    }
   ],
   "source": [
    "print(IBM.shape)\n",
    "print(GE.shape)\n",
    "print(ProcterGamble.shape)\n",
    "print(CocaCola.shape)\n",
    "print(Boeing.shape)"
   ]
  },
  {
   "cell_type": "markdown",
   "metadata": {},
   "source": [
    "### 1. How many rows of data are in each dataset? Each dataset has 480 rows and 2 columns."
   ]
  },
  {
   "cell_type": "code",
   "execution_count": 88,
   "metadata": {},
   "outputs": [
    {
     "name": "stdout",
     "output_type": "stream",
     "text": [
      "1971-01-01 00:00:00\n",
      "2070-12-01 00:00:00\n"
     ]
    }
   ],
   "source": [
    "print (IBM['Date'].min())\n",
    "print (IBM['Date'].max())"
   ]
  },
  {
   "cell_type": "code",
   "execution_count": 89,
   "metadata": {},
   "outputs": [
    {
     "name": "stdout",
     "output_type": "stream",
     "text": [
      "1971-01-01 00:00:00\n",
      "2070-12-01 00:00:00\n"
     ]
    }
   ],
   "source": [
    "print (GE['Date'].min())\n",
    "print (GE['Date'].max())"
   ]
  },
  {
   "cell_type": "code",
   "execution_count": 90,
   "metadata": {},
   "outputs": [
    {
     "name": "stdout",
     "output_type": "stream",
     "text": [
      "1971-01-01 00:00:00\n",
      "2070-12-01 00:00:00\n"
     ]
    }
   ],
   "source": [
    "print (ProcterGamble['Date'].min())\n",
    "print (ProcterGamble['Date'].max())"
   ]
  },
  {
   "cell_type": "code",
   "execution_count": 91,
   "metadata": {},
   "outputs": [
    {
     "name": "stdout",
     "output_type": "stream",
     "text": [
      "1971-01-01 00:00:00\n",
      "2070-12-01 00:00:00\n"
     ]
    }
   ],
   "source": [
    "print (CocaCola['Date'].min())\n",
    "print (CocaCola['Date'].max())"
   ]
  },
  {
   "cell_type": "code",
   "execution_count": 92,
   "metadata": {},
   "outputs": [
    {
     "name": "stdout",
     "output_type": "stream",
     "text": [
      "1971-01-01 00:00:00\n",
      "2070-12-01 00:00:00\n"
     ]
    }
   ],
   "source": [
    "print (Boeing['Date'].min())\n",
    "print (Boeing['Date'].max())"
   ]
  },
  {
   "cell_type": "markdown",
   "metadata": {},
   "source": [
    "### 2. What is the earliest/latest year in our datasets? The earliest is Jan 1, 1971 and the latest is Dec 1, 2070 across all five datasets."
   ]
  },
  {
   "cell_type": "code",
   "execution_count": 95,
   "metadata": {},
   "outputs": [
    {
     "data": {
      "text/html": [
       "<div>\n",
       "<style scoped>\n",
       "    .dataframe tbody tr th:only-of-type {\n",
       "        vertical-align: middle;\n",
       "    }\n",
       "\n",
       "    .dataframe tbody tr th {\n",
       "        vertical-align: top;\n",
       "    }\n",
       "\n",
       "    .dataframe thead th {\n",
       "        text-align: right;\n",
       "    }\n",
       "</style>\n",
       "<table border=\"1\" class=\"dataframe\">\n",
       "  <thead>\n",
       "    <tr style=\"text-align: right;\">\n",
       "      <th></th>\n",
       "      <th>StockPrice</th>\n",
       "    </tr>\n",
       "  </thead>\n",
       "  <tbody>\n",
       "    <tr>\n",
       "      <th>count</th>\n",
       "      <td>480.000000</td>\n",
       "    </tr>\n",
       "    <tr>\n",
       "      <th>mean</th>\n",
       "      <td>60.029730</td>\n",
       "    </tr>\n",
       "    <tr>\n",
       "      <th>std</th>\n",
       "      <td>25.166291</td>\n",
       "    </tr>\n",
       "    <tr>\n",
       "      <th>min</th>\n",
       "      <td>30.057143</td>\n",
       "    </tr>\n",
       "    <tr>\n",
       "      <th>25%</th>\n",
       "      <td>42.755595</td>\n",
       "    </tr>\n",
       "    <tr>\n",
       "      <th>50%</th>\n",
       "      <td>51.436988</td>\n",
       "    </tr>\n",
       "    <tr>\n",
       "      <th>75%</th>\n",
       "      <td>69.617192</td>\n",
       "    </tr>\n",
       "    <tr>\n",
       "      <th>max</th>\n",
       "      <td>146.584286</td>\n",
       "    </tr>\n",
       "  </tbody>\n",
       "</table>\n",
       "</div>"
      ],
      "text/plain": [
       "       StockPrice\n",
       "count  480.000000\n",
       "mean    60.029730\n",
       "std     25.166291\n",
       "min     30.057143\n",
       "25%     42.755595\n",
       "50%     51.436988\n",
       "75%     69.617192\n",
       "max    146.584286"
      ]
     },
     "execution_count": 95,
     "metadata": {},
     "output_type": "execute_result"
    }
   ],
   "source": [
    "CocaCola.describe()"
   ]
  },
  {
   "cell_type": "markdown",
   "metadata": {},
   "source": [
    "### 3. For the period above what is the average stock price of Coca Cola? The average stock price for CocaCola between Jan 1, 1972 and Dec 1, 2070 was $60.03."
   ]
  },
  {
   "cell_type": "code",
   "execution_count": 97,
   "metadata": {},
   "outputs": [
    {
     "data": {
      "text/html": [
       "<div>\n",
       "<style scoped>\n",
       "    .dataframe tbody tr th:only-of-type {\n",
       "        vertical-align: middle;\n",
       "    }\n",
       "\n",
       "    .dataframe tbody tr th {\n",
       "        vertical-align: top;\n",
       "    }\n",
       "\n",
       "    .dataframe thead th {\n",
       "        text-align: right;\n",
       "    }\n",
       "</style>\n",
       "<table border=\"1\" class=\"dataframe\">\n",
       "  <thead>\n",
       "    <tr style=\"text-align: right;\">\n",
       "      <th></th>\n",
       "      <th>StockPrice</th>\n",
       "    </tr>\n",
       "  </thead>\n",
       "  <tbody>\n",
       "    <tr>\n",
       "      <th>count</th>\n",
       "      <td>480.000000</td>\n",
       "    </tr>\n",
       "    <tr>\n",
       "      <th>mean</th>\n",
       "      <td>144.375030</td>\n",
       "    </tr>\n",
       "    <tr>\n",
       "      <th>std</th>\n",
       "      <td>87.822078</td>\n",
       "    </tr>\n",
       "    <tr>\n",
       "      <th>min</th>\n",
       "      <td>43.395000</td>\n",
       "    </tr>\n",
       "    <tr>\n",
       "      <th>25%</th>\n",
       "      <td>88.343929</td>\n",
       "    </tr>\n",
       "    <tr>\n",
       "      <th>50%</th>\n",
       "      <td>112.114595</td>\n",
       "    </tr>\n",
       "    <tr>\n",
       "      <th>75%</th>\n",
       "      <td>165.407284</td>\n",
       "    </tr>\n",
       "    <tr>\n",
       "      <th>max</th>\n",
       "      <td>438.901579</td>\n",
       "    </tr>\n",
       "  </tbody>\n",
       "</table>\n",
       "</div>"
      ],
      "text/plain": [
       "       StockPrice\n",
       "count  480.000000\n",
       "mean   144.375030\n",
       "std     87.822078\n",
       "min     43.395000\n",
       "25%     88.343929\n",
       "50%    112.114595\n",
       "75%    165.407284\n",
       "max    438.901579"
      ]
     },
     "execution_count": 97,
     "metadata": {},
     "output_type": "execute_result"
    }
   ],
   "source": [
    "IBM.describe()"
   ]
  },
  {
   "cell_type": "markdown",
   "metadata": {},
   "source": [
    "### 4. What is the maximum price of IBM during this period? The maximum stock price of IBM between Jan 1, 1972 and Dec 1, 2070 was $438.90."
   ]
  },
  {
   "cell_type": "code",
   "execution_count": 99,
   "metadata": {},
   "outputs": [
    {
     "data": {
      "text/html": [
       "<div>\n",
       "<style scoped>\n",
       "    .dataframe tbody tr th:only-of-type {\n",
       "        vertical-align: middle;\n",
       "    }\n",
       "\n",
       "    .dataframe tbody tr th {\n",
       "        vertical-align: top;\n",
       "    }\n",
       "\n",
       "    .dataframe thead th {\n",
       "        text-align: right;\n",
       "    }\n",
       "</style>\n",
       "<table border=\"1\" class=\"dataframe\">\n",
       "  <thead>\n",
       "    <tr style=\"text-align: right;\">\n",
       "      <th></th>\n",
       "      <th>StockPrice</th>\n",
       "    </tr>\n",
       "  </thead>\n",
       "  <tbody>\n",
       "    <tr>\n",
       "      <th>count</th>\n",
       "      <td>480.000000</td>\n",
       "    </tr>\n",
       "    <tr>\n",
       "      <th>mean</th>\n",
       "      <td>77.704516</td>\n",
       "    </tr>\n",
       "    <tr>\n",
       "      <th>std</th>\n",
       "      <td>18.194140</td>\n",
       "    </tr>\n",
       "    <tr>\n",
       "      <th>min</th>\n",
       "      <td>46.884545</td>\n",
       "    </tr>\n",
       "    <tr>\n",
       "      <th>25%</th>\n",
       "      <td>62.478663</td>\n",
       "    </tr>\n",
       "    <tr>\n",
       "      <th>50%</th>\n",
       "      <td>78.336077</td>\n",
       "    </tr>\n",
       "    <tr>\n",
       "      <th>75%</th>\n",
       "      <td>89.468375</td>\n",
       "    </tr>\n",
       "    <tr>\n",
       "      <th>max</th>\n",
       "      <td>149.620000</td>\n",
       "    </tr>\n",
       "  </tbody>\n",
       "</table>\n",
       "</div>"
      ],
      "text/plain": [
       "       StockPrice\n",
       "count  480.000000\n",
       "mean    77.704516\n",
       "std     18.194140\n",
       "min     46.884545\n",
       "25%     62.478663\n",
       "50%     78.336077\n",
       "75%     89.468375\n",
       "max    149.620000"
      ]
     },
     "execution_count": 99,
     "metadata": {},
     "output_type": "execute_result"
    }
   ],
   "source": [
    "ProcterGamble.describe()"
   ]
  },
  {
   "cell_type": "markdown",
   "metadata": {},
   "source": [
    "### 5. What is the standard deviation of P&G stock price over this period? The standard deviation of Procter Gamble's stock price between Jan 1, 1972 and Dec 1, 2070 is $18.19."
   ]
  },
  {
   "cell_type": "code",
   "execution_count": 176,
   "metadata": {},
   "outputs": [],
   "source": [
    "Boeing_5 = Boeing.loc[(Boeing['Date'] > '2006-01-01')]"
   ]
  },
  {
   "cell_type": "code",
   "execution_count": 177,
   "metadata": {},
   "outputs": [
    {
     "name": "stdout",
     "output_type": "stream",
     "text": [
      "          Date  StockPrice\n",
      "0   2070-01-01   27.853810\n",
      "1   2070-02-01   22.381053\n",
      "2   2070-03-01   23.105238\n",
      "3   2070-04-01   21.571364\n",
      "4   2070-05-01   18.932857\n",
      "5   2070-06-01   15.443182\n",
      "6   2070-07-01   13.655909\n",
      "7   2070-08-01   13.335238\n",
      "8   2070-09-01   17.389524\n",
      "9   2070-10-01   15.909545\n",
      "10  2070-11-01   13.970500\n",
      "11  2070-12-01   14.354545\n",
      "433 2006-02-01   72.302632\n",
      "434 2006-03-01   76.002174\n",
      "435 2006-04-01   82.433158\n",
      "436 2006-05-01   85.459091\n",
      "437 2006-06-01   82.855455\n",
      "438 2006-07-01   80.296500\n",
      "439 2006-08-01   77.126087\n",
      "440 2006-09-01   75.903000\n",
      "441 2006-10-01   82.009545\n",
      "442 2006-11-01   86.007143\n",
      "443 2006-12-01   89.869000\n",
      "444 2007-01-01   87.861500\n",
      "445 2007-02-01   90.054737\n",
      "446 2007-03-01   89.499545\n",
      "447 2007-04-01   91.834500\n",
      "448 2007-05-01   95.412727\n",
      "449 2007-06-01   97.576667\n",
      "450 2007-07-01  101.848571\n",
      "451 2007-08-01   99.260000\n",
      "452 2007-09-01   99.316842\n",
      "453 2007-10-01   98.906522\n",
      "454 2007-11-01   93.348571\n",
      "455 2007-12-01   89.671000\n",
      "456 2008-01-01   80.816667\n",
      "457 2008-02-01   83.077000\n",
      "458 2008-03-01   76.258000\n",
      "459 2008-04-01   78.725000\n",
      "460 2008-05-01   84.421429\n",
      "461 2008-06-01   74.699524\n",
      "462 2008-07-01   65.036818\n",
      "463 2008-08-01   64.333810\n",
      "464 2008-09-01   60.943810\n",
      "465 2008-10-01   47.598696\n",
      "466 2008-11-01   43.694737\n",
      "467 2008-12-01   40.473636\n",
      "468 2009-01-01   42.991000\n",
      "469 2009-02-01   38.953158\n",
      "470 2009-03-01   33.240455\n",
      "471 2009-04-01   37.531905\n",
      "472 2009-05-01   43.563500\n",
      "473 2009-06-01   47.968636\n",
      "474 2009-07-01   41.482727\n",
      "475 2009-08-01   45.994286\n",
      "476 2009-09-01   51.362857\n",
      "477 2009-10-01   51.159091\n",
      "478 2009-11-01   50.696500\n",
      "479 2009-12-01   55.028636\n"
     ]
    }
   ],
   "source": [
    "print(Boeing_5)"
   ]
  },
  {
   "cell_type": "code",
   "execution_count": 178,
   "metadata": {},
   "outputs": [
    {
     "data": {
      "text/plain": [
       "65.03681818"
      ]
     },
     "execution_count": 178,
     "metadata": {},
     "output_type": "execute_result"
    }
   ],
   "source": [
    "Boeing_5['StockPrice'].median()"
   ]
  },
  {
   "cell_type": "markdown",
   "metadata": {},
   "source": [
    "### 6. What is the median price of Boeing in the last 5 years for which we have data? For Boeing we have data for the last five years of 2006, 2007, 2008, 2009 and 2070; the median stock price for these years is $65.04."
   ]
  },
  {
   "cell_type": "markdown",
   "metadata": {},
   "source": [
    "## Basic Plotting Questions"
   ]
  },
  {
   "cell_type": "code",
   "execution_count": 196,
   "metadata": {},
   "outputs": [],
   "source": [
    "import matplotlib.pyplot as plt\n",
    "from matplotlib import rcParams\n",
    "import seaborn as sb"
   ]
  },
  {
   "cell_type": "code",
   "execution_count": 203,
   "metadata": {},
   "outputs": [
    {
     "data": {
      "image/png": "[encoded data removed]",
      "text/plain": [
       "<Figure size 432x288 with 1 Axes>"
      ]
     },
     "metadata": {
      "needs_background": "light"
     },
     "output_type": "display_data"
    }
   ],
   "source": [
    "CocaCola.plot(x = 'Date', y = 'StockPrice', kind = 'line')\n",
    "plt.title ('CocoCola Stock Price')\n",
    "plt.show()"
   ]
  },
  {
   "cell_type": "code",
   "execution_count": null,
   "metadata": {},
   "outputs": [],
   "source": []
  },
  {
   "cell_type": "code",
   "execution_count": null,
   "metadata": {},
   "outputs": [],
   "source": []
  }
 ],
 "metadata": {
  "kernelspec": {
   "display_name": "Python 3",
   "language": "python",
   "name": "python3"
  },
  "language_info": {
   "codemirror_mode": {
    "name": "ipython",
    "version": 3
   },
   "file_extension": ".py",
   "mimetype": "text/x-python",
   "name": "python",
   "nbconvert_exporter": "python",
   "pygments_lexer": "ipython3",
   "version": "3.8.5"
  }
 },
 "nbformat": 4,
 "nbformat_minor": 4
}
