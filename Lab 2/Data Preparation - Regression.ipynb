{
 "cells": [
  {
   "cell_type": "markdown",
   "metadata": {},
   "source": [
    "## <i>Data Preparation - Regression</i>"
   ]
  },
  {
   "cell_type": "code",
   "execution_count": 195,
   "metadata": {},
   "outputs": [],
   "source": [
    "%matplotlib inline\n",
    "import numpy as np\n",
    "import pandas as pd\n",
    "import seaborn as sb\n",
    "import matplotlib.pyplot as plt "
   ]
  },
  {
   "cell_type": "code",
   "execution_count": 196,
   "metadata": {},
   "outputs": [],
   "source": [
    "df = pd.read_csv('KSI.csv')"
   ]
  },
  {
   "cell_type": "code",
   "execution_count": 197,
   "metadata": {},
   "outputs": [
    {
     "data": {
      "text/html": [
       "<div>\n",
       "<style scoped>\n",
       "    .dataframe tbody tr th:only-of-type {\n",
       "        vertical-align: middle;\n",
       "    }\n",
       "\n",
       "    .dataframe tbody tr th {\n",
       "        vertical-align: top;\n",
       "    }\n",
       "\n",
       "    .dataframe thead th {\n",
       "        text-align: right;\n",
       "    }\n",
       "</style>\n",
       "<table border=\"1\" class=\"dataframe\">\n",
       "  <thead>\n",
       "    <tr style=\"text-align: right;\">\n",
       "      <th></th>\n",
       "      <th>X</th>\n",
       "      <th>Y</th>\n",
       "      <th>Index_</th>\n",
       "      <th>ACCNUM</th>\n",
       "      <th>YEAR</th>\n",
       "      <th>DATE</th>\n",
       "      <th>TIME</th>\n",
       "      <th>HOUR</th>\n",
       "      <th>STREET1</th>\n",
       "      <th>STREET2</th>\n",
       "      <th>...</th>\n",
       "      <th>EMERG_VEH</th>\n",
       "      <th>PASSENGER</th>\n",
       "      <th>SPEEDING</th>\n",
       "      <th>AG_DRIV</th>\n",
       "      <th>REDLIGHT</th>\n",
       "      <th>ALCOHOL</th>\n",
       "      <th>DISABILITY</th>\n",
       "      <th>Hood_ID</th>\n",
       "      <th>Neighbourhood</th>\n",
       "      <th>ObjectId</th>\n",
       "    </tr>\n",
       "  </thead>\n",
       "  <tbody>\n",
       "    <tr>\n",
       "      <th>0</th>\n",
       "      <td>-8.829728e+06</td>\n",
       "      <td>5.419071e+06</td>\n",
       "      <td>3389067</td>\n",
       "      <td>893184</td>\n",
       "      <td>2006</td>\n",
       "      <td>2006/01/01 05:00:00+00</td>\n",
       "      <td>236</td>\n",
       "      <td>2</td>\n",
       "      <td>WOODBINE AVE</td>\n",
       "      <td>O CONNOR DR</td>\n",
       "      <td>...</td>\n",
       "      <td>NaN</td>\n",
       "      <td>Yes</td>\n",
       "      <td>Yes</td>\n",
       "      <td>Yes</td>\n",
       "      <td>NaN</td>\n",
       "      <td>Yes</td>\n",
       "      <td>NaN</td>\n",
       "      <td>60</td>\n",
       "      <td>Woodbine-Lumsden (60)</td>\n",
       "      <td>1</td>\n",
       "    </tr>\n",
       "    <tr>\n",
       "      <th>1</th>\n",
       "      <td>-8.829728e+06</td>\n",
       "      <td>5.419071e+06</td>\n",
       "      <td>3389068</td>\n",
       "      <td>893184</td>\n",
       "      <td>2006</td>\n",
       "      <td>2006/01/01 05:00:00+00</td>\n",
       "      <td>236</td>\n",
       "      <td>2</td>\n",
       "      <td>WOODBINE AVE</td>\n",
       "      <td>O CONNOR DR</td>\n",
       "      <td>...</td>\n",
       "      <td>NaN</td>\n",
       "      <td>Yes</td>\n",
       "      <td>Yes</td>\n",
       "      <td>Yes</td>\n",
       "      <td>NaN</td>\n",
       "      <td>Yes</td>\n",
       "      <td>NaN</td>\n",
       "      <td>60</td>\n",
       "      <td>Woodbine-Lumsden (60)</td>\n",
       "      <td>2</td>\n",
       "    </tr>\n",
       "    <tr>\n",
       "      <th>2</th>\n",
       "      <td>-8.829728e+06</td>\n",
       "      <td>5.419071e+06</td>\n",
       "      <td>3389069</td>\n",
       "      <td>893184</td>\n",
       "      <td>2006</td>\n",
       "      <td>2006/01/01 05:00:00+00</td>\n",
       "      <td>236</td>\n",
       "      <td>2</td>\n",
       "      <td>WOODBINE AVE</td>\n",
       "      <td>O CONNOR DR</td>\n",
       "      <td>...</td>\n",
       "      <td>NaN</td>\n",
       "      <td>Yes</td>\n",
       "      <td>Yes</td>\n",
       "      <td>Yes</td>\n",
       "      <td>NaN</td>\n",
       "      <td>Yes</td>\n",
       "      <td>NaN</td>\n",
       "      <td>60</td>\n",
       "      <td>Woodbine-Lumsden (60)</td>\n",
       "      <td>3</td>\n",
       "    </tr>\n",
       "  </tbody>\n",
       "</table>\n",
       "<p>3 rows × 56 columns</p>\n",
       "</div>"
      ],
      "text/plain": [
       "              X             Y   Index_  ACCNUM  YEAR                    DATE  \\\n",
       "0 -8.829728e+06  5.419071e+06  3389067  893184  2006  2006/01/01 05:00:00+00   \n",
       "1 -8.829728e+06  5.419071e+06  3389068  893184  2006  2006/01/01 05:00:00+00   \n",
       "2 -8.829728e+06  5.419071e+06  3389069  893184  2006  2006/01/01 05:00:00+00   \n",
       "\n",
       "   TIME  HOUR       STREET1      STREET2  ... EMERG_VEH PASSENGER SPEEDING  \\\n",
       "0   236     2  WOODBINE AVE  O CONNOR DR  ...       NaN       Yes      Yes   \n",
       "1   236     2  WOODBINE AVE  O CONNOR DR  ...       NaN       Yes      Yes   \n",
       "2   236     2  WOODBINE AVE  O CONNOR DR  ...       NaN       Yes      Yes   \n",
       "\n",
       "   AG_DRIV  REDLIGHT  ALCOHOL  DISABILITY Hood_ID          Neighbourhood  \\\n",
       "0      Yes       NaN      Yes         NaN      60  Woodbine-Lumsden (60)   \n",
       "1      Yes       NaN      Yes         NaN      60  Woodbine-Lumsden (60)   \n",
       "2      Yes       NaN      Yes         NaN      60  Woodbine-Lumsden (60)   \n",
       "\n",
       "  ObjectId  \n",
       "0        1  \n",
       "1        2  \n",
       "2        3  \n",
       "\n",
       "[3 rows x 56 columns]"
      ]
     },
     "execution_count": 197,
     "metadata": {},
     "output_type": "execute_result"
    }
   ],
   "source": [
    "df.head(3)"
   ]
  },
  {
   "cell_type": "code",
   "execution_count": 198,
   "metadata": {},
   "outputs": [
    {
     "name": "stdout",
     "output_type": "stream",
     "text": [
      "<class 'pandas.core.frame.DataFrame'>\n",
      "RangeIndex: 16093 entries, 0 to 16092\n",
      "Data columns (total 56 columns):\n",
      " #   Column         Non-Null Count  Dtype  \n",
      "---  ------         --------------  -----  \n",
      " 0   X              16093 non-null  float64\n",
      " 1   Y              16093 non-null  float64\n",
      " 2   Index_         16093 non-null  int64  \n",
      " 3   ACCNUM         16093 non-null  int64  \n",
      " 4   YEAR           16093 non-null  int64  \n",
      " 5   DATE           16093 non-null  object \n",
      " 6   TIME           16093 non-null  int64  \n",
      " 7   HOUR           16093 non-null  int64  \n",
      " 8   STREET1        16093 non-null  object \n",
      " 9   STREET2        14698 non-null  object \n",
      " 10  OFFSET         2388 non-null   object \n",
      " 11  ROAD_CLASS     15725 non-null  object \n",
      " 12  District       16080 non-null  object \n",
      " 13  WardNum        13795 non-null  float64\n",
      " 14  Division       16093 non-null  int64  \n",
      " 15  LATITUDE       16093 non-null  float64\n",
      " 16  LONGITUDE      16093 non-null  float64\n",
      " 17  LOCCOORD       15963 non-null  object \n",
      " 18  ACCLOC         10643 non-null  object \n",
      " 19  TRAFFCTL       16064 non-null  object \n",
      " 20  VISIBILITY     16071 non-null  object \n",
      " 21  LIGHT          16093 non-null  object \n",
      " 22  RDSFCOND       16066 non-null  object \n",
      " 23  ACCLASS        16093 non-null  object \n",
      " 24  IMPACTYPE      16089 non-null  object \n",
      " 25  INVTYPE        16083 non-null  object \n",
      " 26  INVAGE         16093 non-null  object \n",
      " 27  INJURY         14484 non-null  object \n",
      " 28  FATAL_NO       673 non-null    float64\n",
      " 29  INITDIR        11257 non-null  object \n",
      " 30  VEHTYPE        13566 non-null  object \n",
      " 31  MANOEUVER      9141 non-null   object \n",
      " 32  DRIVACT        8032 non-null   object \n",
      " 33  DRIVCOND       8032 non-null   object \n",
      " 34  PEDTYPE        2570 non-null   object \n",
      " 35  PEDACT         2564 non-null   object \n",
      " 36  PEDCOND        2684 non-null   object \n",
      " 37  CYCLISTYPE     641 non-null    object \n",
      " 38  CYCACT         666 non-null    object \n",
      " 39  CYCCOND        665 non-null    object \n",
      " 40  PEDESTRIAN     6484 non-null   object \n",
      " 41  CYCLIST        1681 non-null   object \n",
      " 42  AUTOMOBILE     14632 non-null  object \n",
      " 43  MOTORCYCLE     1274 non-null   object \n",
      " 44  TRUCK          990 non-null    object \n",
      " 45  TRSN_CITY_VEH  982 non-null    object \n",
      " 46  EMERG_VEH      31 non-null     object \n",
      " 47  PASSENGER      6091 non-null   object \n",
      " 48  SPEEDING       2157 non-null   object \n",
      " 49  AG_DRIV        8306 non-null   object \n",
      " 50  REDLIGHT       1361 non-null   object \n",
      " 51  ALCOHOL        713 non-null    object \n",
      " 52  DISABILITY     450 non-null    object \n",
      " 53  Hood_ID        16093 non-null  int64  \n",
      " 54  Neighbourhood  16093 non-null  object \n",
      " 55  ObjectId       16093 non-null  int64  \n",
      "dtypes: float64(6), int64(8), object(42)\n",
      "memory usage: 6.9+ MB\n"
     ]
    }
   ],
   "source": [
    "df.info(verbose=True, null_counts=True)"
   ]
  },
  {
   "cell_type": "markdown",
   "metadata": {},
   "source": [
    "<i>We see that there are a total of 55 columns in our dataset, with varying levels of sample size. While certain features would be useful (such as SPEEDING, REDLIGHT, ALCOHOL) the sample sizes are drastically smaller than other features in this dataset. For this reason, the research group has elected to omit these from the feature selection process.\n",
    "\n",
    "We have identified that <b><font color = \"red\">INJURY TYPE</font></b> will be our target feature, as the business problem directly relates to investigating the factors determining what may constitute a serious or fatal injury.\n",
    "\n",
    "<b><u>SHAPE</u></b>: We can see that the shape of our dataset is 16,093 rows and 56 columns. The features consist of 6 float types, 8 integer types, and 42 object types.</i> "
   ]
  },
  {
   "cell_type": "code",
   "execution_count": 199,
   "metadata": {},
   "outputs": [
    {
     "data": {
      "text/html": [
       "<div>\n",
       "<style scoped>\n",
       "    .dataframe tbody tr th:only-of-type {\n",
       "        vertical-align: middle;\n",
       "    }\n",
       "\n",
       "    .dataframe tbody tr th {\n",
       "        vertical-align: top;\n",
       "    }\n",
       "\n",
       "    .dataframe thead th {\n",
       "        text-align: right;\n",
       "    }\n",
       "</style>\n",
       "<table border=\"1\" class=\"dataframe\">\n",
       "  <thead>\n",
       "    <tr style=\"text-align: right;\">\n",
       "      <th></th>\n",
       "      <th>count</th>\n",
       "      <th>mean</th>\n",
       "      <th>std</th>\n",
       "      <th>min</th>\n",
       "      <th>25%</th>\n",
       "      <th>50%</th>\n",
       "      <th>75%</th>\n",
       "      <th>max</th>\n",
       "    </tr>\n",
       "  </thead>\n",
       "  <tbody>\n",
       "    <tr>\n",
       "      <th>X</th>\n",
       "      <td>16093.0</td>\n",
       "      <td>-8.838289e+06</td>\n",
       "      <td>1.158697e+04</td>\n",
       "      <td>-8.865305e+06</td>\n",
       "      <td>-8.846374e+06</td>\n",
       "      <td>-8.838364e+06</td>\n",
       "      <td>-8.829647e+06</td>\n",
       "      <td>-8.808254e+06</td>\n",
       "    </tr>\n",
       "    <tr>\n",
       "      <th>Y</th>\n",
       "      <td>16093.0</td>\n",
       "      <td>5.420851e+06</td>\n",
       "      <td>8.675426e+03</td>\n",
       "      <td>5.402526e+06</td>\n",
       "      <td>5.413383e+06</td>\n",
       "      <td>5.419648e+06</td>\n",
       "      <td>5.427921e+06</td>\n",
       "      <td>5.443099e+06</td>\n",
       "    </tr>\n",
       "    <tr>\n",
       "      <th>Index_</th>\n",
       "      <td>16093.0</td>\n",
       "      <td>3.252283e+07</td>\n",
       "      <td>3.594367e+07</td>\n",
       "      <td>3.363207e+06</td>\n",
       "      <td>5.332810e+06</td>\n",
       "      <td>7.423775e+06</td>\n",
       "      <td>8.050395e+07</td>\n",
       "      <td>8.140853e+07</td>\n",
       "    </tr>\n",
       "    <tr>\n",
       "      <th>ACCNUM</th>\n",
       "      <td>16093.0</td>\n",
       "      <td>2.296710e+09</td>\n",
       "      <td>3.253387e+09</td>\n",
       "      <td>1.284070e+05</td>\n",
       "      <td>1.069209e+06</td>\n",
       "      <td>1.290852e+06</td>\n",
       "      <td>5.001873e+09</td>\n",
       "      <td>9.085345e+09</td>\n",
       "    </tr>\n",
       "    <tr>\n",
       "      <th>YEAR</th>\n",
       "      <td>16093.0</td>\n",
       "      <td>2.011896e+03</td>\n",
       "      <td>4.010676e+00</td>\n",
       "      <td>2.006000e+03</td>\n",
       "      <td>2.008000e+03</td>\n",
       "      <td>2.012000e+03</td>\n",
       "      <td>2.015000e+03</td>\n",
       "      <td>2.019000e+03</td>\n",
       "    </tr>\n",
       "    <tr>\n",
       "      <th>TIME</th>\n",
       "      <td>16093.0</td>\n",
       "      <td>1.348327e+03</td>\n",
       "      <td>6.306883e+02</td>\n",
       "      <td>0.000000e+00</td>\n",
       "      <td>9.070000e+02</td>\n",
       "      <td>1.440000e+03</td>\n",
       "      <td>1.840000e+03</td>\n",
       "      <td>2.359000e+03</td>\n",
       "    </tr>\n",
       "    <tr>\n",
       "      <th>HOUR</th>\n",
       "      <td>16093.0</td>\n",
       "      <td>1.331088e+01</td>\n",
       "      <td>6.123885e+00</td>\n",
       "      <td>0.000000e+00</td>\n",
       "      <td>9.000000e+00</td>\n",
       "      <td>1.400000e+01</td>\n",
       "      <td>1.800000e+01</td>\n",
       "      <td>2.300000e+01</td>\n",
       "    </tr>\n",
       "    <tr>\n",
       "      <th>WardNum</th>\n",
       "      <td>13795.0</td>\n",
       "      <td>1.209424e+01</td>\n",
       "      <td>7.283801e+00</td>\n",
       "      <td>1.000000e+00</td>\n",
       "      <td>6.000000e+00</td>\n",
       "      <td>1.100000e+01</td>\n",
       "      <td>1.900000e+01</td>\n",
       "      <td>2.500000e+01</td>\n",
       "    </tr>\n",
       "    <tr>\n",
       "      <th>Division</th>\n",
       "      <td>16093.0</td>\n",
       "      <td>3.422016e+01</td>\n",
       "      <td>1.454478e+01</td>\n",
       "      <td>1.100000e+01</td>\n",
       "      <td>2.200000e+01</td>\n",
       "      <td>3.300000e+01</td>\n",
       "      <td>4.300000e+01</td>\n",
       "      <td>5.500000e+01</td>\n",
       "    </tr>\n",
       "    <tr>\n",
       "      <th>LATITUDE</th>\n",
       "      <td>16093.0</td>\n",
       "      <td>4.371113e+01</td>\n",
       "      <td>5.632519e-02</td>\n",
       "      <td>4.359205e+01</td>\n",
       "      <td>4.366264e+01</td>\n",
       "      <td>4.370334e+01</td>\n",
       "      <td>4.375704e+01</td>\n",
       "      <td>4.385545e+01</td>\n",
       "    </tr>\n",
       "    <tr>\n",
       "      <th>LONGITUDE</th>\n",
       "      <td>16093.0</td>\n",
       "      <td>-7.939570e+01</td>\n",
       "      <td>1.040876e-01</td>\n",
       "      <td>-7.963839e+01</td>\n",
       "      <td>-7.946833e+01</td>\n",
       "      <td>-7.939637e+01</td>\n",
       "      <td>-7.931807e+01</td>\n",
       "      <td>-7.912590e+01</td>\n",
       "    </tr>\n",
       "    <tr>\n",
       "      <th>FATAL_NO</th>\n",
       "      <td>673.0</td>\n",
       "      <td>2.983061e+01</td>\n",
       "      <td>1.820504e+01</td>\n",
       "      <td>1.000000e+00</td>\n",
       "      <td>1.500000e+01</td>\n",
       "      <td>2.900000e+01</td>\n",
       "      <td>4.300000e+01</td>\n",
       "      <td>7.800000e+01</td>\n",
       "    </tr>\n",
       "    <tr>\n",
       "      <th>Hood_ID</th>\n",
       "      <td>16093.0</td>\n",
       "      <td>7.399565e+01</td>\n",
       "      <td>4.138429e+01</td>\n",
       "      <td>1.000000e+00</td>\n",
       "      <td>3.900000e+01</td>\n",
       "      <td>7.700000e+01</td>\n",
       "      <td>1.120000e+02</td>\n",
       "      <td>1.400000e+02</td>\n",
       "    </tr>\n",
       "    <tr>\n",
       "      <th>ObjectId</th>\n",
       "      <td>16093.0</td>\n",
       "      <td>8.047000e+03</td>\n",
       "      <td>4.645793e+03</td>\n",
       "      <td>1.000000e+00</td>\n",
       "      <td>4.024000e+03</td>\n",
       "      <td>8.047000e+03</td>\n",
       "      <td>1.207000e+04</td>\n",
       "      <td>1.609300e+04</td>\n",
       "    </tr>\n",
       "  </tbody>\n",
       "</table>\n",
       "</div>"
      ],
      "text/plain": [
       "             count          mean           std           min           25%  \\\n",
       "X          16093.0 -8.838289e+06  1.158697e+04 -8.865305e+06 -8.846374e+06   \n",
       "Y          16093.0  5.420851e+06  8.675426e+03  5.402526e+06  5.413383e+06   \n",
       "Index_     16093.0  3.252283e+07  3.594367e+07  3.363207e+06  5.332810e+06   \n",
       "ACCNUM     16093.0  2.296710e+09  3.253387e+09  1.284070e+05  1.069209e+06   \n",
       "YEAR       16093.0  2.011896e+03  4.010676e+00  2.006000e+03  2.008000e+03   \n",
       "TIME       16093.0  1.348327e+03  6.306883e+02  0.000000e+00  9.070000e+02   \n",
       "HOUR       16093.0  1.331088e+01  6.123885e+00  0.000000e+00  9.000000e+00   \n",
       "WardNum    13795.0  1.209424e+01  7.283801e+00  1.000000e+00  6.000000e+00   \n",
       "Division   16093.0  3.422016e+01  1.454478e+01  1.100000e+01  2.200000e+01   \n",
       "LATITUDE   16093.0  4.371113e+01  5.632519e-02  4.359205e+01  4.366264e+01   \n",
       "LONGITUDE  16093.0 -7.939570e+01  1.040876e-01 -7.963839e+01 -7.946833e+01   \n",
       "FATAL_NO     673.0  2.983061e+01  1.820504e+01  1.000000e+00  1.500000e+01   \n",
       "Hood_ID    16093.0  7.399565e+01  4.138429e+01  1.000000e+00  3.900000e+01   \n",
       "ObjectId   16093.0  8.047000e+03  4.645793e+03  1.000000e+00  4.024000e+03   \n",
       "\n",
       "                    50%           75%           max  \n",
       "X         -8.838364e+06 -8.829647e+06 -8.808254e+06  \n",
       "Y          5.419648e+06  5.427921e+06  5.443099e+06  \n",
       "Index_     7.423775e+06  8.050395e+07  8.140853e+07  \n",
       "ACCNUM     1.290852e+06  5.001873e+09  9.085345e+09  \n",
       "YEAR       2.012000e+03  2.015000e+03  2.019000e+03  \n",
       "TIME       1.440000e+03  1.840000e+03  2.359000e+03  \n",
       "HOUR       1.400000e+01  1.800000e+01  2.300000e+01  \n",
       "WardNum    1.100000e+01  1.900000e+01  2.500000e+01  \n",
       "Division   3.300000e+01  4.300000e+01  5.500000e+01  \n",
       "LATITUDE   4.370334e+01  4.375704e+01  4.385545e+01  \n",
       "LONGITUDE -7.939637e+01 -7.931807e+01 -7.912590e+01  \n",
       "FATAL_NO   2.900000e+01  4.300000e+01  7.800000e+01  \n",
       "Hood_ID    7.700000e+01  1.120000e+02  1.400000e+02  \n",
       "ObjectId   8.047000e+03  1.207000e+04  1.609300e+04  "
      ]
     },
     "execution_count": 199,
     "metadata": {},
     "output_type": "execute_result"
    }
   ],
   "source": [
    "df.describe().T"
   ]
  },
  {
   "cell_type": "markdown",
   "metadata": {},
   "source": [
    "<i>Unfortunately using the <b>.describe()</b> function is not useful at this stage as our features of interest are categorical in nature and therefore consists of string data."
   ]
  },
  {
   "cell_type": "markdown",
   "metadata": {},
   "source": [
    "### <i>Addressing Found Issues</i>\n",
    "\n",
    "As illustrated in the Exploration phase, the following columns must be set on a numerical scale for the purposes of regression modelling:\n",
    "\n",
    "    ROAD_CLASS\n",
    "    TRAFFCTRL\n",
    "    VISIBILITY\n",
    "    LIGHT\n",
    "    RDSFCOND\n",
    "    INVTYPE\n",
    "    INVAGE\n",
    "    INJURY\n",
    "    VEHTYPE\n",
    "    DRIVCOND\n",
    "\n",
    "For regression purposes and to ensure our regression models are easily manageable, the group has elected to grade the classes within each feature on a scale, to be described below."
   ]
  },
  {
   "cell_type": "code",
   "execution_count": 200,
   "metadata": {},
   "outputs": [],
   "source": [
    "# First, let's duplicate the original df dataframe for classification so to ensure the main frame is intact.\n",
    "df_reg = df.copy()"
   ]
  },
  {
   "cell_type": "code",
   "execution_count": 201,
   "metadata": {},
   "outputs": [
    {
     "data": {
      "text/html": [
       "<div>\n",
       "<style scoped>\n",
       "    .dataframe tbody tr th:only-of-type {\n",
       "        vertical-align: middle;\n",
       "    }\n",
       "\n",
       "    .dataframe tbody tr th {\n",
       "        vertical-align: top;\n",
       "    }\n",
       "\n",
       "    .dataframe thead th {\n",
       "        text-align: right;\n",
       "    }\n",
       "</style>\n",
       "<table border=\"1\" class=\"dataframe\">\n",
       "  <thead>\n",
       "    <tr style=\"text-align: right;\">\n",
       "      <th></th>\n",
       "      <th>X</th>\n",
       "      <th>Y</th>\n",
       "      <th>Index_</th>\n",
       "      <th>ACCNUM</th>\n",
       "      <th>YEAR</th>\n",
       "      <th>DATE</th>\n",
       "      <th>TIME</th>\n",
       "      <th>HOUR</th>\n",
       "      <th>STREET1</th>\n",
       "      <th>STREET2</th>\n",
       "      <th>...</th>\n",
       "      <th>EMERG_VEH</th>\n",
       "      <th>PASSENGER</th>\n",
       "      <th>SPEEDING</th>\n",
       "      <th>AG_DRIV</th>\n",
       "      <th>REDLIGHT</th>\n",
       "      <th>ALCOHOL</th>\n",
       "      <th>DISABILITY</th>\n",
       "      <th>Hood_ID</th>\n",
       "      <th>Neighbourhood</th>\n",
       "      <th>ObjectId</th>\n",
       "    </tr>\n",
       "  </thead>\n",
       "  <tbody>\n",
       "    <tr>\n",
       "      <th>0</th>\n",
       "      <td>-8.829728e+06</td>\n",
       "      <td>5.419071e+06</td>\n",
       "      <td>3389067</td>\n",
       "      <td>893184</td>\n",
       "      <td>2006</td>\n",
       "      <td>2006/01/01 05:00:00+00</td>\n",
       "      <td>236</td>\n",
       "      <td>2</td>\n",
       "      <td>WOODBINE AVE</td>\n",
       "      <td>O CONNOR DR</td>\n",
       "      <td>...</td>\n",
       "      <td>NaN</td>\n",
       "      <td>Yes</td>\n",
       "      <td>Yes</td>\n",
       "      <td>Yes</td>\n",
       "      <td>NaN</td>\n",
       "      <td>Yes</td>\n",
       "      <td>NaN</td>\n",
       "      <td>60</td>\n",
       "      <td>Woodbine-Lumsden (60)</td>\n",
       "      <td>1</td>\n",
       "    </tr>\n",
       "    <tr>\n",
       "      <th>1</th>\n",
       "      <td>-8.829728e+06</td>\n",
       "      <td>5.419071e+06</td>\n",
       "      <td>3389068</td>\n",
       "      <td>893184</td>\n",
       "      <td>2006</td>\n",
       "      <td>2006/01/01 05:00:00+00</td>\n",
       "      <td>236</td>\n",
       "      <td>2</td>\n",
       "      <td>WOODBINE AVE</td>\n",
       "      <td>O CONNOR DR</td>\n",
       "      <td>...</td>\n",
       "      <td>NaN</td>\n",
       "      <td>Yes</td>\n",
       "      <td>Yes</td>\n",
       "      <td>Yes</td>\n",
       "      <td>NaN</td>\n",
       "      <td>Yes</td>\n",
       "      <td>NaN</td>\n",
       "      <td>60</td>\n",
       "      <td>Woodbine-Lumsden (60)</td>\n",
       "      <td>2</td>\n",
       "    </tr>\n",
       "    <tr>\n",
       "      <th>2</th>\n",
       "      <td>-8.829728e+06</td>\n",
       "      <td>5.419071e+06</td>\n",
       "      <td>3389069</td>\n",
       "      <td>893184</td>\n",
       "      <td>2006</td>\n",
       "      <td>2006/01/01 05:00:00+00</td>\n",
       "      <td>236</td>\n",
       "      <td>2</td>\n",
       "      <td>WOODBINE AVE</td>\n",
       "      <td>O CONNOR DR</td>\n",
       "      <td>...</td>\n",
       "      <td>NaN</td>\n",
       "      <td>Yes</td>\n",
       "      <td>Yes</td>\n",
       "      <td>Yes</td>\n",
       "      <td>NaN</td>\n",
       "      <td>Yes</td>\n",
       "      <td>NaN</td>\n",
       "      <td>60</td>\n",
       "      <td>Woodbine-Lumsden (60)</td>\n",
       "      <td>3</td>\n",
       "    </tr>\n",
       "  </tbody>\n",
       "</table>\n",
       "<p>3 rows × 56 columns</p>\n",
       "</div>"
      ],
      "text/plain": [
       "              X             Y   Index_  ACCNUM  YEAR                    DATE  \\\n",
       "0 -8.829728e+06  5.419071e+06  3389067  893184  2006  2006/01/01 05:00:00+00   \n",
       "1 -8.829728e+06  5.419071e+06  3389068  893184  2006  2006/01/01 05:00:00+00   \n",
       "2 -8.829728e+06  5.419071e+06  3389069  893184  2006  2006/01/01 05:00:00+00   \n",
       "\n",
       "   TIME  HOUR       STREET1      STREET2  ... EMERG_VEH PASSENGER SPEEDING  \\\n",
       "0   236     2  WOODBINE AVE  O CONNOR DR  ...       NaN       Yes      Yes   \n",
       "1   236     2  WOODBINE AVE  O CONNOR DR  ...       NaN       Yes      Yes   \n",
       "2   236     2  WOODBINE AVE  O CONNOR DR  ...       NaN       Yes      Yes   \n",
       "\n",
       "   AG_DRIV  REDLIGHT  ALCOHOL  DISABILITY Hood_ID          Neighbourhood  \\\n",
       "0      Yes       NaN      Yes         NaN      60  Woodbine-Lumsden (60)   \n",
       "1      Yes       NaN      Yes         NaN      60  Woodbine-Lumsden (60)   \n",
       "2      Yes       NaN      Yes         NaN      60  Woodbine-Lumsden (60)   \n",
       "\n",
       "  ObjectId  \n",
       "0        1  \n",
       "1        2  \n",
       "2        3  \n",
       "\n",
       "[3 rows x 56 columns]"
      ]
     },
     "execution_count": 201,
     "metadata": {},
     "output_type": "execute_result"
    }
   ],
   "source": [
    "df_reg.head(3)"
   ]
  },
  {
   "cell_type": "code",
   "execution_count": 202,
   "metadata": {},
   "outputs": [
    {
     "data": {
      "text/html": [
       "<div>\n",
       "<style scoped>\n",
       "    .dataframe tbody tr th:only-of-type {\n",
       "        vertical-align: middle;\n",
       "    }\n",
       "\n",
       "    .dataframe tbody tr th {\n",
       "        vertical-align: top;\n",
       "    }\n",
       "\n",
       "    .dataframe thead th {\n",
       "        text-align: right;\n",
       "    }\n",
       "</style>\n",
       "<table border=\"1\" class=\"dataframe\">\n",
       "  <thead>\n",
       "    <tr style=\"text-align: right;\">\n",
       "      <th></th>\n",
       "      <th>X</th>\n",
       "      <th>Y</th>\n",
       "      <th>Index_</th>\n",
       "      <th>ACCNUM</th>\n",
       "      <th>YEAR</th>\n",
       "      <th>DATE</th>\n",
       "      <th>TIME</th>\n",
       "      <th>HOUR</th>\n",
       "      <th>STREET1</th>\n",
       "      <th>STREET2</th>\n",
       "      <th>...</th>\n",
       "      <th>EMERG_VEH</th>\n",
       "      <th>PASSENGER</th>\n",
       "      <th>SPEEDING</th>\n",
       "      <th>AG_DRIV</th>\n",
       "      <th>REDLIGHT</th>\n",
       "      <th>ALCOHOL</th>\n",
       "      <th>DISABILITY</th>\n",
       "      <th>Hood_ID</th>\n",
       "      <th>Neighbourhood</th>\n",
       "      <th>ObjectId</th>\n",
       "    </tr>\n",
       "  </thead>\n",
       "  <tbody>\n",
       "    <tr>\n",
       "      <th>16090</th>\n",
       "      <td>-8.837083e+06</td>\n",
       "      <td>5.412746e+06</td>\n",
       "      <td>81340413</td>\n",
       "      <td>9002500260</td>\n",
       "      <td>2019</td>\n",
       "      <td>2019/12/28 05:00:00+00</td>\n",
       "      <td>1514</td>\n",
       "      <td>15</td>\n",
       "      <td>GERRARD ST</td>\n",
       "      <td>BAY ST</td>\n",
       "      <td>...</td>\n",
       "      <td>NaN</td>\n",
       "      <td>NaN</td>\n",
       "      <td>NaN</td>\n",
       "      <td>Yes</td>\n",
       "      <td>Yes</td>\n",
       "      <td>NaN</td>\n",
       "      <td>NaN</td>\n",
       "      <td>76</td>\n",
       "      <td>Bay Street Corridor (76)</td>\n",
       "      <td>16091</td>\n",
       "    </tr>\n",
       "    <tr>\n",
       "      <th>16091</th>\n",
       "      <td>-8.837083e+06</td>\n",
       "      <td>5.412746e+06</td>\n",
       "      <td>81340414</td>\n",
       "      <td>9002500260</td>\n",
       "      <td>2019</td>\n",
       "      <td>2019/12/28 05:00:00+00</td>\n",
       "      <td>1514</td>\n",
       "      <td>15</td>\n",
       "      <td>GERRARD ST</td>\n",
       "      <td>BAY ST</td>\n",
       "      <td>...</td>\n",
       "      <td>NaN</td>\n",
       "      <td>NaN</td>\n",
       "      <td>NaN</td>\n",
       "      <td>Yes</td>\n",
       "      <td>Yes</td>\n",
       "      <td>NaN</td>\n",
       "      <td>NaN</td>\n",
       "      <td>76</td>\n",
       "      <td>Bay Street Corridor (76)</td>\n",
       "      <td>16092</td>\n",
       "    </tr>\n",
       "    <tr>\n",
       "      <th>16092</th>\n",
       "      <td>-8.837083e+06</td>\n",
       "      <td>5.412746e+06</td>\n",
       "      <td>81340415</td>\n",
       "      <td>9002500260</td>\n",
       "      <td>2019</td>\n",
       "      <td>2019/12/28 05:00:00+00</td>\n",
       "      <td>1514</td>\n",
       "      <td>15</td>\n",
       "      <td>GERRARD ST</td>\n",
       "      <td>BAY ST</td>\n",
       "      <td>...</td>\n",
       "      <td>NaN</td>\n",
       "      <td>NaN</td>\n",
       "      <td>NaN</td>\n",
       "      <td>Yes</td>\n",
       "      <td>Yes</td>\n",
       "      <td>NaN</td>\n",
       "      <td>NaN</td>\n",
       "      <td>76</td>\n",
       "      <td>Bay Street Corridor (76)</td>\n",
       "      <td>16093</td>\n",
       "    </tr>\n",
       "  </tbody>\n",
       "</table>\n",
       "<p>3 rows × 56 columns</p>\n",
       "</div>"
      ],
      "text/plain": [
       "                  X             Y    Index_      ACCNUM  YEAR  \\\n",
       "16090 -8.837083e+06  5.412746e+06  81340413  9002500260  2019   \n",
       "16091 -8.837083e+06  5.412746e+06  81340414  9002500260  2019   \n",
       "16092 -8.837083e+06  5.412746e+06  81340415  9002500260  2019   \n",
       "\n",
       "                         DATE  TIME  HOUR     STREET1 STREET2  ... EMERG_VEH  \\\n",
       "16090  2019/12/28 05:00:00+00  1514    15  GERRARD ST  BAY ST  ...       NaN   \n",
       "16091  2019/12/28 05:00:00+00  1514    15  GERRARD ST  BAY ST  ...       NaN   \n",
       "16092  2019/12/28 05:00:00+00  1514    15  GERRARD ST  BAY ST  ...       NaN   \n",
       "\n",
       "      PASSENGER SPEEDING  AG_DRIV  REDLIGHT  ALCOHOL  DISABILITY Hood_ID  \\\n",
       "16090       NaN      NaN      Yes       Yes      NaN         NaN      76   \n",
       "16091       NaN      NaN      Yes       Yes      NaN         NaN      76   \n",
       "16092       NaN      NaN      Yes       Yes      NaN         NaN      76   \n",
       "\n",
       "                  Neighbourhood ObjectId  \n",
       "16090  Bay Street Corridor (76)    16091  \n",
       "16091  Bay Street Corridor (76)    16092  \n",
       "16092  Bay Street Corridor (76)    16093  \n",
       "\n",
       "[3 rows x 56 columns]"
      ]
     },
     "execution_count": 202,
     "metadata": {},
     "output_type": "execute_result"
    }
   ],
   "source": [
    "df_reg.tail(3)"
   ]
  },
  {
   "attachments": {
    "image.png": {
     "image/png": "[encoded data removed]"
    }
   },
   "cell_type": "markdown",
   "metadata": {},
   "source": [
    "<i>Great, all of our rows appear in our new regression dataframe. Now let's work on the scaling.</i>\n",
    "\n",
    "#### <i>INJURY\n",
    "\n",
    "The INJURY feature will be graded based on the severity of the impact of injury, with 5 being the most severe (Fatal) and 1 being the least (None):\n",
    "    \n",
    "![image.png](attachment:image.png)"
   ]
  },
  {
   "cell_type": "code",
   "execution_count": 203,
   "metadata": {},
   "outputs": [
    {
     "data": {
      "text/plain": [
       "0        4\n",
       "1        3\n",
       "2        3\n",
       "3        3\n",
       "4        3\n",
       "        ..\n",
       "16088    1\n",
       "16089    4\n",
       "16090    1\n",
       "16091    1\n",
       "16092    4\n",
       "Name: INJURY, Length: 16093, dtype: object"
      ]
     },
     "execution_count": 203,
     "metadata": {},
     "output_type": "execute_result"
    }
   ],
   "source": [
    "# Creating a dictionary of replacement values\n",
    "df_reg['INJURY'].replace({'Fatal': '5', 'Major': '4', 'Minor': '3', 'Minimal': '2', 'None': '1'})"
   ]
  },
  {
   "cell_type": "code",
   "execution_count": 204,
   "metadata": {},
   "outputs": [],
   "source": [
    "# Passing the dictionary of replacement values into the Series replace method\n",
    "df_reg['INJURY']=df_reg['INJURY'].replace({'Fatal': '5', 'Major': '4', 'Minor': '3', 'Minimal': '2', 'None': '1'})"
   ]
  },
  {
   "cell_type": "code",
   "execution_count": 205,
   "metadata": {
    "scrolled": true
   },
   "outputs": [
    {
     "name": "stdout",
     "output_type": "stream",
     "text": [
      "INJURY\n",
      "1    6068\n",
      "2     996\n",
      "3    1264\n",
      "4    5375\n",
      "5     781\n",
      "dtype: int64\n"
     ]
    }
   ],
   "source": [
    "print(df_reg.groupby(\"INJURY\").size())"
   ]
  },
  {
   "cell_type": "markdown",
   "metadata": {},
   "source": [
    "<i>Our feature is now reclassified. Let's make sure it contains the same amount of rows.</i>"
   ]
  },
  {
   "cell_type": "code",
   "execution_count": 206,
   "metadata": {},
   "outputs": [
    {
     "name": "stdout",
     "output_type": "stream",
     "text": [
      "INJURY\n",
      "Fatal       781\n",
      "Major      5375\n",
      "Minimal     996\n",
      "Minor      1264\n",
      "None       6068\n",
      "dtype: int64\n"
     ]
    }
   ],
   "source": [
    "print(df.groupby(\"INJURY\").size())"
   ]
  },
  {
   "cell_type": "markdown",
   "metadata": {},
   "source": [
    "<i>Perfect! All records are included in our reclassification for INJURY.</i>"
   ]
  },
  {
   "attachments": {
    "image.png": {
     "image/png": "[encoded data removed]"
    }
   },
   "cell_type": "markdown",
   "metadata": {},
   "source": [
    "#### <i>ROAD_CLASS\n",
    "\n",
    "The ROAD_CLASS feature will be graded based on the road class's speed and traffic on a level from 9 to 0, with 9 being the busiest (Expressway) and 0 being the least, or inconsequential for our purposes (Other, Pending):\n",
    "\n",
    "![image.png](attachment:image.png)"
   ]
  },
  {
   "cell_type": "code",
   "execution_count": 207,
   "metadata": {},
   "outputs": [
    {
     "data": {
      "text/plain": [
       "0        8\n",
       "1        8\n",
       "2        8\n",
       "3        8\n",
       "4        8\n",
       "        ..\n",
       "16088    8\n",
       "16089    8\n",
       "16090    8\n",
       "16091    8\n",
       "16092    8\n",
       "Name: ROAD_CLASS, Length: 16093, dtype: object"
      ]
     },
     "execution_count": 207,
     "metadata": {},
     "output_type": "execute_result"
    }
   ],
   "source": [
    "# Creating a dictionary of replacement values\n",
    "df_reg['ROAD_CLASS'].replace({'Expressway': '9', 'Major Arterial': '8', 'Major Arterial Ramp': '7', 'Minor Arterial': '6', 'Local': '5', 'Collector': '4', 'Laneway': '3', 'Other': '0', 'Pending': '0'})"
   ]
  },
  {
   "cell_type": "code",
   "execution_count": 208,
   "metadata": {},
   "outputs": [],
   "source": [
    "# Passing the dictionary of replacement values into the Series replace method\n",
    "df_reg['ROAD_CLASS']=df_reg['ROAD_CLASS'].replace({'Expressway': '9', 'Major Arterial': '8', 'Major Arterial Ramp': '7', 'Minor Arterial': '6', 'Local': '5', 'Collector': '4', 'Laneway': '3', 'Other': '0', 'Pending': '0'})"
   ]
  },
  {
   "cell_type": "code",
   "execution_count": 209,
   "metadata": {
    "scrolled": true
   },
   "outputs": [
    {
     "name": "stdout",
     "output_type": "stream",
     "text": [
      "ROAD_CLASS\n",
      "0       46\n",
      "3       10\n",
      "4      900\n",
      "5      727\n",
      "6     2462\n",
      "7        1\n",
      "8    11555\n",
      "9       24\n",
      "dtype: int64\n"
     ]
    }
   ],
   "source": [
    "print(df_reg.groupby(\"ROAD_CLASS\").size())"
   ]
  },
  {
   "cell_type": "markdown",
   "metadata": {},
   "source": [
    "<i>Our feature is now reclassified. Let's make sure it contains the same amount of rows.</i>"
   ]
  },
  {
   "cell_type": "code",
   "execution_count": 210,
   "metadata": {},
   "outputs": [
    {
     "data": {
      "text/plain": [
       "15725"
      ]
     },
     "execution_count": 210,
     "metadata": {},
     "output_type": "execute_result"
    }
   ],
   "source": [
    "46+10+900+727+2462+1+11555+24"
   ]
  },
  {
   "cell_type": "code",
   "execution_count": 211,
   "metadata": {},
   "outputs": [
    {
     "name": "stdout",
     "output_type": "stream",
     "text": [
      "ROAD_CLASS\n",
      "Collector                900\n",
      "Expressway                24\n",
      "Laneway                   10\n",
      "Local                    727\n",
      "Major Arterial         11555\n",
      "Major Arterial Ramp        1\n",
      "Minor Arterial          2462\n",
      "Other                     33\n",
      "Pending                   13\n",
      "dtype: int64\n"
     ]
    }
   ],
   "source": [
    "print(df.groupby(\"ROAD_CLASS\").size())"
   ]
  },
  {
   "cell_type": "code",
   "execution_count": 212,
   "metadata": {},
   "outputs": [
    {
     "data": {
      "text/plain": [
       "15725"
      ]
     },
     "execution_count": 212,
     "metadata": {},
     "output_type": "execute_result"
    }
   ],
   "source": [
    "900+24+10+727+11555+1+2462+33+13"
   ]
  },
  {
   "cell_type": "markdown",
   "metadata": {},
   "source": [
    "<i>Perfect! All records are included in our reclassification for ROAD_CLASS.</i>"
   ]
  },
  {
   "attachments": {
    "image.png": {
     "image/png": "[encoded data removed]"
    }
   },
   "cell_type": "markdown",
   "metadata": {},
   "source": [
    "#### <i>TRAFFCTL\n",
    "\n",
    "    The TRAFFCTL (Traffic Control) feature will be graded based on the control's level security on a scale from 11 to 1, with 11 being the highest control (Traffic Gate) and 1 being the least (No Control):\n",
    "\n",
    "![image.png](attachment:image.png)"
   ]
  },
  {
   "cell_type": "code",
   "execution_count": 213,
   "metadata": {},
   "outputs": [
    {
     "data": {
      "text/plain": [
       "0        1\n",
       "1        1\n",
       "2        1\n",
       "3        1\n",
       "4        1\n",
       "        ..\n",
       "16088    1\n",
       "16089    1\n",
       "16090    9\n",
       "16091    9\n",
       "16092    9\n",
       "Name: TRAFFCTL, Length: 16093, dtype: object"
      ]
     },
     "execution_count": 213,
     "metadata": {},
     "output_type": "execute_result"
    }
   ],
   "source": [
    "# Creating a dictionary of replacement values\n",
    "df_reg['TRAFFCTL'].replace({'Traffic Gate': '11', 'Police Control': '10', 'Traffic Signal': '9', 'Traffic Controller': '8', 'School Guard': '8', 'Stop Sign': '7', 'Streetcar (Stop for)': '7', 'Pedestrian Crossover': '6', 'Yield Sign': '5', 'PXO - No Ped': '2', 'No Control': '1'})"
   ]
  },
  {
   "cell_type": "code",
   "execution_count": 214,
   "metadata": {},
   "outputs": [],
   "source": [
    "# Passing the dictionary of replacement values into the Series replace method\n",
    "df_reg['TRAFFCTL']=df_reg['TRAFFCTL'].replace({'Traffic Gate': '11', 'Police Control': '10', 'Traffic Signal': '9', 'Traffic Controller': '8', 'School Guard': '8', 'Stop Sign': '7', 'Streetcar (Stop for)': '7', 'Pedestrian Crossover': '6', 'Yield Sign': '5', 'PXO - No Ped': '2', 'No Control': '1'})"
   ]
  },
  {
   "cell_type": "code",
   "execution_count": 215,
   "metadata": {},
   "outputs": [
    {
     "name": "stdout",
     "output_type": "stream",
     "text": [
      "TRAFFCTL\n",
      "1     7692\n",
      "10       2\n",
      "11       5\n",
      "2        2\n",
      "5       13\n",
      "6      189\n",
      "7     1288\n",
      "8      102\n",
      "9     6771\n",
      "dtype: int64\n"
     ]
    }
   ],
   "source": [
    "print(df_reg.groupby(\"TRAFFCTL\").size())"
   ]
  },
  {
   "cell_type": "markdown",
   "metadata": {},
   "source": [
    "<i>Our feature is now fully reclassified. Let's make sure it contains the same amount of rows.</i>"
   ]
  },
  {
   "cell_type": "code",
   "execution_count": 216,
   "metadata": {},
   "outputs": [
    {
     "data": {
      "text/plain": [
       "16064"
      ]
     },
     "execution_count": 216,
     "metadata": {},
     "output_type": "execute_result"
    }
   ],
   "source": [
    "7692+2+5+2+13+189+1288+102+6771"
   ]
  },
  {
   "cell_type": "code",
   "execution_count": 217,
   "metadata": {},
   "outputs": [
    {
     "name": "stdout",
     "output_type": "stream",
     "text": [
      "TRAFFCTL\n",
      "No Control              7692\n",
      "PXO - No Ped               2\n",
      "Pedestrian Crossover     189\n",
      "Police Control             2\n",
      "School Guard               2\n",
      "Stop Sign               1272\n",
      "Streetcar (Stop for)      16\n",
      "Traffic Controller       100\n",
      "Traffic Gate               5\n",
      "Traffic Signal          6771\n",
      "Yield Sign                13\n",
      "dtype: int64\n"
     ]
    }
   ],
   "source": [
    "print(df.groupby(\"TRAFFCTL\").size())"
   ]
  },
  {
   "cell_type": "code",
   "execution_count": 218,
   "metadata": {},
   "outputs": [
    {
     "data": {
      "text/plain": [
       "16064"
      ]
     },
     "execution_count": 218,
     "metadata": {},
     "output_type": "execute_result"
    }
   ],
   "source": [
    "7692+2+189+2+2+1272+16+100+5+6771+13"
   ]
  },
  {
   "cell_type": "markdown",
   "metadata": {},
   "source": [
    "<i>Perfect! All records are included in our reclassification for TRAFFCTL.</i>"
   ]
  },
  {
   "attachments": {
    "image.png": {
     "image/png": "[encoded data removed]"
    }
   },
   "cell_type": "markdown",
   "metadata": {},
   "source": [
    "#### <i>VISIBILITY\n",
    "\n",
    "The VISIBILITY feature will be graded on a level from 9 to 0, with 9 being the least visible (Drifting Snow) and 0 being the least, or inconsequential for our purposes (Other):\n",
    "\n",
    "![image.png](attachment:image.png)"
   ]
  },
  {
   "cell_type": "code",
   "execution_count": 219,
   "metadata": {},
   "outputs": [
    {
     "data": {
      "text/plain": [
       "0        1\n",
       "1        1\n",
       "2        1\n",
       "3        1\n",
       "4        1\n",
       "        ..\n",
       "16088    1\n",
       "16089    1\n",
       "16090    1\n",
       "16091    1\n",
       "16092    1\n",
       "Name: VISIBILITY, Length: 16093, dtype: object"
      ]
     },
     "execution_count": 219,
     "metadata": {},
     "output_type": "execute_result"
    }
   ],
   "source": [
    "# Creating a dictionary of replacement values\n",
    "df_reg['VISIBILITY'].replace({'Drifting Snow': '7', 'Freezing Rain': '6', 'Snow': '5', 'Fog, Mist, Smoke, Dust': '5', 'Rain': '4', 'Strong wind': '3', 'Clear': '1', 'Other': '0'})"
   ]
  },
  {
   "cell_type": "code",
   "execution_count": 220,
   "metadata": {},
   "outputs": [],
   "source": [
    "# Passing the dictionary of replacement values into the Series replace method\n",
    "df_reg['VISIBILITY']=df_reg['VISIBILITY'].replace({'Drifting Snow': '7', 'Freezing Rain': '6', 'Snow': '5', 'Fog, Mist, Smoke, Dust': '5', 'Rain': '4', 'Strong wind': '3', 'Clear': '1', 'Other': '0'})"
   ]
  },
  {
   "cell_type": "code",
   "execution_count": 221,
   "metadata": {
    "scrolled": true
   },
   "outputs": [
    {
     "name": "stdout",
     "output_type": "stream",
     "text": [
      "VISIBILITY\n",
      "0       99\n",
      "1    13814\n",
      "3        8\n",
      "4     1711\n",
      "5      377\n",
      "6       43\n",
      "7       19\n",
      "dtype: int64\n"
     ]
    }
   ],
   "source": [
    "print(df_reg.groupby(\"VISIBILITY\").size())"
   ]
  },
  {
   "cell_type": "markdown",
   "metadata": {},
   "source": [
    "<i>Our feature is now reclassified. Let's make sure it contains the same amount of rows.</i>"
   ]
  },
  {
   "cell_type": "code",
   "execution_count": 222,
   "metadata": {},
   "outputs": [
    {
     "data": {
      "text/plain": [
       "16071"
      ]
     },
     "execution_count": 222,
     "metadata": {},
     "output_type": "execute_result"
    }
   ],
   "source": [
    "99+13814+8+1711+377+43+19"
   ]
  },
  {
   "cell_type": "code",
   "execution_count": 223,
   "metadata": {},
   "outputs": [
    {
     "name": "stdout",
     "output_type": "stream",
     "text": [
      "VISIBILITY\n",
      "Clear                     13814\n",
      "Drifting Snow                19\n",
      "Fog, Mist, Smoke, Dust       44\n",
      "Freezing Rain                43\n",
      "Other                        99\n",
      "Rain                       1711\n",
      "Snow                        333\n",
      "Strong wind                   8\n",
      "dtype: int64\n"
     ]
    }
   ],
   "source": [
    "print(df.groupby(\"VISIBILITY\").size())"
   ]
  },
  {
   "cell_type": "code",
   "execution_count": 224,
   "metadata": {},
   "outputs": [
    {
     "data": {
      "text/plain": [
       "16071"
      ]
     },
     "execution_count": 224,
     "metadata": {},
     "output_type": "execute_result"
    }
   ],
   "source": [
    "13814+19+44+43+99+1711+333+8"
   ]
  },
  {
   "cell_type": "markdown",
   "metadata": {},
   "source": [
    "<i>Perfect! All records are included in our reclassification for VISIBILITY.</i>"
   ]
  },
  {
   "attachments": {
    "image.png": {
     "image/png": "[encoded data removed]"
    }
   },
   "cell_type": "markdown",
   "metadata": {},
   "source": [
    "#### <i>LIGHT\n",
    "\n",
    "The LIGHT feature will be graded on a level from 6 to 0, with 9 being the darkest (Dark) and 0 being the least, or inconsequential for our purposes (Other):\n",
    "\n",
    "![image.png](attachment:image.png)"
   ]
  },
  {
   "cell_type": "code",
   "execution_count": 225,
   "metadata": {},
   "outputs": [
    {
     "data": {
      "text/plain": [
       "0        6\n",
       "1        6\n",
       "2        6\n",
       "3        6\n",
       "4        6\n",
       "        ..\n",
       "16088    5\n",
       "16089    5\n",
       "16090    2\n",
       "16091    2\n",
       "16092    2\n",
       "Name: LIGHT, Length: 16093, dtype: object"
      ]
     },
     "execution_count": 225,
     "metadata": {},
     "output_type": "execute_result"
    }
   ],
   "source": [
    "# Creating a dictionary of replacement values\n",
    "df_reg['LIGHT'].replace({'Dark': '6', 'Dark, artificial': '5', 'Dusk': '4', 'Dawn': '4', 'Dusk, artificial': '3', 'Dawn, artificial': '3', 'Daylight': '2', 'Daylight, artificial': '1', 'Other': '0'})"
   ]
  },
  {
   "cell_type": "code",
   "execution_count": 226,
   "metadata": {},
   "outputs": [],
   "source": [
    "# Passing the dictionary of replacement values into the Series replace method\n",
    "df_reg['LIGHT']=df_reg['LIGHT'].replace({'Dark': '6', 'Dark, artificial': '5', 'Dusk': '4', 'Dawn': '4', 'Dusk, artificial': '3', 'Dawn, artificial': '3', 'Daylight': '2', 'Daylight, artificial': '1', 'Other': '0'})"
   ]
  },
  {
   "cell_type": "code",
   "execution_count": 227,
   "metadata": {},
   "outputs": [
    {
     "name": "stdout",
     "output_type": "stream",
     "text": [
      "LIGHT\n",
      "0       6\n",
      "1     124\n",
      "2    9255\n",
      "3     251\n",
      "4     323\n",
      "5    2609\n",
      "6    3525\n",
      "dtype: int64\n"
     ]
    }
   ],
   "source": [
    "print(df_reg.groupby(\"LIGHT\").size())"
   ]
  },
  {
   "cell_type": "markdown",
   "metadata": {},
   "source": [
    "<i>Our feature is now reclassified. Let's make sure it contains the same amount of rows.</i>"
   ]
  },
  {
   "cell_type": "code",
   "execution_count": 228,
   "metadata": {},
   "outputs": [
    {
     "data": {
      "text/plain": [
       "16093"
      ]
     },
     "execution_count": 228,
     "metadata": {},
     "output_type": "execute_result"
    }
   ],
   "source": [
    "6+124+9255+251+323+2609+3525"
   ]
  },
  {
   "cell_type": "code",
   "execution_count": 229,
   "metadata": {},
   "outputs": [
    {
     "name": "stdout",
     "output_type": "stream",
     "text": [
      "LIGHT\n",
      "Dark                    3525\n",
      "Dark, artificial        2609\n",
      "Dawn                     102\n",
      "Dawn, artificial          85\n",
      "Daylight                9255\n",
      "Daylight, artificial     124\n",
      "Dusk                     221\n",
      "Dusk, artificial         166\n",
      "Other                      6\n",
      "dtype: int64\n"
     ]
    }
   ],
   "source": [
    "print(df.groupby(\"LIGHT\").size())"
   ]
  },
  {
   "cell_type": "code",
   "execution_count": 230,
   "metadata": {},
   "outputs": [
    {
     "data": {
      "text/plain": [
       "16093"
      ]
     },
     "execution_count": 230,
     "metadata": {},
     "output_type": "execute_result"
    }
   ],
   "source": [
    "3525+2609+102+85+9255+124+221+166+6"
   ]
  },
  {
   "cell_type": "markdown",
   "metadata": {},
   "source": [
    "<i>Perfect! All records are included in our reclassification for LIGHT.</i>"
   ]
  },
  {
   "attachments": {
    "image.png": {
     "image/png": "[encoded data removed]"
    }
   },
   "cell_type": "markdown",
   "metadata": {},
   "source": [
    "#### <i>RDSFCOND\n",
    "\n",
    "The RDSFCOND (Road Surface Condition) feature will be graded based on the danger of the road condition on a level from 8 to 0, with 8 being the most dangerous (Ice) and 0 being the least, or inconsequential for our purposes (Other):\n",
    "\n",
    "![image.png](attachment:image.png)"
   ]
  },
  {
   "cell_type": "code",
   "execution_count": 231,
   "metadata": {},
   "outputs": [
    {
     "data": {
      "text/plain": [
       "0        3\n",
       "1        3\n",
       "2        3\n",
       "3        3\n",
       "4        3\n",
       "        ..\n",
       "16088    1\n",
       "16089    1\n",
       "16090    1\n",
       "16091    1\n",
       "16092    1\n",
       "Name: RDSFCOND, Length: 16093, dtype: object"
      ]
     },
     "execution_count": 231,
     "metadata": {},
     "output_type": "execute_result"
    }
   ],
   "source": [
    "# Creating a dictionary of replacement values\n",
    "df_reg['RDSFCOND'].replace({'Ice': '8', 'Packed Snow': '7', 'Slush': '6', 'Loose Snow': '6', 'Spilled liquid': '5', 'Loose Sand or Gravel': '4', 'Wet': '3', 'Dry': '1', 'Other': '0'})"
   ]
  },
  {
   "cell_type": "code",
   "execution_count": 232,
   "metadata": {},
   "outputs": [],
   "source": [
    "# Passing the dictionary of replacement values into the Series replace method\n",
    "df_reg['RDSFCOND']=df_reg['RDSFCOND'].replace({'Ice': '8', 'Packed Snow': '7', 'Slush': '6', 'Loose Snow': '6', 'Spilled liquid': '5', 'Loose Sand or Gravel': '4', 'Wet': '3', 'Dry': '1', 'Other': '0'})"
   ]
  },
  {
   "cell_type": "code",
   "execution_count": 233,
   "metadata": {},
   "outputs": [
    {
     "name": "stdout",
     "output_type": "stream",
     "text": [
      "RDSFCOND\n",
      "0      147\n",
      "1    12820\n",
      "3     2718\n",
      "4        7\n",
      "5        1\n",
      "6      258\n",
      "7       42\n",
      "8       73\n",
      "dtype: int64\n"
     ]
    }
   ],
   "source": [
    "print(df_reg.groupby(\"RDSFCOND\").size())"
   ]
  },
  {
   "cell_type": "markdown",
   "metadata": {},
   "source": [
    "<i>Our feature is now reclassified. Let's make sure it contains the same amount of rows.</i>"
   ]
  },
  {
   "cell_type": "code",
   "execution_count": 234,
   "metadata": {},
   "outputs": [
    {
     "data": {
      "text/plain": [
       "16066"
      ]
     },
     "execution_count": 234,
     "metadata": {},
     "output_type": "execute_result"
    }
   ],
   "source": [
    "147+12820+2718+7+1+258+42+73"
   ]
  },
  {
   "cell_type": "code",
   "execution_count": 235,
   "metadata": {},
   "outputs": [
    {
     "name": "stdout",
     "output_type": "stream",
     "text": [
      "RDSFCOND\n",
      "Dry                     12820\n",
      "Ice                        73\n",
      "Loose Sand or Gravel        7\n",
      "Loose Snow                162\n",
      "Other                     147\n",
      "Packed Snow                42\n",
      "Slush                      96\n",
      "Spilled liquid              1\n",
      "Wet                      2718\n",
      "dtype: int64\n"
     ]
    }
   ],
   "source": [
    "print(df.groupby(\"RDSFCOND\").size())"
   ]
  },
  {
   "cell_type": "code",
   "execution_count": 236,
   "metadata": {},
   "outputs": [
    {
     "data": {
      "text/plain": [
       "16066"
      ]
     },
     "execution_count": 236,
     "metadata": {},
     "output_type": "execute_result"
    }
   ],
   "source": [
    "12820+73+7+162+147+42+96+1+2718"
   ]
  },
  {
   "cell_type": "markdown",
   "metadata": {},
   "source": [
    "<i>Perfect! All records are included in our reclassification for RDSFCOND.</i>"
   ]
  },
  {
   "attachments": {
    "image.png": {
     "image/png": "[encoded data removed]"
    }
   },
   "cell_type": "markdown",
   "metadata": {},
   "source": [
    "#### <i>INVTYPE\n",
    "\n",
    "The INVTYPE (Involvement Type) feature will be graded based on the accident party's vulnerability for serious injury on a scale from 8 to 0, with 8 being the most vulnerable (Wheelchair) and 0 being the least, or inconsequential for our purposes (Other, Other Property Owner):\n",
    "\n",
    "![image.png](attachment:image.png)"
   ]
  },
  {
   "cell_type": "code",
   "execution_count": 237,
   "metadata": {},
   "outputs": [
    {
     "data": {
      "text/plain": [
       "0        2\n",
       "1        2\n",
       "2        2\n",
       "3        2\n",
       "4        2\n",
       "        ..\n",
       "16088    2\n",
       "16089    7\n",
       "16090    2\n",
       "16091    2\n",
       "16092    7\n",
       "Name: INVTYPE, Length: 16093, dtype: object"
      ]
     },
     "execution_count": 237,
     "metadata": {},
     "output_type": "execute_result"
    }
   ],
   "source": [
    "# Creating a dictionary of replacement values\n",
    "df_reg['INVTYPE'].replace({'Wheelchair': '8', 'Pedestrian': '7', 'Pedestrian - Not Hit': '7', 'Witness': '7', 'Cyclist': '6', 'In-Line Skater': '6', 'Cyclist Passenger': '6', 'Motorcycle Driver': '5', 'Motorcycle Passenger': '5', 'Moped Driver': '5', 'Passenger': '2', 'Driver': '2', 'Vehicle Owner': '2', 'Driver - Not Hit': '2', 'Truck Driver': '1', 'Trailer Owner': '1', 'Other Property Owner': '0', 'Other': '0'})"
   ]
  },
  {
   "cell_type": "code",
   "execution_count": 238,
   "metadata": {},
   "outputs": [],
   "source": [
    "# Passing the dictionary of replacement values into the Series replace method\n",
    "df_reg['INVTYPE']=df_reg['INVTYPE'].replace({'Wheelchair': '8', 'Pedestrian': '7', 'Pedestrian - Not Hit': '7', 'Witness': '7', 'Cyclist': '6', 'In-Line Skater': '6', 'Cyclist Passenger': '6', 'Motorcycle Driver': '5', 'Motorcycle Passenger': '5', 'Moped Driver': '5', 'Passenger': '2', 'Driver': '2', 'Vehicle Owner': '2', 'Driver - Not Hit': '2', 'Truck Driver': '1', 'Trailer Owner': '1', 'Other Property Owner': '0', 'Other': '0'})"
   ]
  },
  {
   "cell_type": "code",
   "execution_count": 239,
   "metadata": {},
   "outputs": [
    {
     "name": "stdout",
     "output_type": "stream",
     "text": [
      "INVTYPE\n",
      "0      414\n",
      "1      299\n",
      "2    11341\n",
      "5      608\n",
      "6      691\n",
      "7     2717\n",
      "8       13\n",
      "dtype: int64\n"
     ]
    }
   ],
   "source": [
    "print(df_reg.groupby(\"INVTYPE\").size())"
   ]
  },
  {
   "cell_type": "markdown",
   "metadata": {},
   "source": [
    "<i>Our feature is now reclassified. Let's make sure it contains the same amount of rows.</i>"
   ]
  },
  {
   "cell_type": "code",
   "execution_count": 240,
   "metadata": {},
   "outputs": [
    {
     "data": {
      "text/plain": [
       "16083"
      ]
     },
     "execution_count": 240,
     "metadata": {},
     "output_type": "execute_result"
    }
   ],
   "source": [
    "414+299+11341+608+691+2717+13"
   ]
  },
  {
   "cell_type": "code",
   "execution_count": 241,
   "metadata": {},
   "outputs": [
    {
     "name": "stdout",
     "output_type": "stream",
     "text": [
      "INVTYPE\n",
      "Cyclist                  684\n",
      "Cyclist Passenger          2\n",
      "Driver                  7263\n",
      "Driver - Not Hit          16\n",
      "In-Line Skater             5\n",
      "Moped Driver              27\n",
      "Motorcycle Driver        551\n",
      "Motorcycle Passenger      30\n",
      "Other                    157\n",
      "Other Property Owner     257\n",
      "Passenger               2426\n",
      "Pedestrian              2715\n",
      "Pedestrian - Not Hit       1\n",
      "Trailer Owner              2\n",
      "Truck Driver             297\n",
      "Vehicle Owner           1636\n",
      "Wheelchair                13\n",
      "Witness                    1\n",
      "dtype: int64\n"
     ]
    }
   ],
   "source": [
    "print(df.groupby(\"INVTYPE\").size())"
   ]
  },
  {
   "cell_type": "code",
   "execution_count": 242,
   "metadata": {},
   "outputs": [
    {
     "data": {
      "text/plain": [
       "16083"
      ]
     },
     "execution_count": 242,
     "metadata": {},
     "output_type": "execute_result"
    }
   ],
   "source": [
    "(7263+16+2426+297+1636)+(684+2+27+551+30)+(5+2715+1+13)+(157+257+2+1)"
   ]
  },
  {
   "cell_type": "markdown",
   "metadata": {},
   "source": [
    "<i>Perfect! All records are included in our reclassification for INVTYPE.</i>"
   ]
  },
  {
   "attachments": {
    "image.png": {
     "image/png": "[encoded data removed]"
    }
   },
   "cell_type": "markdown",
   "metadata": {},
   "source": [
    "#### <i>INVAGE\n",
    "\n",
    "The INVAGE (Involved Age) feature will be graded based on the individual's age on a scale from 20 to 0, with 20 being the oldest (Over 95) and 0 being the least, or inconsequential for our purposes (unknown):\n",
    "\n",
    "![image.png](attachment:image.png)"
   ]
  },
  {
   "cell_type": "code",
   "execution_count": 243,
   "metadata": {},
   "outputs": [
    {
     "data": {
      "text/plain": [
       "0        11\n",
       "1         4\n",
       "2        12\n",
       "3         5\n",
       "4         4\n",
       "         ..\n",
       "16088     5\n",
       "16089     3\n",
       "16090    11\n",
       "16091     6\n",
       "16092     6\n",
       "Name: INVAGE, Length: 16093, dtype: object"
      ]
     },
     "execution_count": 243,
     "metadata": {},
     "output_type": "execute_result"
    }
   ],
   "source": [
    "# Creating a dictionary of replacement values\n",
    "df_reg['INVAGE'].replace({'0 to 4': '1', '5 to 9': '2', '10 to 14': '3', '15 to 19': '4', '20 to 24': '5', '25 to 29': '6', '30 to 34': '7', '35 to 39': '8', '40 to 44': '9', '45 to 49': '10', '50 to 54': '11', '55 to 59': '12', '60 to 64': '13', '65 to 69': '14', '70 to 74': '15', '75 to 79': '16', '80 to 84': '17', '85 to 89': '18', '90 to 94': '19', 'Over 95': '20', 'unknown': '0'})"
   ]
  },
  {
   "cell_type": "code",
   "execution_count": 244,
   "metadata": {},
   "outputs": [],
   "source": [
    "# Passing the dictionary of replacement values into the Series replace method\n",
    "df_reg['INVAGE']=df_reg['INVAGE'].replace({'0 to 4': '1', '5 to 9': '2', '10 to 14': '3', '15 to 19': '4', '20 to 24': '5', '25 to 29': '6', '30 to 34': '7', '35 to 39': '8', '40 to 44': '9', '45 to 49': '10', '50 to 54': '11', '55 to 59': '12', '60 to 64': '13', '65 to 69': '14', '70 to 74': '15', '75 to 79': '16', '80 to 84': '17', '85 to 89': '18', '90 to 94': '19', 'Over 95': '20', 'unknown': '0'})"
   ]
  },
  {
   "cell_type": "code",
   "execution_count": 245,
   "metadata": {},
   "outputs": [
    {
     "name": "stdout",
     "output_type": "stream",
     "text": [
      "INVAGE\n",
      "0     2541\n",
      "1      156\n",
      "10    1104\n",
      "11    1150\n",
      "12     937\n",
      "13     743\n",
      "14     586\n",
      "15     463\n",
      "16     390\n",
      "17     292\n",
      "18     191\n",
      "19      54\n",
      "2      175\n",
      "20      14\n",
      "3      214\n",
      "4      738\n",
      "5     1484\n",
      "6     1417\n",
      "7     1174\n",
      "8     1136\n",
      "9     1134\n",
      "dtype: int64\n"
     ]
    }
   ],
   "source": [
    "print(df_reg.groupby(\"INVAGE\").size())"
   ]
  },
  {
   "cell_type": "markdown",
   "metadata": {},
   "source": [
    "<i>Our feature is now reclassified. Let's make sure it contains the same amount of rows.</i>"
   ]
  },
  {
   "cell_type": "code",
   "execution_count": 246,
   "metadata": {},
   "outputs": [
    {
     "data": {
      "text/plain": [
       "16093"
      ]
     },
     "execution_count": 246,
     "metadata": {},
     "output_type": "execute_result"
    }
   ],
   "source": [
    "2541+156+1104+1150+937+743+586+463+390+292+191+54+175+14+214+738+1484+1417+1174+1136+1134"
   ]
  },
  {
   "cell_type": "code",
   "execution_count": 247,
   "metadata": {},
   "outputs": [
    {
     "name": "stdout",
     "output_type": "stream",
     "text": [
      "INVAGE\n",
      "0 to 4       156\n",
      "10 to 14     214\n",
      "15 to 19     738\n",
      "20 to 24    1484\n",
      "25 to 29    1417\n",
      "30 to 34    1174\n",
      "35 to 39    1136\n",
      "40 to 44    1134\n",
      "45 to 49    1104\n",
      "5 to 9       175\n",
      "50 to 54    1150\n",
      "55 to 59     937\n",
      "60 to 64     743\n",
      "65 to 69     586\n",
      "70 to 74     463\n",
      "75 to 79     390\n",
      "80 to 84     292\n",
      "85 to 89     191\n",
      "90 to 94      54\n",
      "Over 95       14\n",
      "unknown     2541\n",
      "dtype: int64\n"
     ]
    }
   ],
   "source": [
    "print(df.groupby(\"INVAGE\").size())"
   ]
  },
  {
   "cell_type": "code",
   "execution_count": 248,
   "metadata": {},
   "outputs": [
    {
     "data": {
      "text/plain": [
       "16093"
      ]
     },
     "execution_count": 248,
     "metadata": {},
     "output_type": "execute_result"
    }
   ],
   "source": [
    "156+214+738+1484+1417+1174+1136+1134+1104+175+1150+937+743+586+463+390+292+191+54+14+2541"
   ]
  },
  {
   "cell_type": "markdown",
   "metadata": {},
   "source": [
    "<i>Perfect! All records are included in our reclassification for INVAGE.</i>"
   ]
  },
  {
   "attachments": {
    "image.png": {
     "image/png": "[encoded data removed]"
    }
   },
   "cell_type": "markdown",
   "metadata": {},
   "source": [
    "#### <i>VEHTYPE\n",
    "\n",
    "The VEHTYPE (Vehicle Type) feature will be graded based on the vehicle's resilience to impact on a scale from 12 to 0, with 12 being the most resilient to impact (Construction Equipment) and 0 being the least, or inconsequential for our purposes (Other):\n",
    "\n",
    "![image.png](attachment:image.png)"
   ]
  },
  {
   "cell_type": "code",
   "execution_count": 249,
   "metadata": {},
   "outputs": [
    {
     "data": {
      "text/plain": [
       "0        NaN\n",
       "1        NaN\n",
       "2          6\n",
       "3        NaN\n",
       "4        NaN\n",
       "        ... \n",
       "16088      6\n",
       "16089    NaN\n",
       "16090      6\n",
       "16091      6\n",
       "16092    NaN\n",
       "Name: VEHTYPE, Length: 16093, dtype: object"
      ]
     },
     "execution_count": 249,
     "metadata": {},
     "output_type": "execute_result"
    }
   ],
   "source": [
    "# Creating a dictionary of replacement values\n",
    "df_reg['VEHTYPE'].replace({'Construction Equipment': '12', 'Street Car': '11', 'Police Vehicle': '10', 'Fire Vehicle': '10', 'Municipal Transit Bus (TTC)': '9', 'Bus (Other) (Go Bus, Gray Coach)': '9', 'Intercity Bus': '9', 'School Bus': '9', 'Truck - Open': '8', 'Truck-Tractor': '8', 'Truck - Closed (Blazer, etc)': '8', 'Truck - Dump': '8', 'Truck (other)': '8', 'Truck - Tank': '8', 'Tow Truck': '8', 'Truck - Car Carrier': '8', 'Passenger Van': '7', 'Delivery Van': '7', 'Pick Up Truck': '7', 'Other Emergency Vehicle': '7', 'Automobile, Station Wagon': '6', 'Taxi': '6', 'Motorcycle': '2', 'Moped': '2', 'Off Road - 2 Wheels': '2', 'Bicycle': '1', 'Other': '0'})"
   ]
  },
  {
   "cell_type": "code",
   "execution_count": 250,
   "metadata": {},
   "outputs": [],
   "source": [
    "# Passing the dictionary of replacement values into the Series replace method - 'Small'\n",
    "df_reg['VEHTYPE']=df_reg['VEHTYPE'].replace({'Construction Equipment': '12', 'Street Car': '11', 'Police Vehicle': '10', 'Fire Vehicle': '10', 'Municipal Transit Bus (TTC)': '9', 'Bus (Other) (Go Bus, Gray Coach)': '9', 'Intercity Bus': '9', 'School Bus': '9', 'Truck - Open': '8', 'Truck-Tractor': '8', 'Truck - Closed (Blazer, etc)': '8', 'Truck - Dump': '8', 'Truck (other)': '8', 'Truck - Tank': '8', 'Tow Truck': '8', 'Truck - Car Carrier': '8', 'Passenger Van': '7', 'Delivery Van': '7', 'Pick Up Truck': '7', 'Other Emergency Vehicle': '7', 'Automobile, Station Wagon': '6', 'Taxi': '6', 'Motorcycle': '2', 'Moped': '2', 'Off Road - 2 Wheels': '2', 'Bicycle': '1', 'Other': '0'})"
   ]
  },
  {
   "cell_type": "code",
   "execution_count": 251,
   "metadata": {},
   "outputs": [
    {
     "name": "stdout",
     "output_type": "stream",
     "text": [
      "VEHTYPE\n",
      "0     4745\n",
      "1      680\n",
      "10       7\n",
      "11      39\n",
      "12       4\n",
      "2      574\n",
      "6     6622\n",
      "7      321\n",
      "8      309\n",
      "9      265\n",
      "dtype: int64\n"
     ]
    }
   ],
   "source": [
    "print(df_reg.groupby(\"VEHTYPE\").size())"
   ]
  },
  {
   "cell_type": "markdown",
   "metadata": {},
   "source": [
    "<i>Our feature is now reclassified. Let's make sure it contains the same amount of rows.</i>"
   ]
  },
  {
   "cell_type": "code",
   "execution_count": 252,
   "metadata": {},
   "outputs": [
    {
     "data": {
      "text/plain": [
       "13566"
      ]
     },
     "execution_count": 252,
     "metadata": {},
     "output_type": "execute_result"
    }
   ],
   "source": [
    "4745+680+7+39+4+574+6622+321+309+265"
   ]
  },
  {
   "cell_type": "code",
   "execution_count": 253,
   "metadata": {},
   "outputs": [
    {
     "name": "stdout",
     "output_type": "stream",
     "text": [
      "VEHTYPE\n",
      "Automobile, Station Wagon           6594\n",
      "Bicycle                              680\n",
      "Bus (Other) (Go Bus, Gray Coach)      11\n",
      "Construction Equipment                 4\n",
      "Delivery Van                          63\n",
      "Fire Vehicle                           3\n",
      "Intercity Bus                          9\n",
      "Moped                                 22\n",
      "Motorcycle                           551\n",
      "Municipal Transit Bus (TTC)          241\n",
      "Off Road - 2 Wheels                    1\n",
      "Other                               4745\n",
      "Other Emergency Vehicle                1\n",
      "Passenger Van                        105\n",
      "Pick Up Truck                        152\n",
      "Police Vehicle                         4\n",
      "School Bus                             4\n",
      "Street Car                            39\n",
      "Taxi                                  28\n",
      "Tow Truck                              4\n",
      "Truck (other)                         12\n",
      "Truck - Car Carrier                    1\n",
      "Truck - Closed (Blazer, etc)          50\n",
      "Truck - Dump                          32\n",
      "Truck - Open                         173\n",
      "Truck - Tank                           7\n",
      "Truck-Tractor                         30\n",
      "dtype: int64\n"
     ]
    }
   ],
   "source": [
    "print(df.groupby(\"VEHTYPE\").size())"
   ]
  },
  {
   "cell_type": "code",
   "execution_count": 254,
   "metadata": {},
   "outputs": [
    {
     "data": {
      "text/plain": [
       "13566"
      ]
     },
     "execution_count": 254,
     "metadata": {},
     "output_type": "execute_result"
    }
   ],
   "source": [
    "6594+680+11+4+63+3+9+22+551+241+1+4745+1+105+152+4+4+39+28+4+12+1+50+32+173+7+30"
   ]
  },
  {
   "cell_type": "markdown",
   "metadata": {},
   "source": [
    "<i>Perfect! All records are included in our reclassification for VEHTYPE.</i>"
   ]
  },
  {
   "attachments": {
    "image.png": {
     "image/png": "[encoded data removed]"
    }
   },
   "cell_type": "markdown",
   "metadata": {},
   "source": [
    "#### <i>DRIVCOND\n",
    "\n",
    "The DRIVCOND (Driver Condition) feature will be graded based on the severity of the condition of the driver from 8 to 0, with 8 being in the worst condition to drive (Ability Impaired, Alcohol over .08) and 0 being the least, or inconsequential for our purposes (Normal, Other, Unknown):\n",
    "\n",
    "\n",
    "![image.png](attachment:image.png)"
   ]
  },
  {
   "cell_type": "code",
   "execution_count": 255,
   "metadata": {},
   "outputs": [
    {
     "data": {
      "text/plain": [
       "0        NaN\n",
       "1        NaN\n",
       "2          0\n",
       "3        NaN\n",
       "4        NaN\n",
       "        ... \n",
       "16088      0\n",
       "16089    NaN\n",
       "16090      5\n",
       "16091      0\n",
       "16092    NaN\n",
       "Name: DRIVCOND, Length: 16093, dtype: object"
      ]
     },
     "execution_count": 255,
     "metadata": {},
     "output_type": "execute_result"
    }
   ],
   "source": [
    "# Creating a dictionary of replacement values \n",
    "df_reg['DRIVCOND'].replace({'Ability Impaired, Alcohol Over .08': '8', 'Ability Impaired, Alcohol': '7', 'Ability Impaired, Drugs': '7', 'Had Been Drinking': '6', 'Inattentive': '5', 'Fatigue': '4', 'Medical or Physical Disability': '1', 'Normal': '0', 'Unknown': '0', 'Other': '0'})"
   ]
  },
  {
   "cell_type": "code",
   "execution_count": 256,
   "metadata": {},
   "outputs": [],
   "source": [
    "# Passing the dictionary of replacement values into the Series replace method - 'Small'\n",
    "df_reg['DRIVCOND']=df_reg['DRIVCOND'].replace({'Ability Impaired, Alcohol Over .08': '8', 'Ability Impaired, Alcohol': '7', 'Ability Impaired, Drugs': '7', 'Had Been Drinking': '6', 'Inattentive': '5', 'Fatigue': '4', 'Medical or Physical Disability': '1', 'Normal': '0', 'Unknown': '0', 'Other': '0'})"
   ]
  },
  {
   "cell_type": "code",
   "execution_count": 257,
   "metadata": {},
   "outputs": [
    {
     "name": "stdout",
     "output_type": "stream",
     "text": [
      "DRIVCOND\n",
      "0    6128\n",
      "1     156\n",
      "4      47\n",
      "5    1318\n",
      "6     146\n",
      "7     122\n",
      "8     115\n",
      "dtype: int64\n"
     ]
    }
   ],
   "source": [
    "print(df_reg.groupby(\"DRIVCOND\").size())"
   ]
  },
  {
   "cell_type": "markdown",
   "metadata": {},
   "source": [
    "<i>Our feature is now reclassified. Let's make sure it contains the same amount of rows.</i>"
   ]
  },
  {
   "cell_type": "code",
   "execution_count": 258,
   "metadata": {},
   "outputs": [
    {
     "data": {
      "text/plain": [
       "8032"
      ]
     },
     "execution_count": 258,
     "metadata": {},
     "output_type": "execute_result"
    }
   ],
   "source": [
    "6128+156+47+1318+146+122+115"
   ]
  },
  {
   "cell_type": "code",
   "execution_count": 259,
   "metadata": {},
   "outputs": [
    {
     "name": "stdout",
     "output_type": "stream",
     "text": [
      "DRIVCOND\n",
      "Ability Impaired, Alcohol              106\n",
      "Ability Impaired, Alcohol Over .08     115\n",
      "Ability Impaired, Drugs                 16\n",
      "Fatigue                                 47\n",
      "Had Been Drinking                      146\n",
      "Inattentive                           1318\n",
      "Medical or Physical Disability         156\n",
      "Normal                                5167\n",
      "Other                                   41\n",
      "Unknown                                920\n",
      "dtype: int64\n"
     ]
    }
   ],
   "source": [
    "print(df.groupby(\"DRIVCOND\").size())"
   ]
  },
  {
   "cell_type": "code",
   "execution_count": 260,
   "metadata": {},
   "outputs": [
    {
     "data": {
      "text/plain": [
       "8032"
      ]
     },
     "execution_count": 260,
     "metadata": {},
     "output_type": "execute_result"
    }
   ],
   "source": [
    "106+115+16+47+146+1318+156+5167+41+920"
   ]
  },
  {
   "cell_type": "markdown",
   "metadata": {},
   "source": [
    "<i>Perfect! All records are included in our reclassification for VEHTYPE.</i>"
   ]
  },
  {
   "cell_type": "markdown",
   "metadata": {},
   "source": [
    "Our features have been engineered and scaled. Now let's address the missing values."
   ]
  },
  {
   "cell_type": "markdown",
   "metadata": {},
   "source": [
    "## <u>Missing Values</u>\n",
    "\n",
    "Variables to highlight in dataset for prediction:\n",
    "\n",
    "    ROAD_CLASS\n",
    "    WardNum\n",
    "    Division\n",
    "    TRAFFCTL\n",
    "    VISIBILITY\n",
    "    LIGHT\n",
    "    RDSFCOND\n",
    "    INVTYPE\n",
    "    INVAGE\n",
    "    INJURY\n",
    "    VEHTYPE\n",
    "    DRIVCOND"
   ]
  },
  {
   "cell_type": "code",
   "execution_count": 261,
   "metadata": {},
   "outputs": [
    {
     "data": {
      "text/plain": [
       "8      11555\n",
       "6       2462\n",
       "4        900\n",
       "5        727\n",
       "NaN      368\n",
       "0         46\n",
       "9         24\n",
       "3         10\n",
       "7          1\n",
       "Name: ROAD_CLASS, dtype: int64"
      ]
     },
     "execution_count": 261,
     "metadata": {},
     "output_type": "execute_result"
    }
   ],
   "source": [
    "df_reg.ROAD_CLASS.value_counts(dropna=False)"
   ]
  },
  {
   "cell_type": "code",
   "execution_count": 262,
   "metadata": {},
   "outputs": [
    {
     "data": {
      "text/plain": [
       "NaN     2298\n",
       "10.0     930\n",
       "1.0      867\n",
       "3.0      740\n",
       "11.0     738\n",
       "5.0      719\n",
       "14.0     712\n",
       "4.0      639\n",
       "21.0     630\n",
       "13.0     618\n",
       "9.0      607\n",
       "22.0     563\n",
       "23.0     558\n",
       "6.0      544\n",
       "7.0      505\n",
       "20.0     486\n",
       "18.0     459\n",
       "24.0     438\n",
       "2.0      437\n",
       "25.0     423\n",
       "8.0      421\n",
       "19.0     409\n",
       "17.0     388\n",
       "16.0     373\n",
       "12.0     347\n",
       "15.0     244\n",
       "Name: WardNum, dtype: int64"
      ]
     },
     "execution_count": 262,
     "metadata": {},
     "output_type": "execute_result"
    }
   ],
   "source": [
    "df_reg.WardNum.value_counts(dropna=False)"
   ]
  },
  {
   "cell_type": "code",
   "execution_count": 263,
   "metadata": {},
   "outputs": [
    {
     "data": {
      "text/plain": [
       "42    1612\n",
       "32    1237\n",
       "41    1218\n",
       "23    1200\n",
       "14    1088\n",
       "22    1020\n",
       "43    1004\n",
       "53     902\n",
       "31     853\n",
       "52     852\n",
       "51     845\n",
       "33     839\n",
       "12     807\n",
       "54     706\n",
       "11     670\n",
       "13     659\n",
       "55     581\n",
       "Name: Division, dtype: int64"
      ]
     },
     "execution_count": 263,
     "metadata": {},
     "output_type": "execute_result"
    }
   ],
   "source": [
    "df_reg.Division.value_counts(dropna=False)"
   ]
  },
  {
   "cell_type": "code",
   "execution_count": 264,
   "metadata": {},
   "outputs": [
    {
     "data": {
      "text/plain": [
       "1      7692\n",
       "9      6771\n",
       "7      1288\n",
       "6       189\n",
       "8       102\n",
       "NaN      29\n",
       "5        13\n",
       "11        5\n",
       "2         2\n",
       "10        2\n",
       "Name: TRAFFCTL, dtype: int64"
      ]
     },
     "execution_count": 264,
     "metadata": {},
     "output_type": "execute_result"
    }
   ],
   "source": [
    "df_reg.TRAFFCTL.value_counts(dropna=False)"
   ]
  },
  {
   "cell_type": "code",
   "execution_count": 265,
   "metadata": {
    "scrolled": true
   },
   "outputs": [
    {
     "data": {
      "text/plain": [
       "1      13814\n",
       "4       1711\n",
       "5        377\n",
       "0         99\n",
       "6         43\n",
       "NaN       22\n",
       "7         19\n",
       "3          8\n",
       "Name: VISIBILITY, dtype: int64"
      ]
     },
     "execution_count": 265,
     "metadata": {},
     "output_type": "execute_result"
    }
   ],
   "source": [
    "df_reg.VISIBILITY.value_counts(dropna=False)"
   ]
  },
  {
   "cell_type": "code",
   "execution_count": 266,
   "metadata": {},
   "outputs": [
    {
     "data": {
      "text/plain": [
       "2    9255\n",
       "6    3525\n",
       "5    2609\n",
       "4     323\n",
       "3     251\n",
       "1     124\n",
       "0       6\n",
       "Name: LIGHT, dtype: int64"
      ]
     },
     "execution_count": 266,
     "metadata": {},
     "output_type": "execute_result"
    }
   ],
   "source": [
    "df_reg.LIGHT.value_counts(dropna=False)"
   ]
  },
  {
   "cell_type": "code",
   "execution_count": 267,
   "metadata": {},
   "outputs": [
    {
     "data": {
      "text/plain": [
       "1      12820\n",
       "3       2718\n",
       "6        258\n",
       "0        147\n",
       "8         73\n",
       "7         42\n",
       "NaN       27\n",
       "4          7\n",
       "5          1\n",
       "Name: RDSFCOND, dtype: int64"
      ]
     },
     "execution_count": 267,
     "metadata": {},
     "output_type": "execute_result"
    }
   ],
   "source": [
    "df_reg.RDSFCOND.value_counts(dropna=False)"
   ]
  },
  {
   "cell_type": "code",
   "execution_count": 268,
   "metadata": {},
   "outputs": [
    {
     "data": {
      "text/plain": [
       "2      11341\n",
       "7       2717\n",
       "6        691\n",
       "5        608\n",
       "0        414\n",
       "1        299\n",
       "8         13\n",
       "NaN       10\n",
       "Name: INVTYPE, dtype: int64"
      ]
     },
     "execution_count": 268,
     "metadata": {},
     "output_type": "execute_result"
    }
   ],
   "source": [
    "df_reg.INVTYPE.value_counts(dropna=False)"
   ]
  },
  {
   "cell_type": "code",
   "execution_count": 269,
   "metadata": {},
   "outputs": [
    {
     "data": {
      "text/plain": [
       "0     2541\n",
       "5     1484\n",
       "6     1417\n",
       "7     1174\n",
       "11    1150\n",
       "8     1136\n",
       "9     1134\n",
       "10    1104\n",
       "12     937\n",
       "13     743\n",
       "4      738\n",
       "14     586\n",
       "15     463\n",
       "16     390\n",
       "17     292\n",
       "3      214\n",
       "18     191\n",
       "2      175\n",
       "1      156\n",
       "19      54\n",
       "20      14\n",
       "Name: INVAGE, dtype: int64"
      ]
     },
     "execution_count": 269,
     "metadata": {},
     "output_type": "execute_result"
    }
   ],
   "source": [
    "df_reg.INVAGE.value_counts(dropna=False)"
   ]
  },
  {
   "cell_type": "code",
   "execution_count": 270,
   "metadata": {},
   "outputs": [
    {
     "data": {
      "text/plain": [
       "1      6068\n",
       "4      5375\n",
       "NaN    1609\n",
       "3      1264\n",
       "2       996\n",
       "5       781\n",
       "Name: INJURY, dtype: int64"
      ]
     },
     "execution_count": 270,
     "metadata": {},
     "output_type": "execute_result"
    }
   ],
   "source": [
    "df_reg.INJURY.value_counts(dropna=False)"
   ]
  },
  {
   "cell_type": "code",
   "execution_count": 271,
   "metadata": {
    "scrolled": true
   },
   "outputs": [
    {
     "data": {
      "text/plain": [
       "6      6622\n",
       "0      4745\n",
       "NaN    2527\n",
       "1       680\n",
       "2       574\n",
       "7       321\n",
       "8       309\n",
       "9       265\n",
       "11       39\n",
       "10        7\n",
       "12        4\n",
       "Name: VEHTYPE, dtype: int64"
      ]
     },
     "execution_count": 271,
     "metadata": {},
     "output_type": "execute_result"
    }
   ],
   "source": [
    "df_reg.VEHTYPE.value_counts(dropna=False)"
   ]
  },
  {
   "cell_type": "code",
   "execution_count": 272,
   "metadata": {
    "scrolled": true
   },
   "outputs": [
    {
     "data": {
      "text/plain": [
       "NaN    8061\n",
       "0      6128\n",
       "5      1318\n",
       "1       156\n",
       "6       146\n",
       "7       122\n",
       "8       115\n",
       "4        47\n",
       "Name: DRIVCOND, dtype: int64"
      ]
     },
     "execution_count": 272,
     "metadata": {},
     "output_type": "execute_result"
    }
   ],
   "source": [
    "df_reg.DRIVCOND.value_counts(dropna=False)"
   ]
  },
  {
   "cell_type": "markdown",
   "metadata": {},
   "source": [
    "We want to keep all the <b>INJURY</b> records since it is our target value- we will drop any NaN values in this column."
   ]
  },
  {
   "cell_type": "code",
   "execution_count": 273,
   "metadata": {},
   "outputs": [],
   "source": [
    "df_reg_aug1 = df_reg.dropna(subset = ['INJURY'], how='all')"
   ]
  },
  {
   "cell_type": "code",
   "execution_count": 274,
   "metadata": {},
   "outputs": [
    {
     "name": "stdout",
     "output_type": "stream",
     "text": [
      "(16093, 56)\n",
      "(14484, 56)\n"
     ]
    }
   ],
   "source": [
    "print(df_reg.shape)\n",
    "print(df_reg_aug1.shape)"
   ]
  },
  {
   "cell_type": "code",
   "execution_count": 275,
   "metadata": {},
   "outputs": [
    {
     "data": {
      "text/plain": [
       "X                    0\n",
       "Y                    0\n",
       "Index_               0\n",
       "ACCNUM               0\n",
       "YEAR                 0\n",
       "DATE                 0\n",
       "TIME                 0\n",
       "HOUR                 0\n",
       "STREET1              0\n",
       "STREET2           1276\n",
       "OFFSET           12099\n",
       "ROAD_CLASS         313\n",
       "District            13\n",
       "WardNum           2086\n",
       "Division             0\n",
       "LATITUDE             0\n",
       "LONGITUDE            0\n",
       "LOCCOORD           127\n",
       "ACCLOC            4583\n",
       "TRAFFCTL            29\n",
       "VISIBILITY          21\n",
       "LIGHT                0\n",
       "RDSFCOND            26\n",
       "ACCLASS              0\n",
       "IMPACTYPE            4\n",
       "INVTYPE              5\n",
       "INVAGE               0\n",
       "INJURY               0\n",
       "FATAL_NO         13811\n",
       "INITDIR           3244\n",
       "VEHTYPE           2450\n",
       "MANOEUVER         5360\n",
       "DRIVACT           6463\n",
       "DRIVCOND          6463\n",
       "PEDTYPE          11914\n",
       "PEDACT           11920\n",
       "PEDCOND          11800\n",
       "CYCLISTYPE       13843\n",
       "CYCACT           13818\n",
       "CYCCOND          13819\n",
       "PEDESTRIAN        8564\n",
       "CYCLIST          12953\n",
       "AUTOMOBILE        1234\n",
       "MOTORCYCLE       13309\n",
       "TRUCK            13655\n",
       "TRSN_CITY_VEH    13677\n",
       "EMERG_VEH        14454\n",
       "PASSENGER         8881\n",
       "SPEEDING         12569\n",
       "AG_DRIV           6989\n",
       "REDLIGHT         13251\n",
       "ALCOHOL          13853\n",
       "DISABILITY       14092\n",
       "Hood_ID              0\n",
       "Neighbourhood        0\n",
       "ObjectId             0\n",
       "dtype: int64"
      ]
     },
     "execution_count": 275,
     "metadata": {},
     "output_type": "execute_result"
    }
   ],
   "source": [
    "df_reg_aug1.isnull().sum()"
   ]
  },
  {
   "cell_type": "markdown",
   "metadata": {},
   "source": [
    "There are still missing values for the following features that we are interested in:\n",
    "\n",
    "    ROAD_CLASS - 313\n",
    "    WardNum - 2086\n",
    "    Division - 0\n",
    "    TRAFFCTL - 29\n",
    "    VISIBILITY - 21\n",
    "    LIGHT - 0\n",
    "    RDSFCOND - 26\n",
    "    INVTYPE - 5\n",
    "    INVAGE - 0 \n",
    "    INJURY - 0\n",
    "    VEHTYPE - 2450\n",
    "    DRIVCOND - 6463"
   ]
  },
  {
   "cell_type": "markdown",
   "metadata": {},
   "source": [
    "Since the <b>WardNum</b> and <b>Division</b> have a strong correlation based on the heatmap we will drop <b>WardNum</b> as a feature since it has too many missing values.\n",
    "\n",
    "Let's look at <b>ROAD_CLASS</b>, <b>VEHTYPE</b> and <b>DRIVCOND</b> since they have large missing values. Each of these features have a scale value of 0 to represent \"unknown\" or \"other\" so let's replace NaN with 0 since we cannot change their values in any valid way; also we would like to keep these features for now."
   ]
  },
  {
   "cell_type": "code",
   "execution_count": 276,
   "metadata": {},
   "outputs": [
    {
     "name": "stderr",
     "output_type": "stream",
     "text": [
      "<ipython-input-276-481851332bba>:1: SettingWithCopyWarning: \n",
      "A value is trying to be set on a copy of a slice from a DataFrame.\n",
      "Try using .loc[row_indexer,col_indexer] = value instead\n",
      "\n",
      "See the caveats in the documentation: https://pandas.pydata.org/pandas-docs/stable/user_guide/indexing.html#returning-a-view-versus-a-copy\n",
      "  df_reg_aug1['ROAD_CLASS'] = df_reg_aug1['ROAD_CLASS'].fillna(0)\n"
     ]
    }
   ],
   "source": [
    "df_reg_aug1['ROAD_CLASS'] = df_reg_aug1['ROAD_CLASS'].fillna(0)"
   ]
  },
  {
   "cell_type": "code",
   "execution_count": 277,
   "metadata": {},
   "outputs": [
    {
     "name": "stderr",
     "output_type": "stream",
     "text": [
      "<ipython-input-277-cea823eb9ba5>:1: SettingWithCopyWarning: \n",
      "A value is trying to be set on a copy of a slice from a DataFrame.\n",
      "Try using .loc[row_indexer,col_indexer] = value instead\n",
      "\n",
      "See the caveats in the documentation: https://pandas.pydata.org/pandas-docs/stable/user_guide/indexing.html#returning-a-view-versus-a-copy\n",
      "  df_reg_aug1['VEHTYPE'] = df_reg_aug1['VEHTYPE'].replace(np.nan, 0)\n"
     ]
    }
   ],
   "source": [
    "df_reg_aug1['VEHTYPE'] = df_reg_aug1['VEHTYPE'].replace(np.nan, 0)"
   ]
  },
  {
   "cell_type": "code",
   "execution_count": 278,
   "metadata": {
    "scrolled": true
   },
   "outputs": [
    {
     "name": "stderr",
     "output_type": "stream",
     "text": [
      "<ipython-input-278-299621cda9be>:1: SettingWithCopyWarning: \n",
      "A value is trying to be set on a copy of a slice from a DataFrame.\n",
      "Try using .loc[row_indexer,col_indexer] = value instead\n",
      "\n",
      "See the caveats in the documentation: https://pandas.pydata.org/pandas-docs/stable/user_guide/indexing.html#returning-a-view-versus-a-copy\n",
      "  df_reg_aug1['DRIVCOND'] = df_reg_aug1['DRIVCOND'].fillna(0)\n"
     ]
    }
   ],
   "source": [
    "df_reg_aug1['DRIVCOND'] = df_reg_aug1['DRIVCOND'].fillna(0)\n"
   ]
  },
  {
   "cell_type": "code",
   "execution_count": 279,
   "metadata": {},
   "outputs": [
    {
     "data": {
      "text/plain": [
       "(14484, 56)"
      ]
     },
     "execution_count": 279,
     "metadata": {},
     "output_type": "execute_result"
    }
   ],
   "source": [
    "df_reg_aug1.shape\n",
    "# No records have been lost compared to before when doing this replace of Nan values."
   ]
  },
  {
   "cell_type": "code",
   "execution_count": 280,
   "metadata": {},
   "outputs": [
    {
     "data": {
      "text/plain": [
       "X                    0\n",
       "Y                    0\n",
       "Index_               0\n",
       "ACCNUM               0\n",
       "YEAR                 0\n",
       "DATE                 0\n",
       "TIME                 0\n",
       "HOUR                 0\n",
       "STREET1              0\n",
       "STREET2           1276\n",
       "OFFSET           12099\n",
       "ROAD_CLASS           0\n",
       "District            13\n",
       "WardNum           2086\n",
       "Division             0\n",
       "LATITUDE             0\n",
       "LONGITUDE            0\n",
       "LOCCOORD           127\n",
       "ACCLOC            4583\n",
       "TRAFFCTL            29\n",
       "VISIBILITY          21\n",
       "LIGHT                0\n",
       "RDSFCOND            26\n",
       "ACCLASS              0\n",
       "IMPACTYPE            4\n",
       "INVTYPE              5\n",
       "INVAGE               0\n",
       "INJURY               0\n",
       "FATAL_NO         13811\n",
       "INITDIR           3244\n",
       "VEHTYPE              0\n",
       "MANOEUVER         5360\n",
       "DRIVACT           6463\n",
       "DRIVCOND             0\n",
       "PEDTYPE          11914\n",
       "PEDACT           11920\n",
       "PEDCOND          11800\n",
       "CYCLISTYPE       13843\n",
       "CYCACT           13818\n",
       "CYCCOND          13819\n",
       "PEDESTRIAN        8564\n",
       "CYCLIST          12953\n",
       "AUTOMOBILE        1234\n",
       "MOTORCYCLE       13309\n",
       "TRUCK            13655\n",
       "TRSN_CITY_VEH    13677\n",
       "EMERG_VEH        14454\n",
       "PASSENGER         8881\n",
       "SPEEDING         12569\n",
       "AG_DRIV           6989\n",
       "REDLIGHT         13251\n",
       "ALCOHOL          13853\n",
       "DISABILITY       14092\n",
       "Hood_ID              0\n",
       "Neighbourhood        0\n",
       "ObjectId             0\n",
       "dtype: int64"
      ]
     },
     "execution_count": 280,
     "metadata": {},
     "output_type": "execute_result"
    }
   ],
   "source": [
    "df_reg_aug1.isnull().sum()"
   ]
  },
  {
   "cell_type": "markdown",
   "metadata": {},
   "source": [
    "We now only have four features left that have a few missing values based on the updated feature table below.\n",
    "    \n",
    "    ROAD_CLASS - 0\n",
    "    Division - 0\n",
    "    TRAFFCTL - 29\n",
    "    VISIBILITY - 21\n",
    "    LIGHT - 0\n",
    "    RDSFCOND - 26\n",
    "    INVTYPE - 5\n",
    "    INVAGE - 0 \n",
    "    INJURY - 0\n",
    "    VEHTYPE - 0\n",
    "    DRIVCOND - 0\n",
    " \n",
    "Since we currently have 14,484 records and the missing values are now very small i.e totally 79 records, we will go ahead and remove them since there is not a meaningful way transform them."
   ]
  },
  {
   "cell_type": "code",
   "execution_count": 281,
   "metadata": {},
   "outputs": [],
   "source": [
    "df_reg_aug2 = df_reg_aug1.dropna(subset = ['TRAFFCTL'], how='all')"
   ]
  },
  {
   "cell_type": "code",
   "execution_count": 282,
   "metadata": {},
   "outputs": [],
   "source": [
    "df_reg_aug3 = df_reg_aug2.dropna(subset = ['VISIBILITY'], how='all')"
   ]
  },
  {
   "cell_type": "code",
   "execution_count": 283,
   "metadata": {},
   "outputs": [],
   "source": [
    "df_reg_aug4 = df_reg_aug3.dropna(subset = ['RDSFCOND'], how='all')"
   ]
  },
  {
   "cell_type": "code",
   "execution_count": 284,
   "metadata": {},
   "outputs": [],
   "source": [
    "df_reg_aug5 = df_reg_aug4.dropna(subset = ['INVTYPE'], how='all')"
   ]
  },
  {
   "cell_type": "code",
   "execution_count": 285,
   "metadata": {},
   "outputs": [
    {
     "data": {
      "text/plain": [
       "(14422, 56)"
      ]
     },
     "execution_count": 285,
     "metadata": {},
     "output_type": "execute_result"
    }
   ],
   "source": [
    "df_reg_aug5.shape"
   ]
  },
  {
   "cell_type": "code",
   "execution_count": 286,
   "metadata": {
    "scrolled": true
   },
   "outputs": [
    {
     "data": {
      "text/plain": [
       "X                    0\n",
       "Y                    0\n",
       "Index_               0\n",
       "ACCNUM               0\n",
       "YEAR                 0\n",
       "DATE                 0\n",
       "TIME                 0\n",
       "HOUR                 0\n",
       "STREET1              0\n",
       "STREET2           1271\n",
       "OFFSET           12042\n",
       "ROAD_CLASS           0\n",
       "District            13\n",
       "WardNum           2078\n",
       "Division             0\n",
       "LATITUDE             0\n",
       "LONGITUDE            0\n",
       "LOCCOORD           111\n",
       "ACCLOC            4557\n",
       "TRAFFCTL             0\n",
       "VISIBILITY           0\n",
       "LIGHT                0\n",
       "RDSFCOND             0\n",
       "ACCLASS              0\n",
       "IMPACTYPE            4\n",
       "INVTYPE              0\n",
       "INVAGE               0\n",
       "INJURY               0\n",
       "FATAL_NO         13762\n",
       "INITDIR           3216\n",
       "VEHTYPE              0\n",
       "MANOEUVER         5347\n",
       "DRIVACT           6418\n",
       "DRIVCOND             0\n",
       "PEDTYPE          11860\n",
       "PEDACT           11866\n",
       "PEDCOND          11744\n",
       "CYCLISTYPE       13781\n",
       "CYCACT           13756\n",
       "CYCCOND          13757\n",
       "PEDESTRIAN        8525\n",
       "CYCLIST          12891\n",
       "AUTOMOBILE        1228\n",
       "MOTORCYCLE       13249\n",
       "TRUCK            13596\n",
       "TRSN_CITY_VEH    13619\n",
       "EMERG_VEH        14392\n",
       "PASSENGER         8840\n",
       "SPEEDING         12517\n",
       "AG_DRIV           6943\n",
       "REDLIGHT         13189\n",
       "ALCOHOL          13794\n",
       "DISABILITY       14030\n",
       "Hood_ID              0\n",
       "Neighbourhood        0\n",
       "ObjectId             0\n",
       "dtype: int64"
      ]
     },
     "execution_count": 286,
     "metadata": {},
     "output_type": "execute_result"
    }
   ],
   "source": [
    "df_reg_aug5.isnull().sum()"
   ]
  },
  {
   "cell_type": "markdown",
   "metadata": {},
   "source": [
    "## Duplicate Values"
   ]
  },
  {
   "cell_type": "code",
   "execution_count": 287,
   "metadata": {
    "scrolled": true
   },
   "outputs": [
    {
     "data": {
      "text/plain": [
       "False    14422\n",
       "dtype: int64"
      ]
     },
     "execution_count": 287,
     "metadata": {},
     "output_type": "execute_result"
    }
   ],
   "source": [
    "df_reg_aug5.duplicated().value_counts()"
   ]
  },
  {
   "cell_type": "markdown",
   "metadata": {},
   "source": [
    "There are no duplicate values."
   ]
  },
  {
   "cell_type": "markdown",
   "metadata": {},
   "source": [
    "## <font color = \"blue\">Feature Only Dataframe - Regression</font>\n",
    "    \n",
    "<font color = \"blue\">This dataframe will serve as a \"master\" dataframe for regression modelling for our group, and contains all of our collectively-selected feature variables.</font>\n",
    "\n",
    "    ROAD_CLASS\n",
    "    Division\n",
    "    TRAFFCTRL\n",
    "    VISIBILITY\n",
    "    LIGHT\n",
    "    RDSFCOND\n",
    "    INVTYPE\n",
    "    INVAGE\n",
    "    INJURY\n",
    "    VEHTYPE\n",
    "    DRIVCOND"
   ]
  },
  {
   "cell_type": "code",
   "execution_count": 288,
   "metadata": {},
   "outputs": [],
   "source": [
    "# Create subset of the dataframe with only features that we are interested in.\n",
    "df_reg_allfeatures = df_reg_aug5.loc[:, ['INJURY', 'ROAD_CLASS', 'Division', 'TRAFFCTL', 'VISIBILITY', 'LIGHT', 'RDSFCOND', 'INVTYPE', 'INVAGE', 'VEHTYPE', 'DRIVCOND']]"
   ]
  },
  {
   "cell_type": "code",
   "execution_count": 289,
   "metadata": {},
   "outputs": [
    {
     "data": {
      "text/html": [
       "<div>\n",
       "<style scoped>\n",
       "    .dataframe tbody tr th:only-of-type {\n",
       "        vertical-align: middle;\n",
       "    }\n",
       "\n",
       "    .dataframe tbody tr th {\n",
       "        vertical-align: top;\n",
       "    }\n",
       "\n",
       "    .dataframe thead th {\n",
       "        text-align: right;\n",
       "    }\n",
       "</style>\n",
       "<table border=\"1\" class=\"dataframe\">\n",
       "  <thead>\n",
       "    <tr style=\"text-align: right;\">\n",
       "      <th></th>\n",
       "      <th>INJURY</th>\n",
       "      <th>ROAD_CLASS</th>\n",
       "      <th>Division</th>\n",
       "      <th>TRAFFCTL</th>\n",
       "      <th>VISIBILITY</th>\n",
       "      <th>LIGHT</th>\n",
       "      <th>RDSFCOND</th>\n",
       "      <th>INVTYPE</th>\n",
       "      <th>INVAGE</th>\n",
       "      <th>VEHTYPE</th>\n",
       "      <th>DRIVCOND</th>\n",
       "    </tr>\n",
       "  </thead>\n",
       "  <tbody>\n",
       "    <tr>\n",
       "      <th>0</th>\n",
       "      <td>4</td>\n",
       "      <td>8</td>\n",
       "      <td>54</td>\n",
       "      <td>1</td>\n",
       "      <td>1</td>\n",
       "      <td>6</td>\n",
       "      <td>3</td>\n",
       "      <td>2</td>\n",
       "      <td>11</td>\n",
       "      <td>0</td>\n",
       "      <td>0</td>\n",
       "    </tr>\n",
       "    <tr>\n",
       "      <th>1</th>\n",
       "      <td>3</td>\n",
       "      <td>8</td>\n",
       "      <td>54</td>\n",
       "      <td>1</td>\n",
       "      <td>1</td>\n",
       "      <td>6</td>\n",
       "      <td>3</td>\n",
       "      <td>2</td>\n",
       "      <td>4</td>\n",
       "      <td>0</td>\n",
       "      <td>0</td>\n",
       "    </tr>\n",
       "    <tr>\n",
       "      <th>2</th>\n",
       "      <td>3</td>\n",
       "      <td>8</td>\n",
       "      <td>54</td>\n",
       "      <td>1</td>\n",
       "      <td>1</td>\n",
       "      <td>6</td>\n",
       "      <td>3</td>\n",
       "      <td>2</td>\n",
       "      <td>12</td>\n",
       "      <td>6</td>\n",
       "      <td>0</td>\n",
       "    </tr>\n",
       "    <tr>\n",
       "      <th>3</th>\n",
       "      <td>3</td>\n",
       "      <td>8</td>\n",
       "      <td>54</td>\n",
       "      <td>1</td>\n",
       "      <td>1</td>\n",
       "      <td>6</td>\n",
       "      <td>3</td>\n",
       "      <td>2</td>\n",
       "      <td>5</td>\n",
       "      <td>0</td>\n",
       "      <td>0</td>\n",
       "    </tr>\n",
       "    <tr>\n",
       "      <th>4</th>\n",
       "      <td>3</td>\n",
       "      <td>8</td>\n",
       "      <td>54</td>\n",
       "      <td>1</td>\n",
       "      <td>1</td>\n",
       "      <td>6</td>\n",
       "      <td>3</td>\n",
       "      <td>2</td>\n",
       "      <td>4</td>\n",
       "      <td>0</td>\n",
       "      <td>0</td>\n",
       "    </tr>\n",
       "    <tr>\n",
       "      <th>...</th>\n",
       "      <td>...</td>\n",
       "      <td>...</td>\n",
       "      <td>...</td>\n",
       "      <td>...</td>\n",
       "      <td>...</td>\n",
       "      <td>...</td>\n",
       "      <td>...</td>\n",
       "      <td>...</td>\n",
       "      <td>...</td>\n",
       "      <td>...</td>\n",
       "      <td>...</td>\n",
       "    </tr>\n",
       "    <tr>\n",
       "      <th>16088</th>\n",
       "      <td>1</td>\n",
       "      <td>8</td>\n",
       "      <td>31</td>\n",
       "      <td>1</td>\n",
       "      <td>1</td>\n",
       "      <td>5</td>\n",
       "      <td>1</td>\n",
       "      <td>2</td>\n",
       "      <td>5</td>\n",
       "      <td>6</td>\n",
       "      <td>0</td>\n",
       "    </tr>\n",
       "    <tr>\n",
       "      <th>16089</th>\n",
       "      <td>4</td>\n",
       "      <td>8</td>\n",
       "      <td>31</td>\n",
       "      <td>1</td>\n",
       "      <td>1</td>\n",
       "      <td>5</td>\n",
       "      <td>1</td>\n",
       "      <td>7</td>\n",
       "      <td>3</td>\n",
       "      <td>0</td>\n",
       "      <td>0</td>\n",
       "    </tr>\n",
       "    <tr>\n",
       "      <th>16090</th>\n",
       "      <td>1</td>\n",
       "      <td>8</td>\n",
       "      <td>52</td>\n",
       "      <td>9</td>\n",
       "      <td>1</td>\n",
       "      <td>2</td>\n",
       "      <td>1</td>\n",
       "      <td>2</td>\n",
       "      <td>11</td>\n",
       "      <td>6</td>\n",
       "      <td>5</td>\n",
       "    </tr>\n",
       "    <tr>\n",
       "      <th>16091</th>\n",
       "      <td>1</td>\n",
       "      <td>8</td>\n",
       "      <td>52</td>\n",
       "      <td>9</td>\n",
       "      <td>1</td>\n",
       "      <td>2</td>\n",
       "      <td>1</td>\n",
       "      <td>2</td>\n",
       "      <td>6</td>\n",
       "      <td>6</td>\n",
       "      <td>0</td>\n",
       "    </tr>\n",
       "    <tr>\n",
       "      <th>16092</th>\n",
       "      <td>4</td>\n",
       "      <td>8</td>\n",
       "      <td>52</td>\n",
       "      <td>9</td>\n",
       "      <td>1</td>\n",
       "      <td>2</td>\n",
       "      <td>1</td>\n",
       "      <td>7</td>\n",
       "      <td>6</td>\n",
       "      <td>0</td>\n",
       "      <td>0</td>\n",
       "    </tr>\n",
       "  </tbody>\n",
       "</table>\n",
       "<p>14422 rows × 11 columns</p>\n",
       "</div>"
      ],
      "text/plain": [
       "      INJURY ROAD_CLASS  Division TRAFFCTL VISIBILITY LIGHT RDSFCOND INVTYPE  \\\n",
       "0          4          8        54        1          1     6        3       2   \n",
       "1          3          8        54        1          1     6        3       2   \n",
       "2          3          8        54        1          1     6        3       2   \n",
       "3          3          8        54        1          1     6        3       2   \n",
       "4          3          8        54        1          1     6        3       2   \n",
       "...      ...        ...       ...      ...        ...   ...      ...     ...   \n",
       "16088      1          8        31        1          1     5        1       2   \n",
       "16089      4          8        31        1          1     5        1       7   \n",
       "16090      1          8        52        9          1     2        1       2   \n",
       "16091      1          8        52        9          1     2        1       2   \n",
       "16092      4          8        52        9          1     2        1       7   \n",
       "\n",
       "      INVAGE VEHTYPE DRIVCOND  \n",
       "0         11       0        0  \n",
       "1          4       0        0  \n",
       "2         12       6        0  \n",
       "3          5       0        0  \n",
       "4          4       0        0  \n",
       "...      ...     ...      ...  \n",
       "16088      5       6        0  \n",
       "16089      3       0        0  \n",
       "16090     11       6        5  \n",
       "16091      6       6        0  \n",
       "16092      6       0        0  \n",
       "\n",
       "[14422 rows x 11 columns]"
      ]
     },
     "execution_count": 289,
     "metadata": {},
     "output_type": "execute_result"
    }
   ],
   "source": [
    "df_reg_allfeatures"
   ]
  },
  {
   "cell_type": "code",
   "execution_count": 295,
   "metadata": {
    "scrolled": true
   },
   "outputs": [
    {
     "name": "stdout",
     "output_type": "stream",
     "text": [
      "<class 'pandas.core.frame.DataFrame'>\n",
      "Int64Index: 14422 entries, 0 to 16092\n",
      "Data columns (total 11 columns):\n",
      " #   Column      Non-Null Count  Dtype \n",
      "---  ------      --------------  ----- \n",
      " 0   INJURY      14422 non-null  object\n",
      " 1   ROAD_CLASS  14422 non-null  object\n",
      " 2   Division    14422 non-null  int64 \n",
      " 3   TRAFFCTL    14422 non-null  object\n",
      " 4   VISIBILITY  14422 non-null  object\n",
      " 5   LIGHT       14422 non-null  object\n",
      " 6   RDSFCOND    14422 non-null  object\n",
      " 7   INVTYPE     14422 non-null  object\n",
      " 8   INVAGE      14422 non-null  object\n",
      " 9   VEHTYPE     14422 non-null  object\n",
      " 10  DRIVCOND    14422 non-null  object\n",
      "dtypes: int64(1), object(10)\n",
      "memory usage: 1.3+ MB\n"
     ]
    }
   ],
   "source": [
    "df_reg_allfeatures.info()"
   ]
  },
  {
   "cell_type": "markdown",
   "metadata": {},
   "source": [
    "Even though we aggregated our features, we will be unable to perform any correlation or regression testing without converting each variable into string data. Let's do that."
   ]
  },
  {
   "cell_type": "code",
   "execution_count": 296,
   "metadata": {},
   "outputs": [],
   "source": [
    "df_reg_allfeatures[\"INJURY\"] = df_reg_allfeatures[\"INJURY\"].astype(str).astype(int)\n",
    "df_reg_allfeatures[\"ROAD_CLASS\"] = df_reg_allfeatures[\"ROAD_CLASS\"].astype(str).astype(int)\n",
    "df_reg_allfeatures[\"Division\"] = df_reg_allfeatures[\"Division\"].astype(str).astype(int)\n",
    "df_reg_allfeatures[\"TRAFFCTL\"] = df_reg_allfeatures[\"TRAFFCTL\"].astype(str).astype(int)\n",
    "df_reg_allfeatures[\"VISIBILITY\"] = df_reg_allfeatures[\"VISIBILITY\"].astype(str).astype(int)\n",
    "df_reg_allfeatures[\"LIGHT\"] = df_reg_allfeatures[\"LIGHT\"].astype(str).astype(int)\n",
    "df_reg_allfeatures[\"RDSFCOND\"] = df_reg_allfeatures[\"RDSFCOND\"].astype(str).astype(int)\n",
    "df_reg_allfeatures[\"INVTYPE\"] = df_reg_allfeatures[\"INVTYPE\"].astype(str).astype(int)\n",
    "df_reg_allfeatures[\"INVAGE\"] = df_reg_allfeatures[\"INVAGE\"].astype(str).astype(int)\n",
    "df_reg_allfeatures[\"VEHTYPE\"] = df_reg_allfeatures[\"VEHTYPE\"].astype(str).astype(int)\n",
    "df_reg_allfeatures[\"DRIVCOND\"] = df_reg_allfeatures[\"DRIVCOND\"].astype(str).astype(int)\n"
   ]
  },
  {
   "cell_type": "code",
   "execution_count": 297,
   "metadata": {},
   "outputs": [
    {
     "name": "stdout",
     "output_type": "stream",
     "text": [
      "<class 'pandas.core.frame.DataFrame'>\n",
      "Int64Index: 14422 entries, 0 to 16092\n",
      "Data columns (total 11 columns):\n",
      " #   Column      Non-Null Count  Dtype\n",
      "---  ------      --------------  -----\n",
      " 0   INJURY      14422 non-null  int32\n",
      " 1   ROAD_CLASS  14422 non-null  int32\n",
      " 2   Division    14422 non-null  int32\n",
      " 3   TRAFFCTL    14422 non-null  int32\n",
      " 4   VISIBILITY  14422 non-null  int32\n",
      " 5   LIGHT       14422 non-null  int32\n",
      " 6   RDSFCOND    14422 non-null  int32\n",
      " 7   INVTYPE     14422 non-null  int32\n",
      " 8   INVAGE      14422 non-null  int32\n",
      " 9   VEHTYPE     14422 non-null  int32\n",
      " 10  DRIVCOND    14422 non-null  int32\n",
      "dtypes: int32(11)\n",
      "memory usage: 732.4 KB\n"
     ]
    }
   ],
   "source": [
    "df_reg_allfeatures.info()"
   ]
  },
  {
   "cell_type": "markdown",
   "metadata": {},
   "source": [
    "Now it's ready for modelling."
   ]
  },
  {
   "cell_type": "markdown",
   "metadata": {},
   "source": [
    "### Correlation Matrices with Regression\n",
    "\n",
    "Now that we have cleaned our categorical data into numerically-scaled fields, let's compare this correlation matrix against the original dataframe's prior to cleaning."
   ]
  },
  {
   "cell_type": "markdown",
   "metadata": {},
   "source": [
    "#### Correlation Matrix for Original df dataframe"
   ]
  },
  {
   "cell_type": "code",
   "execution_count": 298,
   "metadata": {},
   "outputs": [
    {
     "data": {
      "image/png": "[encoded data removed]",
      "text/plain": [
       "<Figure size 1440x720 with 2 Axes>"
      ]
     },
     "metadata": {
      "needs_background": "light"
     },
     "output_type": "display_data"
    }
   ],
   "source": [
    "corrmat_df = df.corr()\n",
    "highest_corr_vars_df = corrmat_df.index\n",
    "plt.figure(figsize=(20,10))\n",
    "g = sb.heatmap(df[highest_corr_vars_df].corr(),annot = True,cmap = \"RdYlGn\")"
   ]
  },
  {
   "cell_type": "markdown",
   "metadata": {},
   "source": [
    "As we can see in the above, the initial \"raw\" dataset does not provide any correlations to our chosen variables as it has not yet been translated as numerical data. Unfortunately, These correlations don't tell us much about what we're looking for."
   ]
  },
  {
   "cell_type": "markdown",
   "metadata": {},
   "source": [
    "#### Correlation Matrix for New <i>df_reg_allfeatures</i> dataframe - Engineered Scaled Fatures"
   ]
  },
  {
   "cell_type": "code",
   "execution_count": 299,
   "metadata": {},
   "outputs": [
    {
     "data": {
      "image/png": "[encoded data removed]",
      "text/plain": [
       "<Figure size 1440x720 with 2 Axes>"
      ]
     },
     "metadata": {
      "needs_background": "light"
     },
     "output_type": "display_data"
    }
   ],
   "source": [
    "corrmat_df_reg = df_reg_allfeatures.corr()\n",
    "highest_corr_vars_df_reg = corrmat_df_reg.index\n",
    "plt.figure(figsize=(20,10))\n",
    "g = sb.heatmap(df_reg_allfeatures[highest_corr_vars_df_reg].corr(),annot = True,cmap = \"RdYlGn\")"
   ]
  },
  {
   "cell_type": "markdown",
   "metadata": {},
   "source": [
    "In analyzing the correlation matrix, there isn't much correlation in our features with the exception of the following:\n",
    "\n",
    "<b>Strong Positive Correlation between RDSCFCOND and VISIBILITY: <font color = \"green\">0.73</font></b>\n",
    "    The correlation between the Road Surface Condition and Visibility is the strongest among the variables. This should be expected, as both of these features are based on the weather conditions of the accident. For both features, the score indicates the severity of the weather that day. For example, if it was snowing, the score would correlate as snow impacts both visibility and road conditions.\n",
    "\n",
    "<b>Strong Positive Correlation between INVTYPE & INJURY: <font color = \"green\">0.62</font></b>\n",
    "    The correlation between the accident party's type of involvement has a strong correlation with the severity of injury. This would make sense, as Pedestrians, Cyclists, and others with a high vulnerability score under \"INVTYPE\" are more likely to experience more severe injuries than those lower on the vulnerability scale.\n",
    "    \n",
    "<b>Moderate Positive Correlation between VEHTYPE & DRIVCOND: <font color = \"green\">0.31</font></b>\n",
    "The correlation between the accident party's vehicle type and driving condition is moderately correlated. This is an interesting insight that isn't completely apparent or expected and warrants additional research.\n",
    "\n",
    "<b>Moderate Positive Correlation between TRAFFCTL & ROAD_CLASS: <font color = \"green\">0.27</font></b>\n",
    "As with the strong correlation between the road surface condition and visibility, the correlation between the type of traffic control and road class is to be somewhat expected as different controls are executed under different traffic conditions. For example, one wouldn't expect a school guard or a pedestrian crosswalk to be a control on the Expressway, however it would certainly be suitable for local roads and laneways.\n",
    "\n",
    "<b>Strong Negative Correlation between VEHTYPE & INJURY: <font color=\"red\">-0.47</font></b>\n",
    "The correlation between vehicle type and injury would be expected as a negative correlation, since vehicle type is ranked on a scale from strongest vehicle to weakest, whereas injury type ranks from worse injury to no injury. It is therefore a sound assumption that those in stronger vehicles are able to withstand a much greater impact, and therefore, their risk of injury goes down. As such, this negative correlation is sound and speaks to the reasoning behind the group's scaling.\n",
    "\n",
    "<b>Strong Negative Correlation between VEHTYPE & INVTYPE: <font color=\"red\">-0.58</font></b>\n",
    "As with the negative correlation above, the negative correlation between the accident party's vehicle type and their involvement type is to be expected, as the involvement type is scaled from most vulnerable to least, and vehicle type is scaled from least vulnerable to most."
   ]
  },
  {
   "cell_type": "code",
   "execution_count": null,
   "metadata": {},
   "outputs": [],
   "source": []
  },
  {
   "cell_type": "markdown",
   "metadata": {},
   "source": [
    "## <font color = \"red\">Individual Modelling Subset Feature and Target Only Dataframe</font>\n",
    "\n",
    "<font color = \"red\">To be used by the group to personalize the features to the model being created from the above df_class_allfeatures dataframe. May need to replicate dummy variables.</font>"
   ]
  },
  {
   "cell_type": "code",
   "execution_count": 290,
   "metadata": {},
   "outputs": [],
   "source": [
    "# Create subset of the dataframe with only features that we are interested in.\n",
    "df_reg_insertmodelname_features = df_reg_allfeatures.loc[:, ['INJURY', 'ROAD_CLASS', 'LIGHT', 'VISIBILITY', 'VEHTYPE']]"
   ]
  },
  {
   "cell_type": "code",
   "execution_count": 291,
   "metadata": {},
   "outputs": [
    {
     "data": {
      "text/html": [
       "<div>\n",
       "<style scoped>\n",
       "    .dataframe tbody tr th:only-of-type {\n",
       "        vertical-align: middle;\n",
       "    }\n",
       "\n",
       "    .dataframe tbody tr th {\n",
       "        vertical-align: top;\n",
       "    }\n",
       "\n",
       "    .dataframe thead th {\n",
       "        text-align: right;\n",
       "    }\n",
       "</style>\n",
       "<table border=\"1\" class=\"dataframe\">\n",
       "  <thead>\n",
       "    <tr style=\"text-align: right;\">\n",
       "      <th></th>\n",
       "      <th>INJURY</th>\n",
       "      <th>ROAD_CLASS</th>\n",
       "      <th>LIGHT</th>\n",
       "      <th>VISIBILITY</th>\n",
       "      <th>VEHTYPE</th>\n",
       "    </tr>\n",
       "  </thead>\n",
       "  <tbody>\n",
       "    <tr>\n",
       "      <th>0</th>\n",
       "      <td>4</td>\n",
       "      <td>8</td>\n",
       "      <td>6</td>\n",
       "      <td>1</td>\n",
       "      <td>0</td>\n",
       "    </tr>\n",
       "    <tr>\n",
       "      <th>1</th>\n",
       "      <td>3</td>\n",
       "      <td>8</td>\n",
       "      <td>6</td>\n",
       "      <td>1</td>\n",
       "      <td>0</td>\n",
       "    </tr>\n",
       "    <tr>\n",
       "      <th>2</th>\n",
       "      <td>3</td>\n",
       "      <td>8</td>\n",
       "      <td>6</td>\n",
       "      <td>1</td>\n",
       "      <td>6</td>\n",
       "    </tr>\n",
       "    <tr>\n",
       "      <th>3</th>\n",
       "      <td>3</td>\n",
       "      <td>8</td>\n",
       "      <td>6</td>\n",
       "      <td>1</td>\n",
       "      <td>0</td>\n",
       "    </tr>\n",
       "    <tr>\n",
       "      <th>4</th>\n",
       "      <td>3</td>\n",
       "      <td>8</td>\n",
       "      <td>6</td>\n",
       "      <td>1</td>\n",
       "      <td>0</td>\n",
       "    </tr>\n",
       "    <tr>\n",
       "      <th>...</th>\n",
       "      <td>...</td>\n",
       "      <td>...</td>\n",
       "      <td>...</td>\n",
       "      <td>...</td>\n",
       "      <td>...</td>\n",
       "    </tr>\n",
       "    <tr>\n",
       "      <th>16088</th>\n",
       "      <td>1</td>\n",
       "      <td>8</td>\n",
       "      <td>5</td>\n",
       "      <td>1</td>\n",
       "      <td>6</td>\n",
       "    </tr>\n",
       "    <tr>\n",
       "      <th>16089</th>\n",
       "      <td>4</td>\n",
       "      <td>8</td>\n",
       "      <td>5</td>\n",
       "      <td>1</td>\n",
       "      <td>0</td>\n",
       "    </tr>\n",
       "    <tr>\n",
       "      <th>16090</th>\n",
       "      <td>1</td>\n",
       "      <td>8</td>\n",
       "      <td>2</td>\n",
       "      <td>1</td>\n",
       "      <td>6</td>\n",
       "    </tr>\n",
       "    <tr>\n",
       "      <th>16091</th>\n",
       "      <td>1</td>\n",
       "      <td>8</td>\n",
       "      <td>2</td>\n",
       "      <td>1</td>\n",
       "      <td>6</td>\n",
       "    </tr>\n",
       "    <tr>\n",
       "      <th>16092</th>\n",
       "      <td>4</td>\n",
       "      <td>8</td>\n",
       "      <td>2</td>\n",
       "      <td>1</td>\n",
       "      <td>0</td>\n",
       "    </tr>\n",
       "  </tbody>\n",
       "</table>\n",
       "<p>14422 rows × 5 columns</p>\n",
       "</div>"
      ],
      "text/plain": [
       "      INJURY ROAD_CLASS LIGHT VISIBILITY VEHTYPE\n",
       "0          4          8     6          1       0\n",
       "1          3          8     6          1       0\n",
       "2          3          8     6          1       6\n",
       "3          3          8     6          1       0\n",
       "4          3          8     6          1       0\n",
       "...      ...        ...   ...        ...     ...\n",
       "16088      1          8     5          1       6\n",
       "16089      4          8     5          1       0\n",
       "16090      1          8     2          1       6\n",
       "16091      1          8     2          1       6\n",
       "16092      4          8     2          1       0\n",
       "\n",
       "[14422 rows x 5 columns]"
      ]
     },
     "execution_count": 291,
     "metadata": {},
     "output_type": "execute_result"
    }
   ],
   "source": [
    "df_reg_insertmodelname_features"
   ]
  },
  {
   "cell_type": "code",
   "execution_count": null,
   "metadata": {},
   "outputs": [],
   "source": []
  },
  {
   "cell_type": "code",
   "execution_count": null,
   "metadata": {},
   "outputs": [],
   "source": []
  }
 ],
 "metadata": {
  "kernelspec": {
   "display_name": "Python 3",
   "language": "python",
   "name": "python3"
  },
  "language_info": {
   "codemirror_mode": {
    "name": "ipython",
    "version": 3
   },
   "file_extension": ".py",
   "mimetype": "text/x-python",
   "name": "python",
   "nbconvert_exporter": "python",
   "pygments_lexer": "ipython3",
   "version": "3.8.5"
  }
 },
 "nbformat": 4,
 "nbformat_minor": 4
}
