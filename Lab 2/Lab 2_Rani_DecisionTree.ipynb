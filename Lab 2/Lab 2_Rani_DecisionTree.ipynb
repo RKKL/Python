{
 "cells": [
  {
   "cell_type": "code",
   "execution_count": 1,
   "metadata": {},
   "outputs": [],
   "source": [
    "%matplotlib inline\n",
    "import numpy as np\n",
    "import pandas as pd\n",
    "import seaborn as sb\n",
    "import matplotlib.pyplot as plt "
   ]
  },
  {
   "cell_type": "code",
   "execution_count": 2,
   "metadata": {},
   "outputs": [],
   "source": [
    "df = pd.read_csv('KSI.csv')"
   ]
  },
  {
   "cell_type": "code",
   "execution_count": 3,
   "metadata": {},
   "outputs": [
    {
     "data": {
      "text/html": [
       "<div>\n",
       "<style scoped>\n",
       "    .dataframe tbody tr th:only-of-type {\n",
       "        vertical-align: middle;\n",
       "    }\n",
       "\n",
       "    .dataframe tbody tr th {\n",
       "        vertical-align: top;\n",
       "    }\n",
       "\n",
       "    .dataframe thead th {\n",
       "        text-align: right;\n",
       "    }\n",
       "</style>\n",
       "<table border=\"1\" class=\"dataframe\">\n",
       "  <thead>\n",
       "    <tr style=\"text-align: right;\">\n",
       "      <th></th>\n",
       "      <th>X</th>\n",
       "      <th>Y</th>\n",
       "      <th>Index_</th>\n",
       "      <th>ACCNUM</th>\n",
       "      <th>YEAR</th>\n",
       "      <th>DATE</th>\n",
       "      <th>TIME</th>\n",
       "      <th>HOUR</th>\n",
       "      <th>STREET1</th>\n",
       "      <th>STREET2</th>\n",
       "      <th>...</th>\n",
       "      <th>EMERG_VEH</th>\n",
       "      <th>PASSENGER</th>\n",
       "      <th>SPEEDING</th>\n",
       "      <th>AG_DRIV</th>\n",
       "      <th>REDLIGHT</th>\n",
       "      <th>ALCOHOL</th>\n",
       "      <th>DISABILITY</th>\n",
       "      <th>Hood_ID</th>\n",
       "      <th>Neighbourhood</th>\n",
       "      <th>ObjectId</th>\n",
       "    </tr>\n",
       "  </thead>\n",
       "  <tbody>\n",
       "    <tr>\n",
       "      <th>0</th>\n",
       "      <td>-8829728.092</td>\n",
       "      <td>5419070.899</td>\n",
       "      <td>3389067</td>\n",
       "      <td>893184</td>\n",
       "      <td>2006</td>\n",
       "      <td>2006/01/01 05:00:00+00</td>\n",
       "      <td>236</td>\n",
       "      <td>2</td>\n",
       "      <td>WOODBINE AVE</td>\n",
       "      <td>O CONNOR DR</td>\n",
       "      <td>...</td>\n",
       "      <td>NaN</td>\n",
       "      <td>Yes</td>\n",
       "      <td>Yes</td>\n",
       "      <td>Yes</td>\n",
       "      <td>NaN</td>\n",
       "      <td>Yes</td>\n",
       "      <td>NaN</td>\n",
       "      <td>60</td>\n",
       "      <td>Woodbine-Lumsden (60)</td>\n",
       "      <td>1</td>\n",
       "    </tr>\n",
       "    <tr>\n",
       "      <th>1</th>\n",
       "      <td>-8829728.092</td>\n",
       "      <td>5419070.899</td>\n",
       "      <td>3389068</td>\n",
       "      <td>893184</td>\n",
       "      <td>2006</td>\n",
       "      <td>2006/01/01 05:00:00+00</td>\n",
       "      <td>236</td>\n",
       "      <td>2</td>\n",
       "      <td>WOODBINE AVE</td>\n",
       "      <td>O CONNOR DR</td>\n",
       "      <td>...</td>\n",
       "      <td>NaN</td>\n",
       "      <td>Yes</td>\n",
       "      <td>Yes</td>\n",
       "      <td>Yes</td>\n",
       "      <td>NaN</td>\n",
       "      <td>Yes</td>\n",
       "      <td>NaN</td>\n",
       "      <td>60</td>\n",
       "      <td>Woodbine-Lumsden (60)</td>\n",
       "      <td>2</td>\n",
       "    </tr>\n",
       "    <tr>\n",
       "      <th>2</th>\n",
       "      <td>-8829728.092</td>\n",
       "      <td>5419070.899</td>\n",
       "      <td>3389069</td>\n",
       "      <td>893184</td>\n",
       "      <td>2006</td>\n",
       "      <td>2006/01/01 05:00:00+00</td>\n",
       "      <td>236</td>\n",
       "      <td>2</td>\n",
       "      <td>WOODBINE AVE</td>\n",
       "      <td>O CONNOR DR</td>\n",
       "      <td>...</td>\n",
       "      <td>NaN</td>\n",
       "      <td>Yes</td>\n",
       "      <td>Yes</td>\n",
       "      <td>Yes</td>\n",
       "      <td>NaN</td>\n",
       "      <td>Yes</td>\n",
       "      <td>NaN</td>\n",
       "      <td>60</td>\n",
       "      <td>Woodbine-Lumsden (60)</td>\n",
       "      <td>3</td>\n",
       "    </tr>\n",
       "    <tr>\n",
       "      <th>3</th>\n",
       "      <td>-8829728.092</td>\n",
       "      <td>5419070.899</td>\n",
       "      <td>3389070</td>\n",
       "      <td>893184</td>\n",
       "      <td>2006</td>\n",
       "      <td>2006/01/01 05:00:00+00</td>\n",
       "      <td>236</td>\n",
       "      <td>2</td>\n",
       "      <td>WOODBINE AVE</td>\n",
       "      <td>O CONNOR DR</td>\n",
       "      <td>...</td>\n",
       "      <td>NaN</td>\n",
       "      <td>Yes</td>\n",
       "      <td>Yes</td>\n",
       "      <td>Yes</td>\n",
       "      <td>NaN</td>\n",
       "      <td>Yes</td>\n",
       "      <td>NaN</td>\n",
       "      <td>60</td>\n",
       "      <td>Woodbine-Lumsden (60)</td>\n",
       "      <td>4</td>\n",
       "    </tr>\n",
       "    <tr>\n",
       "      <th>4</th>\n",
       "      <td>-8829728.092</td>\n",
       "      <td>5419070.899</td>\n",
       "      <td>3389071</td>\n",
       "      <td>893184</td>\n",
       "      <td>2006</td>\n",
       "      <td>2006/01/01 05:00:00+00</td>\n",
       "      <td>236</td>\n",
       "      <td>2</td>\n",
       "      <td>WOODBINE AVE</td>\n",
       "      <td>O CONNOR DR</td>\n",
       "      <td>...</td>\n",
       "      <td>NaN</td>\n",
       "      <td>Yes</td>\n",
       "      <td>Yes</td>\n",
       "      <td>Yes</td>\n",
       "      <td>NaN</td>\n",
       "      <td>Yes</td>\n",
       "      <td>NaN</td>\n",
       "      <td>60</td>\n",
       "      <td>Woodbine-Lumsden (60)</td>\n",
       "      <td>5</td>\n",
       "    </tr>\n",
       "    <tr>\n",
       "      <th>...</th>\n",
       "      <td>...</td>\n",
       "      <td>...</td>\n",
       "      <td>...</td>\n",
       "      <td>...</td>\n",
       "      <td>...</td>\n",
       "      <td>...</td>\n",
       "      <td>...</td>\n",
       "      <td>...</td>\n",
       "      <td>...</td>\n",
       "      <td>...</td>\n",
       "      <td>...</td>\n",
       "      <td>...</td>\n",
       "      <td>...</td>\n",
       "      <td>...</td>\n",
       "      <td>...</td>\n",
       "      <td>...</td>\n",
       "      <td>...</td>\n",
       "      <td>...</td>\n",
       "      <td>...</td>\n",
       "      <td>...</td>\n",
       "      <td>...</td>\n",
       "    </tr>\n",
       "    <tr>\n",
       "      <th>16088</th>\n",
       "      <td>-8851734.397</td>\n",
       "      <td>5427216.682</td>\n",
       "      <td>81356467</td>\n",
       "      <td>9002496688</td>\n",
       "      <td>2019</td>\n",
       "      <td>2019/12/27 05:00:00+00</td>\n",
       "      <td>2324</td>\n",
       "      <td>23</td>\n",
       "      <td>2901 JANE ST</td>\n",
       "      <td>JANE ST</td>\n",
       "      <td>...</td>\n",
       "      <td>NaN</td>\n",
       "      <td>NaN</td>\n",
       "      <td>NaN</td>\n",
       "      <td>Yes</td>\n",
       "      <td>NaN</td>\n",
       "      <td>NaN</td>\n",
       "      <td>NaN</td>\n",
       "      <td>25</td>\n",
       "      <td>Glenfield-Jane Heights (25)</td>\n",
       "      <td>16089</td>\n",
       "    </tr>\n",
       "    <tr>\n",
       "      <th>16089</th>\n",
       "      <td>-8851734.397</td>\n",
       "      <td>5427216.682</td>\n",
       "      <td>81356468</td>\n",
       "      <td>9002496688</td>\n",
       "      <td>2019</td>\n",
       "      <td>2019/12/27 05:00:00+00</td>\n",
       "      <td>2324</td>\n",
       "      <td>23</td>\n",
       "      <td>2901 JANE ST</td>\n",
       "      <td>JANE ST</td>\n",
       "      <td>...</td>\n",
       "      <td>NaN</td>\n",
       "      <td>NaN</td>\n",
       "      <td>NaN</td>\n",
       "      <td>Yes</td>\n",
       "      <td>NaN</td>\n",
       "      <td>NaN</td>\n",
       "      <td>NaN</td>\n",
       "      <td>25</td>\n",
       "      <td>Glenfield-Jane Heights (25)</td>\n",
       "      <td>16090</td>\n",
       "    </tr>\n",
       "    <tr>\n",
       "      <th>16090</th>\n",
       "      <td>-8837083.082</td>\n",
       "      <td>5412746.086</td>\n",
       "      <td>81340413</td>\n",
       "      <td>9002500260</td>\n",
       "      <td>2019</td>\n",
       "      <td>2019/12/28 05:00:00+00</td>\n",
       "      <td>1514</td>\n",
       "      <td>15</td>\n",
       "      <td>GERRARD ST</td>\n",
       "      <td>BAY ST</td>\n",
       "      <td>...</td>\n",
       "      <td>NaN</td>\n",
       "      <td>NaN</td>\n",
       "      <td>NaN</td>\n",
       "      <td>Yes</td>\n",
       "      <td>Yes</td>\n",
       "      <td>NaN</td>\n",
       "      <td>NaN</td>\n",
       "      <td>76</td>\n",
       "      <td>Bay Street Corridor (76)</td>\n",
       "      <td>16091</td>\n",
       "    </tr>\n",
       "    <tr>\n",
       "      <th>16091</th>\n",
       "      <td>-8837083.082</td>\n",
       "      <td>5412746.086</td>\n",
       "      <td>81340414</td>\n",
       "      <td>9002500260</td>\n",
       "      <td>2019</td>\n",
       "      <td>2019/12/28 05:00:00+00</td>\n",
       "      <td>1514</td>\n",
       "      <td>15</td>\n",
       "      <td>GERRARD ST</td>\n",
       "      <td>BAY ST</td>\n",
       "      <td>...</td>\n",
       "      <td>NaN</td>\n",
       "      <td>NaN</td>\n",
       "      <td>NaN</td>\n",
       "      <td>Yes</td>\n",
       "      <td>Yes</td>\n",
       "      <td>NaN</td>\n",
       "      <td>NaN</td>\n",
       "      <td>76</td>\n",
       "      <td>Bay Street Corridor (76)</td>\n",
       "      <td>16092</td>\n",
       "    </tr>\n",
       "    <tr>\n",
       "      <th>16092</th>\n",
       "      <td>-8837083.082</td>\n",
       "      <td>5412746.086</td>\n",
       "      <td>81340415</td>\n",
       "      <td>9002500260</td>\n",
       "      <td>2019</td>\n",
       "      <td>2019/12/28 05:00:00+00</td>\n",
       "      <td>1514</td>\n",
       "      <td>15</td>\n",
       "      <td>GERRARD ST</td>\n",
       "      <td>BAY ST</td>\n",
       "      <td>...</td>\n",
       "      <td>NaN</td>\n",
       "      <td>NaN</td>\n",
       "      <td>NaN</td>\n",
       "      <td>Yes</td>\n",
       "      <td>Yes</td>\n",
       "      <td>NaN</td>\n",
       "      <td>NaN</td>\n",
       "      <td>76</td>\n",
       "      <td>Bay Street Corridor (76)</td>\n",
       "      <td>16093</td>\n",
       "    </tr>\n",
       "  </tbody>\n",
       "</table>\n",
       "<p>16093 rows × 56 columns</p>\n",
       "</div>"
      ],
      "text/plain": [
       "                 X            Y    Index_      ACCNUM  YEAR  \\\n",
       "0     -8829728.092  5419070.899   3389067      893184  2006   \n",
       "1     -8829728.092  5419070.899   3389068      893184  2006   \n",
       "2     -8829728.092  5419070.899   3389069      893184  2006   \n",
       "3     -8829728.092  5419070.899   3389070      893184  2006   \n",
       "4     -8829728.092  5419070.899   3389071      893184  2006   \n",
       "...            ...          ...       ...         ...   ...   \n",
       "16088 -8851734.397  5427216.682  81356467  9002496688  2019   \n",
       "16089 -8851734.397  5427216.682  81356468  9002496688  2019   \n",
       "16090 -8837083.082  5412746.086  81340413  9002500260  2019   \n",
       "16091 -8837083.082  5412746.086  81340414  9002500260  2019   \n",
       "16092 -8837083.082  5412746.086  81340415  9002500260  2019   \n",
       "\n",
       "                         DATE  TIME  HOUR       STREET1      STREET2  ...  \\\n",
       "0      2006/01/01 05:00:00+00   236     2  WOODBINE AVE  O CONNOR DR  ...   \n",
       "1      2006/01/01 05:00:00+00   236     2  WOODBINE AVE  O CONNOR DR  ...   \n",
       "2      2006/01/01 05:00:00+00   236     2  WOODBINE AVE  O CONNOR DR  ...   \n",
       "3      2006/01/01 05:00:00+00   236     2  WOODBINE AVE  O CONNOR DR  ...   \n",
       "4      2006/01/01 05:00:00+00   236     2  WOODBINE AVE  O CONNOR DR  ...   \n",
       "...                       ...   ...   ...           ...          ...  ...   \n",
       "16088  2019/12/27 05:00:00+00  2324    23  2901 JANE ST      JANE ST  ...   \n",
       "16089  2019/12/27 05:00:00+00  2324    23  2901 JANE ST      JANE ST  ...   \n",
       "16090  2019/12/28 05:00:00+00  1514    15    GERRARD ST       BAY ST  ...   \n",
       "16091  2019/12/28 05:00:00+00  1514    15    GERRARD ST       BAY ST  ...   \n",
       "16092  2019/12/28 05:00:00+00  1514    15    GERRARD ST       BAY ST  ...   \n",
       "\n",
       "      EMERG_VEH PASSENGER SPEEDING  AG_DRIV  REDLIGHT  ALCOHOL  DISABILITY  \\\n",
       "0           NaN       Yes      Yes      Yes       NaN      Yes         NaN   \n",
       "1           NaN       Yes      Yes      Yes       NaN      Yes         NaN   \n",
       "2           NaN       Yes      Yes      Yes       NaN      Yes         NaN   \n",
       "3           NaN       Yes      Yes      Yes       NaN      Yes         NaN   \n",
       "4           NaN       Yes      Yes      Yes       NaN      Yes         NaN   \n",
       "...         ...       ...      ...      ...       ...      ...         ...   \n",
       "16088       NaN       NaN      NaN      Yes       NaN      NaN         NaN   \n",
       "16089       NaN       NaN      NaN      Yes       NaN      NaN         NaN   \n",
       "16090       NaN       NaN      NaN      Yes       Yes      NaN         NaN   \n",
       "16091       NaN       NaN      NaN      Yes       Yes      NaN         NaN   \n",
       "16092       NaN       NaN      NaN      Yes       Yes      NaN         NaN   \n",
       "\n",
       "      Hood_ID                Neighbourhood ObjectId  \n",
       "0          60        Woodbine-Lumsden (60)        1  \n",
       "1          60        Woodbine-Lumsden (60)        2  \n",
       "2          60        Woodbine-Lumsden (60)        3  \n",
       "3          60        Woodbine-Lumsden (60)        4  \n",
       "4          60        Woodbine-Lumsden (60)        5  \n",
       "...       ...                          ...      ...  \n",
       "16088      25  Glenfield-Jane Heights (25)    16089  \n",
       "16089      25  Glenfield-Jane Heights (25)    16090  \n",
       "16090      76     Bay Street Corridor (76)    16091  \n",
       "16091      76     Bay Street Corridor (76)    16092  \n",
       "16092      76     Bay Street Corridor (76)    16093  \n",
       "\n",
       "[16093 rows x 56 columns]"
      ]
     },
     "execution_count": 3,
     "metadata": {},
     "output_type": "execute_result"
    }
   ],
   "source": [
    "df"
   ]
  },
  {
   "cell_type": "code",
   "execution_count": 4,
   "metadata": {},
   "outputs": [
    {
     "data": {
      "text/html": [
       "<div>\n",
       "<style scoped>\n",
       "    .dataframe tbody tr th:only-of-type {\n",
       "        vertical-align: middle;\n",
       "    }\n",
       "\n",
       "    .dataframe tbody tr th {\n",
       "        vertical-align: top;\n",
       "    }\n",
       "\n",
       "    .dataframe thead th {\n",
       "        text-align: right;\n",
       "    }\n",
       "</style>\n",
       "<table border=\"1\" class=\"dataframe\">\n",
       "  <thead>\n",
       "    <tr style=\"text-align: right;\">\n",
       "      <th></th>\n",
       "      <th>X</th>\n",
       "      <th>Y</th>\n",
       "      <th>Index_</th>\n",
       "      <th>ACCNUM</th>\n",
       "      <th>YEAR</th>\n",
       "      <th>DATE</th>\n",
       "      <th>TIME</th>\n",
       "      <th>HOUR</th>\n",
       "      <th>STREET1</th>\n",
       "      <th>STREET2</th>\n",
       "      <th>...</th>\n",
       "      <th>EMERG_VEH</th>\n",
       "      <th>PASSENGER</th>\n",
       "      <th>SPEEDING</th>\n",
       "      <th>AG_DRIV</th>\n",
       "      <th>REDLIGHT</th>\n",
       "      <th>ALCOHOL</th>\n",
       "      <th>DISABILITY</th>\n",
       "      <th>Hood_ID</th>\n",
       "      <th>Neighbourhood</th>\n",
       "      <th>ObjectId</th>\n",
       "    </tr>\n",
       "  </thead>\n",
       "  <tbody>\n",
       "    <tr>\n",
       "      <th>0</th>\n",
       "      <td>-8829728.092</td>\n",
       "      <td>5419070.899</td>\n",
       "      <td>3389067</td>\n",
       "      <td>893184</td>\n",
       "      <td>2006</td>\n",
       "      <td>2006/01/01 05:00:00+00</td>\n",
       "      <td>236</td>\n",
       "      <td>2</td>\n",
       "      <td>WOODBINE AVE</td>\n",
       "      <td>O CONNOR DR</td>\n",
       "      <td>...</td>\n",
       "      <td>NaN</td>\n",
       "      <td>Yes</td>\n",
       "      <td>Yes</td>\n",
       "      <td>Yes</td>\n",
       "      <td>NaN</td>\n",
       "      <td>Yes</td>\n",
       "      <td>NaN</td>\n",
       "      <td>60</td>\n",
       "      <td>Woodbine-Lumsden (60)</td>\n",
       "      <td>1</td>\n",
       "    </tr>\n",
       "    <tr>\n",
       "      <th>1</th>\n",
       "      <td>-8829728.092</td>\n",
       "      <td>5419070.899</td>\n",
       "      <td>3389068</td>\n",
       "      <td>893184</td>\n",
       "      <td>2006</td>\n",
       "      <td>2006/01/01 05:00:00+00</td>\n",
       "      <td>236</td>\n",
       "      <td>2</td>\n",
       "      <td>WOODBINE AVE</td>\n",
       "      <td>O CONNOR DR</td>\n",
       "      <td>...</td>\n",
       "      <td>NaN</td>\n",
       "      <td>Yes</td>\n",
       "      <td>Yes</td>\n",
       "      <td>Yes</td>\n",
       "      <td>NaN</td>\n",
       "      <td>Yes</td>\n",
       "      <td>NaN</td>\n",
       "      <td>60</td>\n",
       "      <td>Woodbine-Lumsden (60)</td>\n",
       "      <td>2</td>\n",
       "    </tr>\n",
       "    <tr>\n",
       "      <th>2</th>\n",
       "      <td>-8829728.092</td>\n",
       "      <td>5419070.899</td>\n",
       "      <td>3389069</td>\n",
       "      <td>893184</td>\n",
       "      <td>2006</td>\n",
       "      <td>2006/01/01 05:00:00+00</td>\n",
       "      <td>236</td>\n",
       "      <td>2</td>\n",
       "      <td>WOODBINE AVE</td>\n",
       "      <td>O CONNOR DR</td>\n",
       "      <td>...</td>\n",
       "      <td>NaN</td>\n",
       "      <td>Yes</td>\n",
       "      <td>Yes</td>\n",
       "      <td>Yes</td>\n",
       "      <td>NaN</td>\n",
       "      <td>Yes</td>\n",
       "      <td>NaN</td>\n",
       "      <td>60</td>\n",
       "      <td>Woodbine-Lumsden (60)</td>\n",
       "      <td>3</td>\n",
       "    </tr>\n",
       "    <tr>\n",
       "      <th>3</th>\n",
       "      <td>-8829728.092</td>\n",
       "      <td>5419070.899</td>\n",
       "      <td>3389070</td>\n",
       "      <td>893184</td>\n",
       "      <td>2006</td>\n",
       "      <td>2006/01/01 05:00:00+00</td>\n",
       "      <td>236</td>\n",
       "      <td>2</td>\n",
       "      <td>WOODBINE AVE</td>\n",
       "      <td>O CONNOR DR</td>\n",
       "      <td>...</td>\n",
       "      <td>NaN</td>\n",
       "      <td>Yes</td>\n",
       "      <td>Yes</td>\n",
       "      <td>Yes</td>\n",
       "      <td>NaN</td>\n",
       "      <td>Yes</td>\n",
       "      <td>NaN</td>\n",
       "      <td>60</td>\n",
       "      <td>Woodbine-Lumsden (60)</td>\n",
       "      <td>4</td>\n",
       "    </tr>\n",
       "    <tr>\n",
       "      <th>4</th>\n",
       "      <td>-8829728.092</td>\n",
       "      <td>5419070.899</td>\n",
       "      <td>3389071</td>\n",
       "      <td>893184</td>\n",
       "      <td>2006</td>\n",
       "      <td>2006/01/01 05:00:00+00</td>\n",
       "      <td>236</td>\n",
       "      <td>2</td>\n",
       "      <td>WOODBINE AVE</td>\n",
       "      <td>O CONNOR DR</td>\n",
       "      <td>...</td>\n",
       "      <td>NaN</td>\n",
       "      <td>Yes</td>\n",
       "      <td>Yes</td>\n",
       "      <td>Yes</td>\n",
       "      <td>NaN</td>\n",
       "      <td>Yes</td>\n",
       "      <td>NaN</td>\n",
       "      <td>60</td>\n",
       "      <td>Woodbine-Lumsden (60)</td>\n",
       "      <td>5</td>\n",
       "    </tr>\n",
       "    <tr>\n",
       "      <th>...</th>\n",
       "      <td>...</td>\n",
       "      <td>...</td>\n",
       "      <td>...</td>\n",
       "      <td>...</td>\n",
       "      <td>...</td>\n",
       "      <td>...</td>\n",
       "      <td>...</td>\n",
       "      <td>...</td>\n",
       "      <td>...</td>\n",
       "      <td>...</td>\n",
       "      <td>...</td>\n",
       "      <td>...</td>\n",
       "      <td>...</td>\n",
       "      <td>...</td>\n",
       "      <td>...</td>\n",
       "      <td>...</td>\n",
       "      <td>...</td>\n",
       "      <td>...</td>\n",
       "      <td>...</td>\n",
       "      <td>...</td>\n",
       "      <td>...</td>\n",
       "    </tr>\n",
       "    <tr>\n",
       "      <th>16088</th>\n",
       "      <td>-8851734.397</td>\n",
       "      <td>5427216.682</td>\n",
       "      <td>81356467</td>\n",
       "      <td>9002496688</td>\n",
       "      <td>2019</td>\n",
       "      <td>2019/12/27 05:00:00+00</td>\n",
       "      <td>2324</td>\n",
       "      <td>23</td>\n",
       "      <td>2901 JANE ST</td>\n",
       "      <td>JANE ST</td>\n",
       "      <td>...</td>\n",
       "      <td>NaN</td>\n",
       "      <td>NaN</td>\n",
       "      <td>NaN</td>\n",
       "      <td>Yes</td>\n",
       "      <td>NaN</td>\n",
       "      <td>NaN</td>\n",
       "      <td>NaN</td>\n",
       "      <td>25</td>\n",
       "      <td>Glenfield-Jane Heights (25)</td>\n",
       "      <td>16089</td>\n",
       "    </tr>\n",
       "    <tr>\n",
       "      <th>16089</th>\n",
       "      <td>-8851734.397</td>\n",
       "      <td>5427216.682</td>\n",
       "      <td>81356468</td>\n",
       "      <td>9002496688</td>\n",
       "      <td>2019</td>\n",
       "      <td>2019/12/27 05:00:00+00</td>\n",
       "      <td>2324</td>\n",
       "      <td>23</td>\n",
       "      <td>2901 JANE ST</td>\n",
       "      <td>JANE ST</td>\n",
       "      <td>...</td>\n",
       "      <td>NaN</td>\n",
       "      <td>NaN</td>\n",
       "      <td>NaN</td>\n",
       "      <td>Yes</td>\n",
       "      <td>NaN</td>\n",
       "      <td>NaN</td>\n",
       "      <td>NaN</td>\n",
       "      <td>25</td>\n",
       "      <td>Glenfield-Jane Heights (25)</td>\n",
       "      <td>16090</td>\n",
       "    </tr>\n",
       "    <tr>\n",
       "      <th>16090</th>\n",
       "      <td>-8837083.082</td>\n",
       "      <td>5412746.086</td>\n",
       "      <td>81340413</td>\n",
       "      <td>9002500260</td>\n",
       "      <td>2019</td>\n",
       "      <td>2019/12/28 05:00:00+00</td>\n",
       "      <td>1514</td>\n",
       "      <td>15</td>\n",
       "      <td>GERRARD ST</td>\n",
       "      <td>BAY ST</td>\n",
       "      <td>...</td>\n",
       "      <td>NaN</td>\n",
       "      <td>NaN</td>\n",
       "      <td>NaN</td>\n",
       "      <td>Yes</td>\n",
       "      <td>Yes</td>\n",
       "      <td>NaN</td>\n",
       "      <td>NaN</td>\n",
       "      <td>76</td>\n",
       "      <td>Bay Street Corridor (76)</td>\n",
       "      <td>16091</td>\n",
       "    </tr>\n",
       "    <tr>\n",
       "      <th>16091</th>\n",
       "      <td>-8837083.082</td>\n",
       "      <td>5412746.086</td>\n",
       "      <td>81340414</td>\n",
       "      <td>9002500260</td>\n",
       "      <td>2019</td>\n",
       "      <td>2019/12/28 05:00:00+00</td>\n",
       "      <td>1514</td>\n",
       "      <td>15</td>\n",
       "      <td>GERRARD ST</td>\n",
       "      <td>BAY ST</td>\n",
       "      <td>...</td>\n",
       "      <td>NaN</td>\n",
       "      <td>NaN</td>\n",
       "      <td>NaN</td>\n",
       "      <td>Yes</td>\n",
       "      <td>Yes</td>\n",
       "      <td>NaN</td>\n",
       "      <td>NaN</td>\n",
       "      <td>76</td>\n",
       "      <td>Bay Street Corridor (76)</td>\n",
       "      <td>16092</td>\n",
       "    </tr>\n",
       "    <tr>\n",
       "      <th>16092</th>\n",
       "      <td>-8837083.082</td>\n",
       "      <td>5412746.086</td>\n",
       "      <td>81340415</td>\n",
       "      <td>9002500260</td>\n",
       "      <td>2019</td>\n",
       "      <td>2019/12/28 05:00:00+00</td>\n",
       "      <td>1514</td>\n",
       "      <td>15</td>\n",
       "      <td>GERRARD ST</td>\n",
       "      <td>BAY ST</td>\n",
       "      <td>...</td>\n",
       "      <td>NaN</td>\n",
       "      <td>NaN</td>\n",
       "      <td>NaN</td>\n",
       "      <td>Yes</td>\n",
       "      <td>Yes</td>\n",
       "      <td>NaN</td>\n",
       "      <td>NaN</td>\n",
       "      <td>76</td>\n",
       "      <td>Bay Street Corridor (76)</td>\n",
       "      <td>16093</td>\n",
       "    </tr>\n",
       "  </tbody>\n",
       "</table>\n",
       "<p>16093 rows × 56 columns</p>\n",
       "</div>"
      ],
      "text/plain": [
       "                 X            Y    Index_      ACCNUM  YEAR  \\\n",
       "0     -8829728.092  5419070.899   3389067      893184  2006   \n",
       "1     -8829728.092  5419070.899   3389068      893184  2006   \n",
       "2     -8829728.092  5419070.899   3389069      893184  2006   \n",
       "3     -8829728.092  5419070.899   3389070      893184  2006   \n",
       "4     -8829728.092  5419070.899   3389071      893184  2006   \n",
       "...            ...          ...       ...         ...   ...   \n",
       "16088 -8851734.397  5427216.682  81356467  9002496688  2019   \n",
       "16089 -8851734.397  5427216.682  81356468  9002496688  2019   \n",
       "16090 -8837083.082  5412746.086  81340413  9002500260  2019   \n",
       "16091 -8837083.082  5412746.086  81340414  9002500260  2019   \n",
       "16092 -8837083.082  5412746.086  81340415  9002500260  2019   \n",
       "\n",
       "                         DATE  TIME  HOUR       STREET1      STREET2  ...  \\\n",
       "0      2006/01/01 05:00:00+00   236     2  WOODBINE AVE  O CONNOR DR  ...   \n",
       "1      2006/01/01 05:00:00+00   236     2  WOODBINE AVE  O CONNOR DR  ...   \n",
       "2      2006/01/01 05:00:00+00   236     2  WOODBINE AVE  O CONNOR DR  ...   \n",
       "3      2006/01/01 05:00:00+00   236     2  WOODBINE AVE  O CONNOR DR  ...   \n",
       "4      2006/01/01 05:00:00+00   236     2  WOODBINE AVE  O CONNOR DR  ...   \n",
       "...                       ...   ...   ...           ...          ...  ...   \n",
       "16088  2019/12/27 05:00:00+00  2324    23  2901 JANE ST      JANE ST  ...   \n",
       "16089  2019/12/27 05:00:00+00  2324    23  2901 JANE ST      JANE ST  ...   \n",
       "16090  2019/12/28 05:00:00+00  1514    15    GERRARD ST       BAY ST  ...   \n",
       "16091  2019/12/28 05:00:00+00  1514    15    GERRARD ST       BAY ST  ...   \n",
       "16092  2019/12/28 05:00:00+00  1514    15    GERRARD ST       BAY ST  ...   \n",
       "\n",
       "      EMERG_VEH PASSENGER SPEEDING  AG_DRIV  REDLIGHT  ALCOHOL  DISABILITY  \\\n",
       "0           NaN       Yes      Yes      Yes       NaN      Yes         NaN   \n",
       "1           NaN       Yes      Yes      Yes       NaN      Yes         NaN   \n",
       "2           NaN       Yes      Yes      Yes       NaN      Yes         NaN   \n",
       "3           NaN       Yes      Yes      Yes       NaN      Yes         NaN   \n",
       "4           NaN       Yes      Yes      Yes       NaN      Yes         NaN   \n",
       "...         ...       ...      ...      ...       ...      ...         ...   \n",
       "16088       NaN       NaN      NaN      Yes       NaN      NaN         NaN   \n",
       "16089       NaN       NaN      NaN      Yes       NaN      NaN         NaN   \n",
       "16090       NaN       NaN      NaN      Yes       Yes      NaN         NaN   \n",
       "16091       NaN       NaN      NaN      Yes       Yes      NaN         NaN   \n",
       "16092       NaN       NaN      NaN      Yes       Yes      NaN         NaN   \n",
       "\n",
       "      Hood_ID                Neighbourhood ObjectId  \n",
       "0          60        Woodbine-Lumsden (60)        1  \n",
       "1          60        Woodbine-Lumsden (60)        2  \n",
       "2          60        Woodbine-Lumsden (60)        3  \n",
       "3          60        Woodbine-Lumsden (60)        4  \n",
       "4          60        Woodbine-Lumsden (60)        5  \n",
       "...       ...                          ...      ...  \n",
       "16088      25  Glenfield-Jane Heights (25)    16089  \n",
       "16089      25  Glenfield-Jane Heights (25)    16090  \n",
       "16090      76     Bay Street Corridor (76)    16091  \n",
       "16091      76     Bay Street Corridor (76)    16092  \n",
       "16092      76     Bay Street Corridor (76)    16093  \n",
       "\n",
       "[16093 rows x 56 columns]"
      ]
     },
     "execution_count": 4,
     "metadata": {},
     "output_type": "execute_result"
    }
   ],
   "source": [
    "new_df = df[df.columns.drop(list(df.filter(regex='Unnamed:')))]\n",
    "new_df"
   ]
  },
  {
   "cell_type": "code",
   "execution_count": 5,
   "metadata": {},
   "outputs": [
    {
     "data": {
      "text/html": [
       "<div>\n",
       "<style scoped>\n",
       "    .dataframe tbody tr th:only-of-type {\n",
       "        vertical-align: middle;\n",
       "    }\n",
       "\n",
       "    .dataframe tbody tr th {\n",
       "        vertical-align: top;\n",
       "    }\n",
       "\n",
       "    .dataframe thead th {\n",
       "        text-align: right;\n",
       "    }\n",
       "</style>\n",
       "<table border=\"1\" class=\"dataframe\">\n",
       "  <thead>\n",
       "    <tr style=\"text-align: right;\">\n",
       "      <th></th>\n",
       "      <th>count</th>\n",
       "      <th>mean</th>\n",
       "      <th>std</th>\n",
       "      <th>min</th>\n",
       "      <th>25%</th>\n",
       "      <th>50%</th>\n",
       "      <th>75%</th>\n",
       "      <th>max</th>\n",
       "    </tr>\n",
       "  </thead>\n",
       "  <tbody>\n",
       "    <tr>\n",
       "      <th>X</th>\n",
       "      <td>16093.0</td>\n",
       "      <td>-8.838289e+06</td>\n",
       "      <td>1.158697e+04</td>\n",
       "      <td>-8.865305e+06</td>\n",
       "      <td>-8.846374e+06</td>\n",
       "      <td>-8.838364e+06</td>\n",
       "      <td>-8.829647e+06</td>\n",
       "      <td>-8.808254e+06</td>\n",
       "    </tr>\n",
       "    <tr>\n",
       "      <th>Y</th>\n",
       "      <td>16093.0</td>\n",
       "      <td>5.420851e+06</td>\n",
       "      <td>8.675426e+03</td>\n",
       "      <td>5.402526e+06</td>\n",
       "      <td>5.413383e+06</td>\n",
       "      <td>5.419648e+06</td>\n",
       "      <td>5.427921e+06</td>\n",
       "      <td>5.443099e+06</td>\n",
       "    </tr>\n",
       "    <tr>\n",
       "      <th>Index_</th>\n",
       "      <td>16093.0</td>\n",
       "      <td>3.252283e+07</td>\n",
       "      <td>3.594367e+07</td>\n",
       "      <td>3.363207e+06</td>\n",
       "      <td>5.332810e+06</td>\n",
       "      <td>7.423775e+06</td>\n",
       "      <td>8.050395e+07</td>\n",
       "      <td>8.140853e+07</td>\n",
       "    </tr>\n",
       "    <tr>\n",
       "      <th>ACCNUM</th>\n",
       "      <td>16093.0</td>\n",
       "      <td>2.296710e+09</td>\n",
       "      <td>3.253387e+09</td>\n",
       "      <td>1.284070e+05</td>\n",
       "      <td>1.069209e+06</td>\n",
       "      <td>1.290852e+06</td>\n",
       "      <td>5.001873e+09</td>\n",
       "      <td>9.085345e+09</td>\n",
       "    </tr>\n",
       "    <tr>\n",
       "      <th>YEAR</th>\n",
       "      <td>16093.0</td>\n",
       "      <td>2.011896e+03</td>\n",
       "      <td>4.010676e+00</td>\n",
       "      <td>2.006000e+03</td>\n",
       "      <td>2.008000e+03</td>\n",
       "      <td>2.012000e+03</td>\n",
       "      <td>2.015000e+03</td>\n",
       "      <td>2.019000e+03</td>\n",
       "    </tr>\n",
       "    <tr>\n",
       "      <th>TIME</th>\n",
       "      <td>16093.0</td>\n",
       "      <td>1.348327e+03</td>\n",
       "      <td>6.306883e+02</td>\n",
       "      <td>0.000000e+00</td>\n",
       "      <td>9.070000e+02</td>\n",
       "      <td>1.440000e+03</td>\n",
       "      <td>1.840000e+03</td>\n",
       "      <td>2.359000e+03</td>\n",
       "    </tr>\n",
       "    <tr>\n",
       "      <th>HOUR</th>\n",
       "      <td>16093.0</td>\n",
       "      <td>1.331088e+01</td>\n",
       "      <td>6.123885e+00</td>\n",
       "      <td>0.000000e+00</td>\n",
       "      <td>9.000000e+00</td>\n",
       "      <td>1.400000e+01</td>\n",
       "      <td>1.800000e+01</td>\n",
       "      <td>2.300000e+01</td>\n",
       "    </tr>\n",
       "    <tr>\n",
       "      <th>WardNum</th>\n",
       "      <td>13795.0</td>\n",
       "      <td>1.209424e+01</td>\n",
       "      <td>7.283801e+00</td>\n",
       "      <td>1.000000e+00</td>\n",
       "      <td>6.000000e+00</td>\n",
       "      <td>1.100000e+01</td>\n",
       "      <td>1.900000e+01</td>\n",
       "      <td>2.500000e+01</td>\n",
       "    </tr>\n",
       "    <tr>\n",
       "      <th>Division</th>\n",
       "      <td>16093.0</td>\n",
       "      <td>3.422016e+01</td>\n",
       "      <td>1.454478e+01</td>\n",
       "      <td>1.100000e+01</td>\n",
       "      <td>2.200000e+01</td>\n",
       "      <td>3.300000e+01</td>\n",
       "      <td>4.300000e+01</td>\n",
       "      <td>5.500000e+01</td>\n",
       "    </tr>\n",
       "    <tr>\n",
       "      <th>LATITUDE</th>\n",
       "      <td>16093.0</td>\n",
       "      <td>4.371113e+01</td>\n",
       "      <td>5.632519e-02</td>\n",
       "      <td>4.359205e+01</td>\n",
       "      <td>4.366264e+01</td>\n",
       "      <td>4.370334e+01</td>\n",
       "      <td>4.375704e+01</td>\n",
       "      <td>4.385545e+01</td>\n",
       "    </tr>\n",
       "    <tr>\n",
       "      <th>LONGITUDE</th>\n",
       "      <td>16093.0</td>\n",
       "      <td>-7.939570e+01</td>\n",
       "      <td>1.040876e-01</td>\n",
       "      <td>-7.963839e+01</td>\n",
       "      <td>-7.946833e+01</td>\n",
       "      <td>-7.939637e+01</td>\n",
       "      <td>-7.931807e+01</td>\n",
       "      <td>-7.912590e+01</td>\n",
       "    </tr>\n",
       "    <tr>\n",
       "      <th>FATAL_NO</th>\n",
       "      <td>673.0</td>\n",
       "      <td>2.983061e+01</td>\n",
       "      <td>1.820504e+01</td>\n",
       "      <td>1.000000e+00</td>\n",
       "      <td>1.500000e+01</td>\n",
       "      <td>2.900000e+01</td>\n",
       "      <td>4.300000e+01</td>\n",
       "      <td>7.800000e+01</td>\n",
       "    </tr>\n",
       "    <tr>\n",
       "      <th>Hood_ID</th>\n",
       "      <td>16093.0</td>\n",
       "      <td>7.399565e+01</td>\n",
       "      <td>4.138429e+01</td>\n",
       "      <td>1.000000e+00</td>\n",
       "      <td>3.900000e+01</td>\n",
       "      <td>7.700000e+01</td>\n",
       "      <td>1.120000e+02</td>\n",
       "      <td>1.400000e+02</td>\n",
       "    </tr>\n",
       "    <tr>\n",
       "      <th>ObjectId</th>\n",
       "      <td>16093.0</td>\n",
       "      <td>8.047000e+03</td>\n",
       "      <td>4.645793e+03</td>\n",
       "      <td>1.000000e+00</td>\n",
       "      <td>4.024000e+03</td>\n",
       "      <td>8.047000e+03</td>\n",
       "      <td>1.207000e+04</td>\n",
       "      <td>1.609300e+04</td>\n",
       "    </tr>\n",
       "  </tbody>\n",
       "</table>\n",
       "</div>"
      ],
      "text/plain": [
       "             count          mean           std           min           25%  \\\n",
       "X          16093.0 -8.838289e+06  1.158697e+04 -8.865305e+06 -8.846374e+06   \n",
       "Y          16093.0  5.420851e+06  8.675426e+03  5.402526e+06  5.413383e+06   \n",
       "Index_     16093.0  3.252283e+07  3.594367e+07  3.363207e+06  5.332810e+06   \n",
       "ACCNUM     16093.0  2.296710e+09  3.253387e+09  1.284070e+05  1.069209e+06   \n",
       "YEAR       16093.0  2.011896e+03  4.010676e+00  2.006000e+03  2.008000e+03   \n",
       "TIME       16093.0  1.348327e+03  6.306883e+02  0.000000e+00  9.070000e+02   \n",
       "HOUR       16093.0  1.331088e+01  6.123885e+00  0.000000e+00  9.000000e+00   \n",
       "WardNum    13795.0  1.209424e+01  7.283801e+00  1.000000e+00  6.000000e+00   \n",
       "Division   16093.0  3.422016e+01  1.454478e+01  1.100000e+01  2.200000e+01   \n",
       "LATITUDE   16093.0  4.371113e+01  5.632519e-02  4.359205e+01  4.366264e+01   \n",
       "LONGITUDE  16093.0 -7.939570e+01  1.040876e-01 -7.963839e+01 -7.946833e+01   \n",
       "FATAL_NO     673.0  2.983061e+01  1.820504e+01  1.000000e+00  1.500000e+01   \n",
       "Hood_ID    16093.0  7.399565e+01  4.138429e+01  1.000000e+00  3.900000e+01   \n",
       "ObjectId   16093.0  8.047000e+03  4.645793e+03  1.000000e+00  4.024000e+03   \n",
       "\n",
       "                    50%           75%           max  \n",
       "X         -8.838364e+06 -8.829647e+06 -8.808254e+06  \n",
       "Y          5.419648e+06  5.427921e+06  5.443099e+06  \n",
       "Index_     7.423775e+06  8.050395e+07  8.140853e+07  \n",
       "ACCNUM     1.290852e+06  5.001873e+09  9.085345e+09  \n",
       "YEAR       2.012000e+03  2.015000e+03  2.019000e+03  \n",
       "TIME       1.440000e+03  1.840000e+03  2.359000e+03  \n",
       "HOUR       1.400000e+01  1.800000e+01  2.300000e+01  \n",
       "WardNum    1.100000e+01  1.900000e+01  2.500000e+01  \n",
       "Division   3.300000e+01  4.300000e+01  5.500000e+01  \n",
       "LATITUDE   4.370334e+01  4.375704e+01  4.385545e+01  \n",
       "LONGITUDE -7.939637e+01 -7.931807e+01 -7.912590e+01  \n",
       "FATAL_NO   2.900000e+01  4.300000e+01  7.800000e+01  \n",
       "Hood_ID    7.700000e+01  1.120000e+02  1.400000e+02  \n",
       "ObjectId   8.047000e+03  1.207000e+04  1.609300e+04  "
      ]
     },
     "execution_count": 5,
     "metadata": {},
     "output_type": "execute_result"
    }
   ],
   "source": [
    "new_df.describe().T"
   ]
  },
  {
   "cell_type": "code",
   "execution_count": 6,
   "metadata": {},
   "outputs": [
    {
     "name": "stdout",
     "output_type": "stream",
     "text": [
      "<class 'pandas.core.frame.DataFrame'>\n",
      "RangeIndex: 16093 entries, 0 to 16092\n",
      "Data columns (total 56 columns):\n",
      " #   Column         Non-Null Count  Dtype  \n",
      "---  ------         --------------  -----  \n",
      " 0   X              16093 non-null  float64\n",
      " 1   Y              16093 non-null  float64\n",
      " 2   Index_         16093 non-null  int64  \n",
      " 3   ACCNUM         16093 non-null  int64  \n",
      " 4   YEAR           16093 non-null  int64  \n",
      " 5   DATE           16093 non-null  object \n",
      " 6   TIME           16093 non-null  int64  \n",
      " 7   HOUR           16093 non-null  int64  \n",
      " 8   STREET1        16093 non-null  object \n",
      " 9   STREET2        14698 non-null  object \n",
      " 10  OFFSET         2388 non-null   object \n",
      " 11  ROAD_CLASS     15725 non-null  object \n",
      " 12  District       16080 non-null  object \n",
      " 13  WardNum        13795 non-null  float64\n",
      " 14  Division       16093 non-null  int64  \n",
      " 15  LATITUDE       16093 non-null  float64\n",
      " 16  LONGITUDE      16093 non-null  float64\n",
      " 17  LOCCOORD       15963 non-null  object \n",
      " 18  ACCLOC         10643 non-null  object \n",
      " 19  TRAFFCTL       16064 non-null  object \n",
      " 20  VISIBILITY     16071 non-null  object \n",
      " 21  LIGHT          16093 non-null  object \n",
      " 22  RDSFCOND       16066 non-null  object \n",
      " 23  ACCLASS        16093 non-null  object \n",
      " 24  IMPACTYPE      16089 non-null  object \n",
      " 25  INVTYPE        16083 non-null  object \n",
      " 26  INVAGE         16093 non-null  object \n",
      " 27  INJURY         14484 non-null  object \n",
      " 28  FATAL_NO       673 non-null    float64\n",
      " 29  INITDIR        11257 non-null  object \n",
      " 30  VEHTYPE        13566 non-null  object \n",
      " 31  MANOEUVER      9141 non-null   object \n",
      " 32  DRIVACT        8032 non-null   object \n",
      " 33  DRIVCOND       8032 non-null   object \n",
      " 34  PEDTYPE        2570 non-null   object \n",
      " 35  PEDACT         2564 non-null   object \n",
      " 36  PEDCOND        2684 non-null   object \n",
      " 37  CYCLISTYPE     641 non-null    object \n",
      " 38  CYCACT         666 non-null    object \n",
      " 39  CYCCOND        665 non-null    object \n",
      " 40  PEDESTRIAN     6484 non-null   object \n",
      " 41  CYCLIST        1681 non-null   object \n",
      " 42  AUTOMOBILE     14632 non-null  object \n",
      " 43  MOTORCYCLE     1274 non-null   object \n",
      " 44  TRUCK          990 non-null    object \n",
      " 45  TRSN_CITY_VEH  982 non-null    object \n",
      " 46  EMERG_VEH      31 non-null     object \n",
      " 47  PASSENGER      6091 non-null   object \n",
      " 48  SPEEDING       2157 non-null   object \n",
      " 49  AG_DRIV        8306 non-null   object \n",
      " 50  REDLIGHT       1361 non-null   object \n",
      " 51  ALCOHOL        713 non-null    object \n",
      " 52  DISABILITY     450 non-null    object \n",
      " 53  Hood_ID        16093 non-null  int64  \n",
      " 54  Neighbourhood  16093 non-null  object \n",
      " 55  ObjectId       16093 non-null  int64  \n",
      "dtypes: float64(6), int64(8), object(42)\n",
      "memory usage: 6.9+ MB\n"
     ]
    }
   ],
   "source": [
    "new_df.info(verbose=True, null_counts=True)"
   ]
  },
  {
   "cell_type": "code",
   "execution_count": 7,
   "metadata": {},
   "outputs": [],
   "source": [
    "from sklearn.tree import DecisionTreeClassifier\n",
    " \n",
    "import matplotlib.pyplot as plt\n",
    " \n",
    "import numpy as np\n",
    " \n",
    "import seaborn as sns\n",
    "  \n",
    "from sklearn import tree\n",
    " \n",
    "from IPython.display import SVG\n",
    " \n",
    "import scipy.stats as sstats\n",
    "from sklearn.tree import export_graphviz"
   ]
  },
  {
   "cell_type": "code",
   "execution_count": 8,
   "metadata": {},
   "outputs": [],
   "source": [
    "def cramers_v(x, y):\n",
    "    confusion_matrix = pd.crosstab(x,y)\n",
    "    chi2 = ss.chi2_contingency(confusion_matrix)[0]\n",
    "    n = confusion_matrix.sum().sum()\n",
    "    phi2 = chi2/n\n",
    "    r,k = confusion_matrix.shape\n",
    "    phi2corr = max(0, phi2-((k-1)*(r-1))/(n-1))\n",
    "    rcorr = r-((r-1)**2)/(n-1)\n",
    "    kcorr = k-((k-1)**2)/(n-1)\n",
    "    return np.sqrt(phi2corr/min((kcorr-1),(rcorr-1)))"
   ]
  },
  {
   "cell_type": "code",
   "execution_count": 9,
   "metadata": {},
   "outputs": [
    {
     "ename": "NameError",
     "evalue": "name 'n' is not defined",
     "output_type": "error",
     "traceback": [
      "\u001b[1;31m---------------------------------------------------------------------------\u001b[0m",
      "\u001b[1;31mNameError\u001b[0m                                 Traceback (most recent call last)",
      "\u001b[1;32m<ipython-input-9-1afaafe449a9>\u001b[0m in \u001b[0;36m<module>\u001b[1;34m\u001b[0m\n\u001b[0;32m      1\u001b[0m \u001b[1;31m#cramers_v = pd.dataframe(cramers_v,index=categorical_features,columns=categorical_features)\u001b[0m\u001b[1;33m\u001b[0m\u001b[1;33m\u001b[0m\u001b[1;33m\u001b[0m\u001b[0m\n\u001b[1;32m----> 2\u001b[1;33m \u001b[0msns\u001b[0m\u001b[1;33m.\u001b[0m\u001b[0mheatmap\u001b[0m\u001b[1;33m(\u001b[0m\u001b[0mn\u001b[0m\u001b[1;33m,\u001b[0m\u001b[0mlinewidths\u001b[0m\u001b[1;33m=\u001b[0m\u001b[1;36m0.15\u001b[0m\u001b[1;33m,\u001b[0m\u001b[0msquare\u001b[0m\u001b[1;33m=\u001b[0m\u001b[1;32mTrue\u001b[0m\u001b[1;33m,\u001b[0m \u001b[0mvmax\u001b[0m\u001b[1;33m=\u001b[0m\u001b[1;36m1.0\u001b[0m\u001b[1;33m,\u001b[0m \u001b[0mcmap\u001b[0m\u001b[1;33m=\u001b[0m\u001b[0mplt\u001b[0m\u001b[1;33m.\u001b[0m\u001b[0mcm\u001b[0m\u001b[1;33m.\u001b[0m\u001b[0mBuGn\u001b[0m\u001b[1;33m,\u001b[0m \u001b[0mlinecolor\u001b[0m\u001b[1;33m=\u001b[0m\u001b[1;34m'white'\u001b[0m\u001b[1;33m,\u001b[0m \u001b[0mannot\u001b[0m\u001b[1;33m=\u001b[0m\u001b[1;32mTrue\u001b[0m\u001b[1;33m)\u001b[0m\u001b[1;33m;\u001b[0m\u001b[1;33m\u001b[0m\u001b[1;33m\u001b[0m\u001b[0m\n\u001b[0m",
      "\u001b[1;31mNameError\u001b[0m: name 'n' is not defined"
     ]
    }
   ],
   "source": [
    "#cramers_v = pd.dataframe(cramers_v,index=categorical_features,columns=categorical_features)\n",
    "sns.heatmap(n,linewidths=0.15,square=True, vmax=1.0, cmap=plt.cm.BuGn, linecolor='white', annot=True);"
   ]
  },
  {
   "cell_type": "markdown",
   "metadata": {},
   "source": [
    "## <u>Quick Looks</u>\n",
    "\n",
    "Variables to highlight in dataset for prediction:\n",
    "\n",
    "    ROAD_CLASS\n",
    "    WardNum\n",
    "    Division\n",
    "    TRAFFCTRL\n",
    "    VISIBILITY\n",
    "    LIGHT\n",
    "    RDSFCOND\n",
    "    INVTYPE\n",
    "    INVAGE\n",
    "    INJURY\n",
    "    VEHTYPE\n",
    "    DRIVCOND"
   ]
  },
  {
   "cell_type": "markdown",
   "metadata": {},
   "source": [
    "### Road_Class"
   ]
  },
  {
   "cell_type": "code",
   "execution_count": null,
   "metadata": {},
   "outputs": [],
   "source": [
    "countplt, ax = plt.subplots(figsize = (8,4))\n",
    "ax =sb.countplot(x = 'ROAD_CLASS', data=new_df, ax=ax)\n",
    "ax.set_xticklabels(ax.get_xticklabels(), rotation=45, horizontalalignment='right')\n",
    "\n",
    "plt.show()"
   ]
  },
  {
   "cell_type": "markdown",
   "metadata": {},
   "source": [
    "### WardNum"
   ]
  },
  {
   "cell_type": "code",
   "execution_count": null,
   "metadata": {},
   "outputs": [],
   "source": [
    "countplt, ax = plt.subplots(figsize = (16,4))\n",
    "ax =sb.countplot(x = 'WardNum', data=new_df)\n",
    "\n",
    "plt.show()"
   ]
  },
  {
   "cell_type": "markdown",
   "metadata": {},
   "source": [
    "### Division"
   ]
  },
  {
   "cell_type": "code",
   "execution_count": null,
   "metadata": {},
   "outputs": [],
   "source": [
    "countplt, ax = plt.subplots(figsize = (8,4))\n",
    "ax =sb.countplot(x = 'Division', data=new_df)\n",
    "\n",
    "plt.show()"
   ]
  },
  {
   "cell_type": "markdown",
   "metadata": {},
   "source": [
    "### TRAFFCTL"
   ]
  },
  {
   "cell_type": "code",
   "execution_count": null,
   "metadata": {},
   "outputs": [],
   "source": [
    "countplt, ax = plt.subplots(figsize = (8,4))\n",
    "ax =sb.countplot(x = 'TRAFFCTL', data=new_df, ax=ax)\n",
    "ax.set_xticklabels(ax.get_xticklabels(), rotation=45, horizontalalignment='right')\n",
    "\n",
    "plt.show()"
   ]
  },
  {
   "cell_type": "markdown",
   "metadata": {},
   "source": [
    "### VISIBILITY"
   ]
  },
  {
   "cell_type": "code",
   "execution_count": null,
   "metadata": {},
   "outputs": [],
   "source": [
    "countplt, ax = plt.subplots(figsize = (8,4))\n",
    "ax =sb.countplot(x = 'VISIBILITY', data=new_df, ax=ax)\n",
    "ax.set_xticklabels(ax.get_xticklabels(), rotation=45, horizontalalignment='right')\n",
    "\n",
    "plt.show()"
   ]
  },
  {
   "cell_type": "markdown",
   "metadata": {},
   "source": [
    "<font color = \"red\">Suggest to bin results together as such:\n",
    "    \n",
    "    Clear\n",
    "    Rain = Rain, Freezing Rain\n",
    "    Snow = Snow, Drifting Snow\n",
    "    Other = Other, \"Fog, Mist, Smoke, Dust\", Strong wind"
   ]
  },
  {
   "cell_type": "markdown",
   "metadata": {},
   "source": [
    "### LIGHT"
   ]
  },
  {
   "cell_type": "code",
   "execution_count": null,
   "metadata": {},
   "outputs": [],
   "source": [
    "countplt, ax = plt.subplots(figsize = (8,4))\n",
    "ax =sb.countplot(x = 'LIGHT', data=new_df, ax=ax)\n",
    "ax.set_xticklabels(ax.get_xticklabels(), rotation=45, horizontalalignment='right')\n",
    "\n",
    "plt.show()"
   ]
  },
  {
   "cell_type": "markdown",
   "metadata": {},
   "source": [
    "### RDSFCOND"
   ]
  },
  {
   "cell_type": "code",
   "execution_count": null,
   "metadata": {},
   "outputs": [],
   "source": [
    "countplt, ax = plt.subplots(figsize = (8,4))\n",
    "ax =sb.countplot(x = 'RDSFCOND', data=new_df, ax=ax)\n",
    "ax.set_xticklabels(ax.get_xticklabels(), rotation=45, horizontalalignment='right')\n",
    "\n",
    "plt.show()"
   ]
  },
  {
   "cell_type": "markdown",
   "metadata": {},
   "source": [
    "### INVTYPE"
   ]
  },
  {
   "cell_type": "code",
   "execution_count": null,
   "metadata": {},
   "outputs": [],
   "source": [
    "countplt, ax = plt.subplots(figsize = (8,4))\n",
    "ax =sb.countplot(x = 'INVTYPE', data=new_df, ax=ax)\n",
    "ax.set_xticklabels(ax.get_xticklabels(), rotation=45, horizontalalignment='right')\n",
    "\n",
    "plt.show()"
   ]
  },
  {
   "cell_type": "markdown",
   "metadata": {},
   "source": [
    "### INVAGE"
   ]
  },
  {
   "cell_type": "code",
   "execution_count": null,
   "metadata": {},
   "outputs": [],
   "source": [
    "df.sort_values(by=['INVAGE'], inplace=True)\n"
   ]
  },
  {
   "cell_type": "code",
   "execution_count": null,
   "metadata": {},
   "outputs": [],
   "source": [
    "countplt, ax = plt.subplots(figsize = (16,4))\n",
    "ax =sb.countplot(x = 'INVAGE', data=new_df, ax=ax)\n",
    "ax.set_xticklabels(ax.get_xticklabels(), rotation=45, horizontalalignment='right')\n",
    "\n",
    "plt.show()"
   ]
  },
  {
   "cell_type": "markdown",
   "metadata": {},
   "source": [
    "### INJURY"
   ]
  },
  {
   "cell_type": "code",
   "execution_count": null,
   "metadata": {},
   "outputs": [],
   "source": [
    "countplt, ax = plt.subplots(figsize = (8,4))\n",
    "ax =sb.countplot(x = 'INJURY', data=new_df)\n",
    "\n",
    "plt.show()"
   ]
  },
  {
   "cell_type": "markdown",
   "metadata": {},
   "source": [
    "### VEHTYPE"
   ]
  },
  {
   "cell_type": "code",
   "execution_count": null,
   "metadata": {},
   "outputs": [],
   "source": [
    "countplt, ax = plt.subplots(figsize = (8,4))\n",
    "ax =sb.countplot(x = 'VEHTYPE', data=new_df, ax=ax)\n",
    "ax.set_xticklabels(ax.get_xticklabels(), rotation=45, horizontalalignment='right')\n",
    "\n",
    "plt.show()"
   ]
  },
  {
   "cell_type": "markdown",
   "metadata": {},
   "source": [
    "### DRIVCOND"
   ]
  },
  {
   "cell_type": "code",
   "execution_count": null,
   "metadata": {},
   "outputs": [],
   "source": [
    "countplt, ax = plt.subplots(figsize = (8,4))\n",
    "ax =sb.countplot(x = 'DRIVCOND', data=new_df, ax=ax)\n",
    "ax.set_xticklabels(ax.get_xticklabels(), rotation=45, horizontalalignment='right')\n",
    "\n",
    "plt.show()"
   ]
  },
  {
   "cell_type": "markdown",
   "metadata": {},
   "source": [
    "## <u>Correlations</u>"
   ]
  },
  {
   "cell_type": "code",
   "execution_count": null,
   "metadata": {},
   "outputs": [],
   "source": [
    "corrdf = new_df.corr()\n",
    "\n",
    "corrdf"
   ]
  },
  {
   "cell_type": "markdown",
   "metadata": {},
   "source": [
    "## <u>Missing Values</u>\n",
    "\n",
    "Variables to highlight in dataset for prediction:\n",
    "\n",
    "    ROAD_CLASS\n",
    "    WardNum\n",
    "    Division\n",
    "    TRAFFCTL\n",
    "    VISIBILITY\n",
    "    LIGHT\n",
    "    RDSFCOND\n",
    "    INVTYPE\n",
    "    INVAGE\n",
    "    INJURY\n",
    "    VEHTYPE\n",
    "    DRIVCOND"
   ]
  },
  {
   "cell_type": "code",
   "execution_count": null,
   "metadata": {},
   "outputs": [],
   "source": [
    "new_df.ROAD_CLASS.value_counts(dropna=False)"
   ]
  },
  {
   "cell_type": "code",
   "execution_count": null,
   "metadata": {},
   "outputs": [],
   "source": [
    "new_df.WardNum.value_counts(dropna=False)"
   ]
  },
  {
   "cell_type": "code",
   "execution_count": null,
   "metadata": {},
   "outputs": [],
   "source": [
    "new_df.Division.value_counts(dropna=False)"
   ]
  },
  {
   "cell_type": "code",
   "execution_count": null,
   "metadata": {},
   "outputs": [],
   "source": [
    "new_df.TRAFFCTL.value_counts(dropna=False)"
   ]
  },
  {
   "cell_type": "code",
   "execution_count": null,
   "metadata": {},
   "outputs": [],
   "source": [
    "new_df.VISIBILITY.value_counts(dropna=False)"
   ]
  },
  {
   "cell_type": "code",
   "execution_count": null,
   "metadata": {},
   "outputs": [],
   "source": [
    "new_df.LIGHT.value_counts(dropna=False)"
   ]
  },
  {
   "cell_type": "code",
   "execution_count": null,
   "metadata": {},
   "outputs": [],
   "source": [
    "new_df.RDSFCOND.value_counts(dropna=False)"
   ]
  },
  {
   "cell_type": "code",
   "execution_count": null,
   "metadata": {},
   "outputs": [],
   "source": [
    "new_df.INVTYPE.value_counts(dropna=False)"
   ]
  },
  {
   "cell_type": "code",
   "execution_count": null,
   "metadata": {},
   "outputs": [],
   "source": [
    "new_df.INVAGE.value_counts(dropna=False)"
   ]
  },
  {
   "cell_type": "code",
   "execution_count": null,
   "metadata": {},
   "outputs": [],
   "source": [
    "new_df.INJURY.value_counts(dropna=False)"
   ]
  },
  {
   "cell_type": "code",
   "execution_count": null,
   "metadata": {},
   "outputs": [],
   "source": [
    "new_df.VEHTYPE.value_counts(dropna=False)"
   ]
  },
  {
   "cell_type": "code",
   "execution_count": null,
   "metadata": {},
   "outputs": [],
   "source": [
    "new_df.DRIVCOND.value_counts(dropna=False)"
   ]
  },
  {
   "cell_type": "markdown",
   "metadata": {},
   "source": [
    "We want to keep all the INJURY records snce it is our target value- we will drop any NaN values in this column."
   ]
  },
  {
   "cell_type": "code",
   "execution_count": null,
   "metadata": {},
   "outputs": [],
   "source": [
    "new_df_aug1 = new_df.dropna(subset = ['INJURY'], how='all')"
   ]
  },
  {
   "cell_type": "code",
   "execution_count": null,
   "metadata": {},
   "outputs": [],
   "source": [
    "print(new_df.shape)\n",
    "print(new_df_aug1.shape)"
   ]
  },
  {
   "cell_type": "code",
   "execution_count": null,
   "metadata": {},
   "outputs": [],
   "source": [
    "new_df_aug1.isnull().sum()"
   ]
  },
  {
   "cell_type": "markdown",
   "metadata": {},
   "source": [
    "There are still missing values for the following features that we are interested in:\n",
    "\n",
    "    ROAD_CLASS - 313\n",
    "    WardNum - 2086\n",
    "    Division - 0\n",
    "    TRAFFCTL - 29\n",
    "    VISIBILITY - 21\n",
    "    LIGHT - 0\n",
    "    RDSFCOND - 26\n",
    "    INVTYPE - 5\n",
    "    INVAGE - 0 \n",
    "    INJURY - 0\n",
    "    VEHTYPE - 2450\n",
    "    DRIVCOND - 6463"
   ]
  },
  {
   "cell_type": "markdown",
   "metadata": {},
   "source": [
    "Since the WardNum and Division have a strong correlation based on the heatmap we will drop WardNum as a feature since it has too many missing values.\n",
    "\n",
    "Let's look at ROAD_CLASS, VEHTYPE and DRIVCOND since the have large missing values. Both features have categories of \"unknown\" and \"other\" so let's replace NaN with \"unknown\" or \"other\" since we cannot change their values in any vaild way; also we woudl like to keep these features for now."
   ]
  },
  {
   "cell_type": "code",
   "execution_count": null,
   "metadata": {},
   "outputs": [],
   "source": [
    "new_df_aug1[\"ROAD_CLASS\"].fillna(\"Other\", inplace = True)"
   ]
  },
  {
   "cell_type": "code",
   "execution_count": null,
   "metadata": {},
   "outputs": [],
   "source": [
    "new_df_aug1[\"VEHTYPE\"].fillna(\"Other\", inplace = True)"
   ]
  },
  {
   "cell_type": "code",
   "execution_count": null,
   "metadata": {},
   "outputs": [],
   "source": [
    "new_df_aug1[\"DRIVCOND\"].fillna(\"Other\", inplace = True)"
   ]
  },
  {
   "cell_type": "code",
   "execution_count": null,
   "metadata": {},
   "outputs": [],
   "source": [
    "new_df_aug1.shape\n",
    "# No records have been lost compared to before when doing this replace of Nan values."
   ]
  },
  {
   "cell_type": "code",
   "execution_count": null,
   "metadata": {},
   "outputs": [],
   "source": [
    "new_df_aug1.isnull().sum()"
   ]
  },
  {
   "cell_type": "markdown",
   "metadata": {},
   "source": [
    "We now only have four features left that have a few missing values based on the updated feature table below.\n",
    "    \n",
    "    ROAD_CLASS - 0\n",
    "    Division - 0\n",
    "    TRAFFCTL - 29\n",
    "    VISIBILITY - 21\n",
    "    LIGHT - 0\n",
    "    RDSFCOND - 26\n",
    "    INVTYPE - 5\n",
    "    INVAGE - 0 \n",
    "    INJURY - 0\n",
    "    VEHTYPE - 0\n",
    "    DRIVCOND - 0\n",
    " \n",
    "Since we currently have 14,484 records and the missing values are now very small i.e totally 55 records, we will go ahead and remove them since there is not a meaningful way transform them."
   ]
  },
  {
   "cell_type": "code",
   "execution_count": null,
   "metadata": {},
   "outputs": [],
   "source": [
    "new_df_aug2 = new_df_aug1.dropna(subset = ['TRAFFCTL'], how='all')"
   ]
  },
  {
   "cell_type": "code",
   "execution_count": null,
   "metadata": {},
   "outputs": [],
   "source": [
    "new_df_aug3 = new_df_aug2.dropna(subset = ['VISIBILITY'], how='all')"
   ]
  },
  {
   "cell_type": "code",
   "execution_count": null,
   "metadata": {},
   "outputs": [],
   "source": [
    "new_df_aug4 = new_df_aug3.dropna(subset = ['RDSFCOND'], how='all')"
   ]
  },
  {
   "cell_type": "code",
   "execution_count": null,
   "metadata": {},
   "outputs": [],
   "source": [
    "new_df_aug5 = new_df_aug4.dropna(subset = ['INVTYPE'], how='all')"
   ]
  },
  {
   "cell_type": "code",
   "execution_count": null,
   "metadata": {},
   "outputs": [],
   "source": [
    "new_df_aug5.shape"
   ]
  },
  {
   "cell_type": "code",
   "execution_count": null,
   "metadata": {},
   "outputs": [],
   "source": [
    "new_df_aug5.isnull().sum()"
   ]
  },
  {
   "cell_type": "markdown",
   "metadata": {},
   "source": [
    "## Duplicate Values"
   ]
  },
  {
   "cell_type": "code",
   "execution_count": null,
   "metadata": {
    "scrolled": true
   },
   "outputs": [],
   "source": [
    "new_df_aug5.duplicated().value_counts()"
   ]
  },
  {
   "cell_type": "markdown",
   "metadata": {},
   "source": [
    "There are no duplicate values."
   ]
  },
  {
   "cell_type": "markdown",
   "metadata": {},
   "source": [
    "## Subset Feature and Target Only Dataframe"
   ]
  },
  {
   "cell_type": "code",
   "execution_count": null,
   "metadata": {},
   "outputs": [],
   "source": [
    "# Create subset of the dataframe with only features that we are interested in.\n",
    "feature_only_df = new_df_aug5.loc[:, ['INJURY', 'ROAD_CLASS', 'LIGHT', 'VISIBILITY', 'VEHTYPE', 'DRIVCOND', 'INVAGE', 'RDSFCOND', 'INVTYPE']]"
   ]
  },
  {
   "cell_type": "code",
   "execution_count": null,
   "metadata": {},
   "outputs": [],
   "source": [
    "feature_only_df"
   ]
  },
  {
   "cell_type": "markdown",
   "metadata": {},
   "source": [
    "## Dummy Variables"
   ]
  },
  {
   "cell_type": "code",
   "execution_count": null,
   "metadata": {},
   "outputs": [],
   "source": [
    "RoadClass_dv = pd.get_dummies(feature_only_df['ROAD_CLASS'], prefix=\"RoadClass\", prefix_sep ='_')"
   ]
  },
  {
   "cell_type": "code",
   "execution_count": null,
   "metadata": {},
   "outputs": [],
   "source": [
    "# RoadClass_dv"
   ]
  },
  {
   "cell_type": "code",
   "execution_count": null,
   "metadata": {},
   "outputs": [],
   "source": [
    "Light_dv = pd.get_dummies(feature_only_df['LIGHT'], prefix=\"Light\", prefix_sep ='_')"
   ]
  },
  {
   "cell_type": "code",
   "execution_count": null,
   "metadata": {},
   "outputs": [],
   "source": [
    "Visibility_dv = pd.get_dummies(feature_only_df['VISIBILITY'], prefix=\"Visibility\", prefix_sep ='_')"
   ]
  },
  {
   "cell_type": "code",
   "execution_count": null,
   "metadata": {},
   "outputs": [],
   "source": [
    "Vehicle_dv = pd.get_dummies(feature_only_df['VEHTYPE'], prefix=\"VEHTYPE\", prefix_sep ='_')"
   ]
  },
  {
   "cell_type": "code",
   "execution_count": null,
   "metadata": {},
   "outputs": [],
   "source": [
    "DriverCond_dv = pd.get_dummies(feature_only_df['DRIVCOND'], prefix=\"DRIVCOND\", prefix_sep ='_')"
   ]
  },
  {
   "cell_type": "code",
   "execution_count": null,
   "metadata": {},
   "outputs": [],
   "source": [
    "Age_dv = pd.get_dummies(feature_only_df['INVAGE'], prefix=\"INVAGE\", prefix_sep ='_')"
   ]
  },
  {
   "cell_type": "code",
   "execution_count": null,
   "metadata": {},
   "outputs": [],
   "source": [
    "RoadCond_dv = pd.get_dummies(feature_only_df['RDSFCOND'], prefix=\"RDSFCOND\", prefix_sep ='_')"
   ]
  },
  {
   "cell_type": "code",
   "execution_count": null,
   "metadata": {},
   "outputs": [],
   "source": [
    "Involve_dv = pd.get_dummies(feature_only_df['INVTYPE'], prefix=\"INVTYPE\", prefix_sep ='_')"
   ]
  },
  {
   "cell_type": "code",
   "execution_count": null,
   "metadata": {},
   "outputs": [],
   "source": [
    "# Decreases the model accuracy\n",
    "#Traffic_dv = pd.get_dummies(feature_only_df['TRAFFCTL'], prefix=\"TRAFFCTL\", prefix_sep ='_')"
   ]
  },
  {
   "cell_type": "code",
   "execution_count": null,
   "metadata": {},
   "outputs": [],
   "source": [
    "# Put together all the dummy variables\n",
    "new_df_aug5_dv = pd.concat([feature_only_df, RoadClass_dv, Light_dv, Visibility_dv, Vehicle_dv, DriverCond_dv, Age_dv, RoadCond_dv, Involve_dv], axis=1)"
   ]
  },
  {
   "cell_type": "code",
   "execution_count": null,
   "metadata": {},
   "outputs": [],
   "source": [
    "# Drop feature columns from which dummy variables were created\n",
    "new_df_aug5_dv.drop(['ROAD_CLASS', 'LIGHT', 'VISIBILITY', 'VEHTYPE', 'DRIVCOND','INVAGE','RDSFCOND','INVTYPE'],axis=1,inplace=True)"
   ]
  },
  {
   "cell_type": "code",
   "execution_count": null,
   "metadata": {},
   "outputs": [],
   "source": [
    "new_df_aug5_dv"
   ]
  },
  {
   "cell_type": "markdown",
   "metadata": {},
   "source": [
    "## Decision Tree Model"
   ]
  },
  {
   "cell_type": "code",
   "execution_count": null,
   "metadata": {},
   "outputs": [],
   "source": [
    "from sklearn.tree import DecisionTreeClassifier\n",
    "from sklearn.model_selection import train_test_split\n",
    "import numpy as np\n",
    "import sklearn as sk\n",
    "import sklearn.datasets as skd\n",
    "import sklearn.ensemble as ske\n",
    "import matplotlib.pyplot as plt\n",
    "import matplotlib as mpl\n",
    "%matplotlib inline\n",
    "mpl.rcParams['figure.dpi'] = mpl.rcParams['savefig.dpi'] = 300"
   ]
  },
  {
   "cell_type": "code",
   "execution_count": null,
   "metadata": {},
   "outputs": [],
   "source": [
    "X = new_df_aug5_dv.drop(\"INJURY\", axis=1) # Features\n",
    "y = new_df_aug5_dv[\"INJURY\"] # Target variable"
   ]
  },
  {
   "cell_type": "code",
   "execution_count": null,
   "metadata": {},
   "outputs": [],
   "source": [
    "# Split the dataset into 75% training data and 25% of testing data\n",
    "X_train, X_test, y_train, y_test = train_test_split(X, y, test_size=0.25, random_state=1)"
   ]
  },
  {
   "cell_type": "code",
   "execution_count": null,
   "metadata": {},
   "outputs": [],
   "source": [
    "# Train the model with the help of DecisionTreeClassifier class\n",
    "clf = DecisionTreeClassifier()\n",
    "clf = clf.fit(X_train, y_train)"
   ]
  },
  {
   "cell_type": "code",
   "execution_count": null,
   "metadata": {},
   "outputs": [],
   "source": [
    "# Next we make a prediction\n",
    "y_pred = clf.predict(X_test)"
   ]
  },
  {
   "cell_type": "code",
   "execution_count": null,
   "metadata": {},
   "outputs": [],
   "source": [
    "# Get the accuracy score, confusion matrix and classification report\n",
    "from sklearn.metrics import classification_report, confusion_matrix, accuracy_score\n",
    "result = confusion_matrix(y_test, y_pred)\n",
    "print(\"Confusion Matrix:\")\n",
    "print(result)\n",
    "result1 = classification_report(y_test, y_pred)\n",
    "print(\"Classification Report:\",)\n",
    "print (result1)\n",
    "result2 = accuracy_score(y_test,y_pred)\n",
    "print(\"Accuracy:\",result2)"
   ]
  },
  {
   "cell_type": "markdown",
   "metadata": {},
   "source": [
    "The feature TRAFFCTL was used in the model initially but was excluded since it decreased the model accuracy."
   ]
  },
  {
   "cell_type": "code",
   "execution_count": null,
   "metadata": {},
   "outputs": [],
   "source": [
    "import seaborn as sns\n",
    "sns.heatmap(result/np.sum(result), annot=True, fmt='.1%', cmap='Blues')"
   ]
  },
  {
   "cell_type": "markdown",
   "metadata": {},
   "source": [
    "Tuning the model using the DecisionTree paramaters."
   ]
  },
  {
   "cell_type": "code",
   "execution_count": null,
   "metadata": {},
   "outputs": [],
   "source": [
    "# Train the model with the help of DecisionTreeClassifier class\n",
    "clf = DecisionTreeClassifier(max_depth=15, random_state=100, min_samples_leaf=28, criterion='gini')\n",
    "clf = clf.fit(X_train, y_train)"
   ]
  },
  {
   "cell_type": "code",
   "execution_count": null,
   "metadata": {},
   "outputs": [],
   "source": [
    "# Next we make a prediction\n",
    "y_pred = clf.predict(X_test)"
   ]
  },
  {
   "cell_type": "code",
   "execution_count": null,
   "metadata": {},
   "outputs": [],
   "source": [
    "from sklearn.metrics import classification_report, confusion_matrix, accuracy_score\n",
    "result2 = accuracy_score(y_test,y_pred)\n",
    "print(\"Accuracy:\",result2)"
   ]
  },
  {
   "cell_type": "markdown",
   "metadata": {},
   "source": [
    "# Trying to graph decision tree"
   ]
  },
  {
   "cell_type": "code",
   "execution_count": null,
   "metadata": {},
   "outputs": [],
   "source": [
    "FEATURE_NAMES = new_df_aug5_dv.columns[1:110]\n",
    "FEATURE_NAMES"
   ]
  },
  {
   "cell_type": "code",
   "execution_count": null,
   "metadata": {},
   "outputs": [],
   "source": [
    "pip install pydotplus"
   ]
  },
  {
   "cell_type": "code",
   "execution_count": null,
   "metadata": {},
   "outputs": [],
   "source": [
    "#method 2\n",
    "from sklearn.tree import export_graphviz\n",
    "from six import StringIO\n",
    "from IPython.display import Image\n",
    "import pydotplus\n",
    "\n",
    "\n",
    "dot_data = StringIO()\n",
    "export_graphviz(clf, out_file=dot_data,\n",
    "      filled=True, rounded=True,\n",
    "      special_characters=True,feature_names = FEATURE_NAMES,class_names=['0','1'])\n",
    "graph = pydotplus.graph_from_dot_data(dot_data.getvalue())\n",
    "graph.write_png('Fatal+Major Injury Accidents Decision Tree.png')\n",
    "Image(graph.create_png())"
   ]
  },
  {
   "cell_type": "code",
   "execution_count": null,
   "metadata": {},
   "outputs": [],
   "source": []
  },
  {
   "cell_type": "code",
   "execution_count": null,
   "metadata": {},
   "outputs": [],
   "source": []
  },
  {
   "cell_type": "code",
   "execution_count": null,
   "metadata": {},
   "outputs": [],
   "source": []
  },
  {
   "cell_type": "code",
   "execution_count": null,
   "metadata": {},
   "outputs": [],
   "source": []
  }
 ],
 "metadata": {
  "kernelspec": {
   "display_name": "Python 3",
   "language": "python",
   "name": "python3"
  },
  "language_info": {
   "codemirror_mode": {
    "name": "ipython",
    "version": 3
   },
   "file_extension": ".py",
   "mimetype": "text/x-python",
   "name": "python",
   "nbconvert_exporter": "python",
   "pygments_lexer": "ipython3",
   "version": "3.8.5"
  }
 },
 "nbformat": 4,
 "nbformat_minor": 4
}
