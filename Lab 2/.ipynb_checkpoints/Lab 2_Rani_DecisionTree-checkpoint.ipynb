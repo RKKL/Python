{
 "cells": [
  {
   "cell_type": "code",
   "execution_count": 1,
   "metadata": {},
   "outputs": [],
   "source": [
    "%matplotlib inline\n",
    "import numpy as np\n",
    "import pandas as pd\n",
    "import seaborn as sb\n",
    "import matplotlib.pyplot as plt "
   ]
  },
  {
   "cell_type": "code",
   "execution_count": 2,
   "metadata": {},
   "outputs": [],
   "source": [
    "df = pd.read_csv('KSI.csv')"
   ]
  },
  {
   "cell_type": "code",
   "execution_count": 3,
   "metadata": {},
   "outputs": [
    {
     "data": {
      "text/html": [
       "<div>\n",
       "<style scoped>\n",
       "    .dataframe tbody tr th:only-of-type {\n",
       "        vertical-align: middle;\n",
       "    }\n",
       "\n",
       "    .dataframe tbody tr th {\n",
       "        vertical-align: top;\n",
       "    }\n",
       "\n",
       "    .dataframe thead th {\n",
       "        text-align: right;\n",
       "    }\n",
       "</style>\n",
       "<table border=\"1\" class=\"dataframe\">\n",
       "  <thead>\n",
       "    <tr style=\"text-align: right;\">\n",
       "      <th></th>\n",
       "      <th>X</th>\n",
       "      <th>Y</th>\n",
       "      <th>Index_</th>\n",
       "      <th>ACCNUM</th>\n",
       "      <th>YEAR</th>\n",
       "      <th>DATE</th>\n",
       "      <th>TIME</th>\n",
       "      <th>HOUR</th>\n",
       "      <th>STREET1</th>\n",
       "      <th>STREET2</th>\n",
       "      <th>...</th>\n",
       "      <th>EMERG_VEH</th>\n",
       "      <th>PASSENGER</th>\n",
       "      <th>SPEEDING</th>\n",
       "      <th>AG_DRIV</th>\n",
       "      <th>REDLIGHT</th>\n",
       "      <th>ALCOHOL</th>\n",
       "      <th>DISABILITY</th>\n",
       "      <th>Hood_ID</th>\n",
       "      <th>Neighbourhood</th>\n",
       "      <th>ObjectId</th>\n",
       "    </tr>\n",
       "  </thead>\n",
       "  <tbody>\n",
       "    <tr>\n",
       "      <th>0</th>\n",
       "      <td>-8829728.092</td>\n",
       "      <td>5419070.899</td>\n",
       "      <td>3389067</td>\n",
       "      <td>893184</td>\n",
       "      <td>2006</td>\n",
       "      <td>2006/01/01 05:00:00+00</td>\n",
       "      <td>236</td>\n",
       "      <td>2</td>\n",
       "      <td>WOODBINE AVE</td>\n",
       "      <td>O CONNOR DR</td>\n",
       "      <td>...</td>\n",
       "      <td>NaN</td>\n",
       "      <td>Yes</td>\n",
       "      <td>Yes</td>\n",
       "      <td>Yes</td>\n",
       "      <td>NaN</td>\n",
       "      <td>Yes</td>\n",
       "      <td>NaN</td>\n",
       "      <td>60</td>\n",
       "      <td>Woodbine-Lumsden (60)</td>\n",
       "      <td>1</td>\n",
       "    </tr>\n",
       "    <tr>\n",
       "      <th>1</th>\n",
       "      <td>-8829728.092</td>\n",
       "      <td>5419070.899</td>\n",
       "      <td>3389068</td>\n",
       "      <td>893184</td>\n",
       "      <td>2006</td>\n",
       "      <td>2006/01/01 05:00:00+00</td>\n",
       "      <td>236</td>\n",
       "      <td>2</td>\n",
       "      <td>WOODBINE AVE</td>\n",
       "      <td>O CONNOR DR</td>\n",
       "      <td>...</td>\n",
       "      <td>NaN</td>\n",
       "      <td>Yes</td>\n",
       "      <td>Yes</td>\n",
       "      <td>Yes</td>\n",
       "      <td>NaN</td>\n",
       "      <td>Yes</td>\n",
       "      <td>NaN</td>\n",
       "      <td>60</td>\n",
       "      <td>Woodbine-Lumsden (60)</td>\n",
       "      <td>2</td>\n",
       "    </tr>\n",
       "    <tr>\n",
       "      <th>2</th>\n",
       "      <td>-8829728.092</td>\n",
       "      <td>5419070.899</td>\n",
       "      <td>3389069</td>\n",
       "      <td>893184</td>\n",
       "      <td>2006</td>\n",
       "      <td>2006/01/01 05:00:00+00</td>\n",
       "      <td>236</td>\n",
       "      <td>2</td>\n",
       "      <td>WOODBINE AVE</td>\n",
       "      <td>O CONNOR DR</td>\n",
       "      <td>...</td>\n",
       "      <td>NaN</td>\n",
       "      <td>Yes</td>\n",
       "      <td>Yes</td>\n",
       "      <td>Yes</td>\n",
       "      <td>NaN</td>\n",
       "      <td>Yes</td>\n",
       "      <td>NaN</td>\n",
       "      <td>60</td>\n",
       "      <td>Woodbine-Lumsden (60)</td>\n",
       "      <td>3</td>\n",
       "    </tr>\n",
       "    <tr>\n",
       "      <th>3</th>\n",
       "      <td>-8829728.092</td>\n",
       "      <td>5419070.899</td>\n",
       "      <td>3389070</td>\n",
       "      <td>893184</td>\n",
       "      <td>2006</td>\n",
       "      <td>2006/01/01 05:00:00+00</td>\n",
       "      <td>236</td>\n",
       "      <td>2</td>\n",
       "      <td>WOODBINE AVE</td>\n",
       "      <td>O CONNOR DR</td>\n",
       "      <td>...</td>\n",
       "      <td>NaN</td>\n",
       "      <td>Yes</td>\n",
       "      <td>Yes</td>\n",
       "      <td>Yes</td>\n",
       "      <td>NaN</td>\n",
       "      <td>Yes</td>\n",
       "      <td>NaN</td>\n",
       "      <td>60</td>\n",
       "      <td>Woodbine-Lumsden (60)</td>\n",
       "      <td>4</td>\n",
       "    </tr>\n",
       "    <tr>\n",
       "      <th>4</th>\n",
       "      <td>-8829728.092</td>\n",
       "      <td>5419070.899</td>\n",
       "      <td>3389071</td>\n",
       "      <td>893184</td>\n",
       "      <td>2006</td>\n",
       "      <td>2006/01/01 05:00:00+00</td>\n",
       "      <td>236</td>\n",
       "      <td>2</td>\n",
       "      <td>WOODBINE AVE</td>\n",
       "      <td>O CONNOR DR</td>\n",
       "      <td>...</td>\n",
       "      <td>NaN</td>\n",
       "      <td>Yes</td>\n",
       "      <td>Yes</td>\n",
       "      <td>Yes</td>\n",
       "      <td>NaN</td>\n",
       "      <td>Yes</td>\n",
       "      <td>NaN</td>\n",
       "      <td>60</td>\n",
       "      <td>Woodbine-Lumsden (60)</td>\n",
       "      <td>5</td>\n",
       "    </tr>\n",
       "    <tr>\n",
       "      <th>...</th>\n",
       "      <td>...</td>\n",
       "      <td>...</td>\n",
       "      <td>...</td>\n",
       "      <td>...</td>\n",
       "      <td>...</td>\n",
       "      <td>...</td>\n",
       "      <td>...</td>\n",
       "      <td>...</td>\n",
       "      <td>...</td>\n",
       "      <td>...</td>\n",
       "      <td>...</td>\n",
       "      <td>...</td>\n",
       "      <td>...</td>\n",
       "      <td>...</td>\n",
       "      <td>...</td>\n",
       "      <td>...</td>\n",
       "      <td>...</td>\n",
       "      <td>...</td>\n",
       "      <td>...</td>\n",
       "      <td>...</td>\n",
       "      <td>...</td>\n",
       "    </tr>\n",
       "    <tr>\n",
       "      <th>16088</th>\n",
       "      <td>-8851734.397</td>\n",
       "      <td>5427216.682</td>\n",
       "      <td>81356467</td>\n",
       "      <td>9002496688</td>\n",
       "      <td>2019</td>\n",
       "      <td>2019/12/27 05:00:00+00</td>\n",
       "      <td>2324</td>\n",
       "      <td>23</td>\n",
       "      <td>2901 JANE ST</td>\n",
       "      <td>JANE ST</td>\n",
       "      <td>...</td>\n",
       "      <td>NaN</td>\n",
       "      <td>NaN</td>\n",
       "      <td>NaN</td>\n",
       "      <td>Yes</td>\n",
       "      <td>NaN</td>\n",
       "      <td>NaN</td>\n",
       "      <td>NaN</td>\n",
       "      <td>25</td>\n",
       "      <td>Glenfield-Jane Heights (25)</td>\n",
       "      <td>16089</td>\n",
       "    </tr>\n",
       "    <tr>\n",
       "      <th>16089</th>\n",
       "      <td>-8851734.397</td>\n",
       "      <td>5427216.682</td>\n",
       "      <td>81356468</td>\n",
       "      <td>9002496688</td>\n",
       "      <td>2019</td>\n",
       "      <td>2019/12/27 05:00:00+00</td>\n",
       "      <td>2324</td>\n",
       "      <td>23</td>\n",
       "      <td>2901 JANE ST</td>\n",
       "      <td>JANE ST</td>\n",
       "      <td>...</td>\n",
       "      <td>NaN</td>\n",
       "      <td>NaN</td>\n",
       "      <td>NaN</td>\n",
       "      <td>Yes</td>\n",
       "      <td>NaN</td>\n",
       "      <td>NaN</td>\n",
       "      <td>NaN</td>\n",
       "      <td>25</td>\n",
       "      <td>Glenfield-Jane Heights (25)</td>\n",
       "      <td>16090</td>\n",
       "    </tr>\n",
       "    <tr>\n",
       "      <th>16090</th>\n",
       "      <td>-8837083.082</td>\n",
       "      <td>5412746.086</td>\n",
       "      <td>81340413</td>\n",
       "      <td>9002500260</td>\n",
       "      <td>2019</td>\n",
       "      <td>2019/12/28 05:00:00+00</td>\n",
       "      <td>1514</td>\n",
       "      <td>15</td>\n",
       "      <td>GERRARD ST</td>\n",
       "      <td>BAY ST</td>\n",
       "      <td>...</td>\n",
       "      <td>NaN</td>\n",
       "      <td>NaN</td>\n",
       "      <td>NaN</td>\n",
       "      <td>Yes</td>\n",
       "      <td>Yes</td>\n",
       "      <td>NaN</td>\n",
       "      <td>NaN</td>\n",
       "      <td>76</td>\n",
       "      <td>Bay Street Corridor (76)</td>\n",
       "      <td>16091</td>\n",
       "    </tr>\n",
       "    <tr>\n",
       "      <th>16091</th>\n",
       "      <td>-8837083.082</td>\n",
       "      <td>5412746.086</td>\n",
       "      <td>81340414</td>\n",
       "      <td>9002500260</td>\n",
       "      <td>2019</td>\n",
       "      <td>2019/12/28 05:00:00+00</td>\n",
       "      <td>1514</td>\n",
       "      <td>15</td>\n",
       "      <td>GERRARD ST</td>\n",
       "      <td>BAY ST</td>\n",
       "      <td>...</td>\n",
       "      <td>NaN</td>\n",
       "      <td>NaN</td>\n",
       "      <td>NaN</td>\n",
       "      <td>Yes</td>\n",
       "      <td>Yes</td>\n",
       "      <td>NaN</td>\n",
       "      <td>NaN</td>\n",
       "      <td>76</td>\n",
       "      <td>Bay Street Corridor (76)</td>\n",
       "      <td>16092</td>\n",
       "    </tr>\n",
       "    <tr>\n",
       "      <th>16092</th>\n",
       "      <td>-8837083.082</td>\n",
       "      <td>5412746.086</td>\n",
       "      <td>81340415</td>\n",
       "      <td>9002500260</td>\n",
       "      <td>2019</td>\n",
       "      <td>2019/12/28 05:00:00+00</td>\n",
       "      <td>1514</td>\n",
       "      <td>15</td>\n",
       "      <td>GERRARD ST</td>\n",
       "      <td>BAY ST</td>\n",
       "      <td>...</td>\n",
       "      <td>NaN</td>\n",
       "      <td>NaN</td>\n",
       "      <td>NaN</td>\n",
       "      <td>Yes</td>\n",
       "      <td>Yes</td>\n",
       "      <td>NaN</td>\n",
       "      <td>NaN</td>\n",
       "      <td>76</td>\n",
       "      <td>Bay Street Corridor (76)</td>\n",
       "      <td>16093</td>\n",
       "    </tr>\n",
       "  </tbody>\n",
       "</table>\n",
       "<p>16093 rows × 56 columns</p>\n",
       "</div>"
      ],
      "text/plain": [
       "                 X            Y    Index_      ACCNUM  YEAR  \\\n",
       "0     -8829728.092  5419070.899   3389067      893184  2006   \n",
       "1     -8829728.092  5419070.899   3389068      893184  2006   \n",
       "2     -8829728.092  5419070.899   3389069      893184  2006   \n",
       "3     -8829728.092  5419070.899   3389070      893184  2006   \n",
       "4     -8829728.092  5419070.899   3389071      893184  2006   \n",
       "...            ...          ...       ...         ...   ...   \n",
       "16088 -8851734.397  5427216.682  81356467  9002496688  2019   \n",
       "16089 -8851734.397  5427216.682  81356468  9002496688  2019   \n",
       "16090 -8837083.082  5412746.086  81340413  9002500260  2019   \n",
       "16091 -8837083.082  5412746.086  81340414  9002500260  2019   \n",
       "16092 -8837083.082  5412746.086  81340415  9002500260  2019   \n",
       "\n",
       "                         DATE  TIME  HOUR       STREET1      STREET2  ...  \\\n",
       "0      2006/01/01 05:00:00+00   236     2  WOODBINE AVE  O CONNOR DR  ...   \n",
       "1      2006/01/01 05:00:00+00   236     2  WOODBINE AVE  O CONNOR DR  ...   \n",
       "2      2006/01/01 05:00:00+00   236     2  WOODBINE AVE  O CONNOR DR  ...   \n",
       "3      2006/01/01 05:00:00+00   236     2  WOODBINE AVE  O CONNOR DR  ...   \n",
       "4      2006/01/01 05:00:00+00   236     2  WOODBINE AVE  O CONNOR DR  ...   \n",
       "...                       ...   ...   ...           ...          ...  ...   \n",
       "16088  2019/12/27 05:00:00+00  2324    23  2901 JANE ST      JANE ST  ...   \n",
       "16089  2019/12/27 05:00:00+00  2324    23  2901 JANE ST      JANE ST  ...   \n",
       "16090  2019/12/28 05:00:00+00  1514    15    GERRARD ST       BAY ST  ...   \n",
       "16091  2019/12/28 05:00:00+00  1514    15    GERRARD ST       BAY ST  ...   \n",
       "16092  2019/12/28 05:00:00+00  1514    15    GERRARD ST       BAY ST  ...   \n",
       "\n",
       "      EMERG_VEH PASSENGER SPEEDING  AG_DRIV  REDLIGHT  ALCOHOL  DISABILITY  \\\n",
       "0           NaN       Yes      Yes      Yes       NaN      Yes         NaN   \n",
       "1           NaN       Yes      Yes      Yes       NaN      Yes         NaN   \n",
       "2           NaN       Yes      Yes      Yes       NaN      Yes         NaN   \n",
       "3           NaN       Yes      Yes      Yes       NaN      Yes         NaN   \n",
       "4           NaN       Yes      Yes      Yes       NaN      Yes         NaN   \n",
       "...         ...       ...      ...      ...       ...      ...         ...   \n",
       "16088       NaN       NaN      NaN      Yes       NaN      NaN         NaN   \n",
       "16089       NaN       NaN      NaN      Yes       NaN      NaN         NaN   \n",
       "16090       NaN       NaN      NaN      Yes       Yes      NaN         NaN   \n",
       "16091       NaN       NaN      NaN      Yes       Yes      NaN         NaN   \n",
       "16092       NaN       NaN      NaN      Yes       Yes      NaN         NaN   \n",
       "\n",
       "      Hood_ID                Neighbourhood ObjectId  \n",
       "0          60        Woodbine-Lumsden (60)        1  \n",
       "1          60        Woodbine-Lumsden (60)        2  \n",
       "2          60        Woodbine-Lumsden (60)        3  \n",
       "3          60        Woodbine-Lumsden (60)        4  \n",
       "4          60        Woodbine-Lumsden (60)        5  \n",
       "...       ...                          ...      ...  \n",
       "16088      25  Glenfield-Jane Heights (25)    16089  \n",
       "16089      25  Glenfield-Jane Heights (25)    16090  \n",
       "16090      76     Bay Street Corridor (76)    16091  \n",
       "16091      76     Bay Street Corridor (76)    16092  \n",
       "16092      76     Bay Street Corridor (76)    16093  \n",
       "\n",
       "[16093 rows x 56 columns]"
      ]
     },
     "execution_count": 3,
     "metadata": {},
     "output_type": "execute_result"
    }
   ],
   "source": [
    "df"
   ]
  },
  {
   "cell_type": "code",
   "execution_count": 4,
   "metadata": {},
   "outputs": [
    {
     "data": {
      "text/html": [
       "<div>\n",
       "<style scoped>\n",
       "    .dataframe tbody tr th:only-of-type {\n",
       "        vertical-align: middle;\n",
       "    }\n",
       "\n",
       "    .dataframe tbody tr th {\n",
       "        vertical-align: top;\n",
       "    }\n",
       "\n",
       "    .dataframe thead th {\n",
       "        text-align: right;\n",
       "    }\n",
       "</style>\n",
       "<table border=\"1\" class=\"dataframe\">\n",
       "  <thead>\n",
       "    <tr style=\"text-align: right;\">\n",
       "      <th></th>\n",
       "      <th>X</th>\n",
       "      <th>Y</th>\n",
       "      <th>Index_</th>\n",
       "      <th>ACCNUM</th>\n",
       "      <th>YEAR</th>\n",
       "      <th>DATE</th>\n",
       "      <th>TIME</th>\n",
       "      <th>HOUR</th>\n",
       "      <th>STREET1</th>\n",
       "      <th>STREET2</th>\n",
       "      <th>...</th>\n",
       "      <th>EMERG_VEH</th>\n",
       "      <th>PASSENGER</th>\n",
       "      <th>SPEEDING</th>\n",
       "      <th>AG_DRIV</th>\n",
       "      <th>REDLIGHT</th>\n",
       "      <th>ALCOHOL</th>\n",
       "      <th>DISABILITY</th>\n",
       "      <th>Hood_ID</th>\n",
       "      <th>Neighbourhood</th>\n",
       "      <th>ObjectId</th>\n",
       "    </tr>\n",
       "  </thead>\n",
       "  <tbody>\n",
       "    <tr>\n",
       "      <th>0</th>\n",
       "      <td>-8829728.092</td>\n",
       "      <td>5419070.899</td>\n",
       "      <td>3389067</td>\n",
       "      <td>893184</td>\n",
       "      <td>2006</td>\n",
       "      <td>2006/01/01 05:00:00+00</td>\n",
       "      <td>236</td>\n",
       "      <td>2</td>\n",
       "      <td>WOODBINE AVE</td>\n",
       "      <td>O CONNOR DR</td>\n",
       "      <td>...</td>\n",
       "      <td>NaN</td>\n",
       "      <td>Yes</td>\n",
       "      <td>Yes</td>\n",
       "      <td>Yes</td>\n",
       "      <td>NaN</td>\n",
       "      <td>Yes</td>\n",
       "      <td>NaN</td>\n",
       "      <td>60</td>\n",
       "      <td>Woodbine-Lumsden (60)</td>\n",
       "      <td>1</td>\n",
       "    </tr>\n",
       "    <tr>\n",
       "      <th>1</th>\n",
       "      <td>-8829728.092</td>\n",
       "      <td>5419070.899</td>\n",
       "      <td>3389068</td>\n",
       "      <td>893184</td>\n",
       "      <td>2006</td>\n",
       "      <td>2006/01/01 05:00:00+00</td>\n",
       "      <td>236</td>\n",
       "      <td>2</td>\n",
       "      <td>WOODBINE AVE</td>\n",
       "      <td>O CONNOR DR</td>\n",
       "      <td>...</td>\n",
       "      <td>NaN</td>\n",
       "      <td>Yes</td>\n",
       "      <td>Yes</td>\n",
       "      <td>Yes</td>\n",
       "      <td>NaN</td>\n",
       "      <td>Yes</td>\n",
       "      <td>NaN</td>\n",
       "      <td>60</td>\n",
       "      <td>Woodbine-Lumsden (60)</td>\n",
       "      <td>2</td>\n",
       "    </tr>\n",
       "    <tr>\n",
       "      <th>2</th>\n",
       "      <td>-8829728.092</td>\n",
       "      <td>5419070.899</td>\n",
       "      <td>3389069</td>\n",
       "      <td>893184</td>\n",
       "      <td>2006</td>\n",
       "      <td>2006/01/01 05:00:00+00</td>\n",
       "      <td>236</td>\n",
       "      <td>2</td>\n",
       "      <td>WOODBINE AVE</td>\n",
       "      <td>O CONNOR DR</td>\n",
       "      <td>...</td>\n",
       "      <td>NaN</td>\n",
       "      <td>Yes</td>\n",
       "      <td>Yes</td>\n",
       "      <td>Yes</td>\n",
       "      <td>NaN</td>\n",
       "      <td>Yes</td>\n",
       "      <td>NaN</td>\n",
       "      <td>60</td>\n",
       "      <td>Woodbine-Lumsden (60)</td>\n",
       "      <td>3</td>\n",
       "    </tr>\n",
       "    <tr>\n",
       "      <th>3</th>\n",
       "      <td>-8829728.092</td>\n",
       "      <td>5419070.899</td>\n",
       "      <td>3389070</td>\n",
       "      <td>893184</td>\n",
       "      <td>2006</td>\n",
       "      <td>2006/01/01 05:00:00+00</td>\n",
       "      <td>236</td>\n",
       "      <td>2</td>\n",
       "      <td>WOODBINE AVE</td>\n",
       "      <td>O CONNOR DR</td>\n",
       "      <td>...</td>\n",
       "      <td>NaN</td>\n",
       "      <td>Yes</td>\n",
       "      <td>Yes</td>\n",
       "      <td>Yes</td>\n",
       "      <td>NaN</td>\n",
       "      <td>Yes</td>\n",
       "      <td>NaN</td>\n",
       "      <td>60</td>\n",
       "      <td>Woodbine-Lumsden (60)</td>\n",
       "      <td>4</td>\n",
       "    </tr>\n",
       "    <tr>\n",
       "      <th>4</th>\n",
       "      <td>-8829728.092</td>\n",
       "      <td>5419070.899</td>\n",
       "      <td>3389071</td>\n",
       "      <td>893184</td>\n",
       "      <td>2006</td>\n",
       "      <td>2006/01/01 05:00:00+00</td>\n",
       "      <td>236</td>\n",
       "      <td>2</td>\n",
       "      <td>WOODBINE AVE</td>\n",
       "      <td>O CONNOR DR</td>\n",
       "      <td>...</td>\n",
       "      <td>NaN</td>\n",
       "      <td>Yes</td>\n",
       "      <td>Yes</td>\n",
       "      <td>Yes</td>\n",
       "      <td>NaN</td>\n",
       "      <td>Yes</td>\n",
       "      <td>NaN</td>\n",
       "      <td>60</td>\n",
       "      <td>Woodbine-Lumsden (60)</td>\n",
       "      <td>5</td>\n",
       "    </tr>\n",
       "    <tr>\n",
       "      <th>...</th>\n",
       "      <td>...</td>\n",
       "      <td>...</td>\n",
       "      <td>...</td>\n",
       "      <td>...</td>\n",
       "      <td>...</td>\n",
       "      <td>...</td>\n",
       "      <td>...</td>\n",
       "      <td>...</td>\n",
       "      <td>...</td>\n",
       "      <td>...</td>\n",
       "      <td>...</td>\n",
       "      <td>...</td>\n",
       "      <td>...</td>\n",
       "      <td>...</td>\n",
       "      <td>...</td>\n",
       "      <td>...</td>\n",
       "      <td>...</td>\n",
       "      <td>...</td>\n",
       "      <td>...</td>\n",
       "      <td>...</td>\n",
       "      <td>...</td>\n",
       "    </tr>\n",
       "    <tr>\n",
       "      <th>16088</th>\n",
       "      <td>-8851734.397</td>\n",
       "      <td>5427216.682</td>\n",
       "      <td>81356467</td>\n",
       "      <td>9002496688</td>\n",
       "      <td>2019</td>\n",
       "      <td>2019/12/27 05:00:00+00</td>\n",
       "      <td>2324</td>\n",
       "      <td>23</td>\n",
       "      <td>2901 JANE ST</td>\n",
       "      <td>JANE ST</td>\n",
       "      <td>...</td>\n",
       "      <td>NaN</td>\n",
       "      <td>NaN</td>\n",
       "      <td>NaN</td>\n",
       "      <td>Yes</td>\n",
       "      <td>NaN</td>\n",
       "      <td>NaN</td>\n",
       "      <td>NaN</td>\n",
       "      <td>25</td>\n",
       "      <td>Glenfield-Jane Heights (25)</td>\n",
       "      <td>16089</td>\n",
       "    </tr>\n",
       "    <tr>\n",
       "      <th>16089</th>\n",
       "      <td>-8851734.397</td>\n",
       "      <td>5427216.682</td>\n",
       "      <td>81356468</td>\n",
       "      <td>9002496688</td>\n",
       "      <td>2019</td>\n",
       "      <td>2019/12/27 05:00:00+00</td>\n",
       "      <td>2324</td>\n",
       "      <td>23</td>\n",
       "      <td>2901 JANE ST</td>\n",
       "      <td>JANE ST</td>\n",
       "      <td>...</td>\n",
       "      <td>NaN</td>\n",
       "      <td>NaN</td>\n",
       "      <td>NaN</td>\n",
       "      <td>Yes</td>\n",
       "      <td>NaN</td>\n",
       "      <td>NaN</td>\n",
       "      <td>NaN</td>\n",
       "      <td>25</td>\n",
       "      <td>Glenfield-Jane Heights (25)</td>\n",
       "      <td>16090</td>\n",
       "    </tr>\n",
       "    <tr>\n",
       "      <th>16090</th>\n",
       "      <td>-8837083.082</td>\n",
       "      <td>5412746.086</td>\n",
       "      <td>81340413</td>\n",
       "      <td>9002500260</td>\n",
       "      <td>2019</td>\n",
       "      <td>2019/12/28 05:00:00+00</td>\n",
       "      <td>1514</td>\n",
       "      <td>15</td>\n",
       "      <td>GERRARD ST</td>\n",
       "      <td>BAY ST</td>\n",
       "      <td>...</td>\n",
       "      <td>NaN</td>\n",
       "      <td>NaN</td>\n",
       "      <td>NaN</td>\n",
       "      <td>Yes</td>\n",
       "      <td>Yes</td>\n",
       "      <td>NaN</td>\n",
       "      <td>NaN</td>\n",
       "      <td>76</td>\n",
       "      <td>Bay Street Corridor (76)</td>\n",
       "      <td>16091</td>\n",
       "    </tr>\n",
       "    <tr>\n",
       "      <th>16091</th>\n",
       "      <td>-8837083.082</td>\n",
       "      <td>5412746.086</td>\n",
       "      <td>81340414</td>\n",
       "      <td>9002500260</td>\n",
       "      <td>2019</td>\n",
       "      <td>2019/12/28 05:00:00+00</td>\n",
       "      <td>1514</td>\n",
       "      <td>15</td>\n",
       "      <td>GERRARD ST</td>\n",
       "      <td>BAY ST</td>\n",
       "      <td>...</td>\n",
       "      <td>NaN</td>\n",
       "      <td>NaN</td>\n",
       "      <td>NaN</td>\n",
       "      <td>Yes</td>\n",
       "      <td>Yes</td>\n",
       "      <td>NaN</td>\n",
       "      <td>NaN</td>\n",
       "      <td>76</td>\n",
       "      <td>Bay Street Corridor (76)</td>\n",
       "      <td>16092</td>\n",
       "    </tr>\n",
       "    <tr>\n",
       "      <th>16092</th>\n",
       "      <td>-8837083.082</td>\n",
       "      <td>5412746.086</td>\n",
       "      <td>81340415</td>\n",
       "      <td>9002500260</td>\n",
       "      <td>2019</td>\n",
       "      <td>2019/12/28 05:00:00+00</td>\n",
       "      <td>1514</td>\n",
       "      <td>15</td>\n",
       "      <td>GERRARD ST</td>\n",
       "      <td>BAY ST</td>\n",
       "      <td>...</td>\n",
       "      <td>NaN</td>\n",
       "      <td>NaN</td>\n",
       "      <td>NaN</td>\n",
       "      <td>Yes</td>\n",
       "      <td>Yes</td>\n",
       "      <td>NaN</td>\n",
       "      <td>NaN</td>\n",
       "      <td>76</td>\n",
       "      <td>Bay Street Corridor (76)</td>\n",
       "      <td>16093</td>\n",
       "    </tr>\n",
       "  </tbody>\n",
       "</table>\n",
       "<p>16093 rows × 56 columns</p>\n",
       "</div>"
      ],
      "text/plain": [
       "                 X            Y    Index_      ACCNUM  YEAR  \\\n",
       "0     -8829728.092  5419070.899   3389067      893184  2006   \n",
       "1     -8829728.092  5419070.899   3389068      893184  2006   \n",
       "2     -8829728.092  5419070.899   3389069      893184  2006   \n",
       "3     -8829728.092  5419070.899   3389070      893184  2006   \n",
       "4     -8829728.092  5419070.899   3389071      893184  2006   \n",
       "...            ...          ...       ...         ...   ...   \n",
       "16088 -8851734.397  5427216.682  81356467  9002496688  2019   \n",
       "16089 -8851734.397  5427216.682  81356468  9002496688  2019   \n",
       "16090 -8837083.082  5412746.086  81340413  9002500260  2019   \n",
       "16091 -8837083.082  5412746.086  81340414  9002500260  2019   \n",
       "16092 -8837083.082  5412746.086  81340415  9002500260  2019   \n",
       "\n",
       "                         DATE  TIME  HOUR       STREET1      STREET2  ...  \\\n",
       "0      2006/01/01 05:00:00+00   236     2  WOODBINE AVE  O CONNOR DR  ...   \n",
       "1      2006/01/01 05:00:00+00   236     2  WOODBINE AVE  O CONNOR DR  ...   \n",
       "2      2006/01/01 05:00:00+00   236     2  WOODBINE AVE  O CONNOR DR  ...   \n",
       "3      2006/01/01 05:00:00+00   236     2  WOODBINE AVE  O CONNOR DR  ...   \n",
       "4      2006/01/01 05:00:00+00   236     2  WOODBINE AVE  O CONNOR DR  ...   \n",
       "...                       ...   ...   ...           ...          ...  ...   \n",
       "16088  2019/12/27 05:00:00+00  2324    23  2901 JANE ST      JANE ST  ...   \n",
       "16089  2019/12/27 05:00:00+00  2324    23  2901 JANE ST      JANE ST  ...   \n",
       "16090  2019/12/28 05:00:00+00  1514    15    GERRARD ST       BAY ST  ...   \n",
       "16091  2019/12/28 05:00:00+00  1514    15    GERRARD ST       BAY ST  ...   \n",
       "16092  2019/12/28 05:00:00+00  1514    15    GERRARD ST       BAY ST  ...   \n",
       "\n",
       "      EMERG_VEH PASSENGER SPEEDING  AG_DRIV  REDLIGHT  ALCOHOL  DISABILITY  \\\n",
       "0           NaN       Yes      Yes      Yes       NaN      Yes         NaN   \n",
       "1           NaN       Yes      Yes      Yes       NaN      Yes         NaN   \n",
       "2           NaN       Yes      Yes      Yes       NaN      Yes         NaN   \n",
       "3           NaN       Yes      Yes      Yes       NaN      Yes         NaN   \n",
       "4           NaN       Yes      Yes      Yes       NaN      Yes         NaN   \n",
       "...         ...       ...      ...      ...       ...      ...         ...   \n",
       "16088       NaN       NaN      NaN      Yes       NaN      NaN         NaN   \n",
       "16089       NaN       NaN      NaN      Yes       NaN      NaN         NaN   \n",
       "16090       NaN       NaN      NaN      Yes       Yes      NaN         NaN   \n",
       "16091       NaN       NaN      NaN      Yes       Yes      NaN         NaN   \n",
       "16092       NaN       NaN      NaN      Yes       Yes      NaN         NaN   \n",
       "\n",
       "      Hood_ID                Neighbourhood ObjectId  \n",
       "0          60        Woodbine-Lumsden (60)        1  \n",
       "1          60        Woodbine-Lumsden (60)        2  \n",
       "2          60        Woodbine-Lumsden (60)        3  \n",
       "3          60        Woodbine-Lumsden (60)        4  \n",
       "4          60        Woodbine-Lumsden (60)        5  \n",
       "...       ...                          ...      ...  \n",
       "16088      25  Glenfield-Jane Heights (25)    16089  \n",
       "16089      25  Glenfield-Jane Heights (25)    16090  \n",
       "16090      76     Bay Street Corridor (76)    16091  \n",
       "16091      76     Bay Street Corridor (76)    16092  \n",
       "16092      76     Bay Street Corridor (76)    16093  \n",
       "\n",
       "[16093 rows x 56 columns]"
      ]
     },
     "execution_count": 4,
     "metadata": {},
     "output_type": "execute_result"
    }
   ],
   "source": [
    "new_df = df[df.columns.drop(list(df.filter(regex='Unnamed:')))]\n",
    "new_df"
   ]
  },
  {
   "cell_type": "code",
   "execution_count": 5,
   "metadata": {},
   "outputs": [
    {
     "data": {
      "text/html": [
       "<div>\n",
       "<style scoped>\n",
       "    .dataframe tbody tr th:only-of-type {\n",
       "        vertical-align: middle;\n",
       "    }\n",
       "\n",
       "    .dataframe tbody tr th {\n",
       "        vertical-align: top;\n",
       "    }\n",
       "\n",
       "    .dataframe thead th {\n",
       "        text-align: right;\n",
       "    }\n",
       "</style>\n",
       "<table border=\"1\" class=\"dataframe\">\n",
       "  <thead>\n",
       "    <tr style=\"text-align: right;\">\n",
       "      <th></th>\n",
       "      <th>count</th>\n",
       "      <th>mean</th>\n",
       "      <th>std</th>\n",
       "      <th>min</th>\n",
       "      <th>25%</th>\n",
       "      <th>50%</th>\n",
       "      <th>75%</th>\n",
       "      <th>max</th>\n",
       "    </tr>\n",
       "  </thead>\n",
       "  <tbody>\n",
       "    <tr>\n",
       "      <th>X</th>\n",
       "      <td>16093.0</td>\n",
       "      <td>-8.838289e+06</td>\n",
       "      <td>1.158697e+04</td>\n",
       "      <td>-8.865305e+06</td>\n",
       "      <td>-8.846374e+06</td>\n",
       "      <td>-8.838364e+06</td>\n",
       "      <td>-8.829647e+06</td>\n",
       "      <td>-8.808254e+06</td>\n",
       "    </tr>\n",
       "    <tr>\n",
       "      <th>Y</th>\n",
       "      <td>16093.0</td>\n",
       "      <td>5.420851e+06</td>\n",
       "      <td>8.675426e+03</td>\n",
       "      <td>5.402526e+06</td>\n",
       "      <td>5.413383e+06</td>\n",
       "      <td>5.419648e+06</td>\n",
       "      <td>5.427921e+06</td>\n",
       "      <td>5.443099e+06</td>\n",
       "    </tr>\n",
       "    <tr>\n",
       "      <th>Index_</th>\n",
       "      <td>16093.0</td>\n",
       "      <td>3.252283e+07</td>\n",
       "      <td>3.594367e+07</td>\n",
       "      <td>3.363207e+06</td>\n",
       "      <td>5.332810e+06</td>\n",
       "      <td>7.423775e+06</td>\n",
       "      <td>8.050395e+07</td>\n",
       "      <td>8.140853e+07</td>\n",
       "    </tr>\n",
       "    <tr>\n",
       "      <th>ACCNUM</th>\n",
       "      <td>16093.0</td>\n",
       "      <td>2.296710e+09</td>\n",
       "      <td>3.253387e+09</td>\n",
       "      <td>1.284070e+05</td>\n",
       "      <td>1.069209e+06</td>\n",
       "      <td>1.290852e+06</td>\n",
       "      <td>5.001873e+09</td>\n",
       "      <td>9.085345e+09</td>\n",
       "    </tr>\n",
       "    <tr>\n",
       "      <th>YEAR</th>\n",
       "      <td>16093.0</td>\n",
       "      <td>2.011896e+03</td>\n",
       "      <td>4.010676e+00</td>\n",
       "      <td>2.006000e+03</td>\n",
       "      <td>2.008000e+03</td>\n",
       "      <td>2.012000e+03</td>\n",
       "      <td>2.015000e+03</td>\n",
       "      <td>2.019000e+03</td>\n",
       "    </tr>\n",
       "    <tr>\n",
       "      <th>TIME</th>\n",
       "      <td>16093.0</td>\n",
       "      <td>1.348327e+03</td>\n",
       "      <td>6.306883e+02</td>\n",
       "      <td>0.000000e+00</td>\n",
       "      <td>9.070000e+02</td>\n",
       "      <td>1.440000e+03</td>\n",
       "      <td>1.840000e+03</td>\n",
       "      <td>2.359000e+03</td>\n",
       "    </tr>\n",
       "    <tr>\n",
       "      <th>HOUR</th>\n",
       "      <td>16093.0</td>\n",
       "      <td>1.331088e+01</td>\n",
       "      <td>6.123885e+00</td>\n",
       "      <td>0.000000e+00</td>\n",
       "      <td>9.000000e+00</td>\n",
       "      <td>1.400000e+01</td>\n",
       "      <td>1.800000e+01</td>\n",
       "      <td>2.300000e+01</td>\n",
       "    </tr>\n",
       "    <tr>\n",
       "      <th>WardNum</th>\n",
       "      <td>13795.0</td>\n",
       "      <td>1.209424e+01</td>\n",
       "      <td>7.283801e+00</td>\n",
       "      <td>1.000000e+00</td>\n",
       "      <td>6.000000e+00</td>\n",
       "      <td>1.100000e+01</td>\n",
       "      <td>1.900000e+01</td>\n",
       "      <td>2.500000e+01</td>\n",
       "    </tr>\n",
       "    <tr>\n",
       "      <th>Division</th>\n",
       "      <td>16093.0</td>\n",
       "      <td>3.422016e+01</td>\n",
       "      <td>1.454478e+01</td>\n",
       "      <td>1.100000e+01</td>\n",
       "      <td>2.200000e+01</td>\n",
       "      <td>3.300000e+01</td>\n",
       "      <td>4.300000e+01</td>\n",
       "      <td>5.500000e+01</td>\n",
       "    </tr>\n",
       "    <tr>\n",
       "      <th>LATITUDE</th>\n",
       "      <td>16093.0</td>\n",
       "      <td>4.371113e+01</td>\n",
       "      <td>5.632519e-02</td>\n",
       "      <td>4.359205e+01</td>\n",
       "      <td>4.366264e+01</td>\n",
       "      <td>4.370334e+01</td>\n",
       "      <td>4.375704e+01</td>\n",
       "      <td>4.385545e+01</td>\n",
       "    </tr>\n",
       "    <tr>\n",
       "      <th>LONGITUDE</th>\n",
       "      <td>16093.0</td>\n",
       "      <td>-7.939570e+01</td>\n",
       "      <td>1.040876e-01</td>\n",
       "      <td>-7.963839e+01</td>\n",
       "      <td>-7.946833e+01</td>\n",
       "      <td>-7.939637e+01</td>\n",
       "      <td>-7.931807e+01</td>\n",
       "      <td>-7.912590e+01</td>\n",
       "    </tr>\n",
       "    <tr>\n",
       "      <th>FATAL_NO</th>\n",
       "      <td>673.0</td>\n",
       "      <td>2.983061e+01</td>\n",
       "      <td>1.820504e+01</td>\n",
       "      <td>1.000000e+00</td>\n",
       "      <td>1.500000e+01</td>\n",
       "      <td>2.900000e+01</td>\n",
       "      <td>4.300000e+01</td>\n",
       "      <td>7.800000e+01</td>\n",
       "    </tr>\n",
       "    <tr>\n",
       "      <th>Hood_ID</th>\n",
       "      <td>16093.0</td>\n",
       "      <td>7.399565e+01</td>\n",
       "      <td>4.138429e+01</td>\n",
       "      <td>1.000000e+00</td>\n",
       "      <td>3.900000e+01</td>\n",
       "      <td>7.700000e+01</td>\n",
       "      <td>1.120000e+02</td>\n",
       "      <td>1.400000e+02</td>\n",
       "    </tr>\n",
       "    <tr>\n",
       "      <th>ObjectId</th>\n",
       "      <td>16093.0</td>\n",
       "      <td>8.047000e+03</td>\n",
       "      <td>4.645793e+03</td>\n",
       "      <td>1.000000e+00</td>\n",
       "      <td>4.024000e+03</td>\n",
       "      <td>8.047000e+03</td>\n",
       "      <td>1.207000e+04</td>\n",
       "      <td>1.609300e+04</td>\n",
       "    </tr>\n",
       "  </tbody>\n",
       "</table>\n",
       "</div>"
      ],
      "text/plain": [
       "             count          mean           std           min           25%  \\\n",
       "X          16093.0 -8.838289e+06  1.158697e+04 -8.865305e+06 -8.846374e+06   \n",
       "Y          16093.0  5.420851e+06  8.675426e+03  5.402526e+06  5.413383e+06   \n",
       "Index_     16093.0  3.252283e+07  3.594367e+07  3.363207e+06  5.332810e+06   \n",
       "ACCNUM     16093.0  2.296710e+09  3.253387e+09  1.284070e+05  1.069209e+06   \n",
       "YEAR       16093.0  2.011896e+03  4.010676e+00  2.006000e+03  2.008000e+03   \n",
       "TIME       16093.0  1.348327e+03  6.306883e+02  0.000000e+00  9.070000e+02   \n",
       "HOUR       16093.0  1.331088e+01  6.123885e+00  0.000000e+00  9.000000e+00   \n",
       "WardNum    13795.0  1.209424e+01  7.283801e+00  1.000000e+00  6.000000e+00   \n",
       "Division   16093.0  3.422016e+01  1.454478e+01  1.100000e+01  2.200000e+01   \n",
       "LATITUDE   16093.0  4.371113e+01  5.632519e-02  4.359205e+01  4.366264e+01   \n",
       "LONGITUDE  16093.0 -7.939570e+01  1.040876e-01 -7.963839e+01 -7.946833e+01   \n",
       "FATAL_NO     673.0  2.983061e+01  1.820504e+01  1.000000e+00  1.500000e+01   \n",
       "Hood_ID    16093.0  7.399565e+01  4.138429e+01  1.000000e+00  3.900000e+01   \n",
       "ObjectId   16093.0  8.047000e+03  4.645793e+03  1.000000e+00  4.024000e+03   \n",
       "\n",
       "                    50%           75%           max  \n",
       "X         -8.838364e+06 -8.829647e+06 -8.808254e+06  \n",
       "Y          5.419648e+06  5.427921e+06  5.443099e+06  \n",
       "Index_     7.423775e+06  8.050395e+07  8.140853e+07  \n",
       "ACCNUM     1.290852e+06  5.001873e+09  9.085345e+09  \n",
       "YEAR       2.012000e+03  2.015000e+03  2.019000e+03  \n",
       "TIME       1.440000e+03  1.840000e+03  2.359000e+03  \n",
       "HOUR       1.400000e+01  1.800000e+01  2.300000e+01  \n",
       "WardNum    1.100000e+01  1.900000e+01  2.500000e+01  \n",
       "Division   3.300000e+01  4.300000e+01  5.500000e+01  \n",
       "LATITUDE   4.370334e+01  4.375704e+01  4.385545e+01  \n",
       "LONGITUDE -7.939637e+01 -7.931807e+01 -7.912590e+01  \n",
       "FATAL_NO   2.900000e+01  4.300000e+01  7.800000e+01  \n",
       "Hood_ID    7.700000e+01  1.120000e+02  1.400000e+02  \n",
       "ObjectId   8.047000e+03  1.207000e+04  1.609300e+04  "
      ]
     },
     "execution_count": 5,
     "metadata": {},
     "output_type": "execute_result"
    }
   ],
   "source": [
    "new_df.describe().T"
   ]
  },
  {
   "cell_type": "code",
   "execution_count": 6,
   "metadata": {},
   "outputs": [
    {
     "name": "stdout",
     "output_type": "stream",
     "text": [
      "<class 'pandas.core.frame.DataFrame'>\n",
      "RangeIndex: 16093 entries, 0 to 16092\n",
      "Data columns (total 56 columns):\n",
      " #   Column         Non-Null Count  Dtype  \n",
      "---  ------         --------------  -----  \n",
      " 0   X              16093 non-null  float64\n",
      " 1   Y              16093 non-null  float64\n",
      " 2   Index_         16093 non-null  int64  \n",
      " 3   ACCNUM         16093 non-null  int64  \n",
      " 4   YEAR           16093 non-null  int64  \n",
      " 5   DATE           16093 non-null  object \n",
      " 6   TIME           16093 non-null  int64  \n",
      " 7   HOUR           16093 non-null  int64  \n",
      " 8   STREET1        16093 non-null  object \n",
      " 9   STREET2        14698 non-null  object \n",
      " 10  OFFSET         2388 non-null   object \n",
      " 11  ROAD_CLASS     15725 non-null  object \n",
      " 12  District       16080 non-null  object \n",
      " 13  WardNum        13795 non-null  float64\n",
      " 14  Division       16093 non-null  int64  \n",
      " 15  LATITUDE       16093 non-null  float64\n",
      " 16  LONGITUDE      16093 non-null  float64\n",
      " 17  LOCCOORD       15963 non-null  object \n",
      " 18  ACCLOC         10643 non-null  object \n",
      " 19  TRAFFCTL       16064 non-null  object \n",
      " 20  VISIBILITY     16071 non-null  object \n",
      " 21  LIGHT          16093 non-null  object \n",
      " 22  RDSFCOND       16066 non-null  object \n",
      " 23  ACCLASS        16093 non-null  object \n",
      " 24  IMPACTYPE      16089 non-null  object \n",
      " 25  INVTYPE        16083 non-null  object \n",
      " 26  INVAGE         16093 non-null  object \n",
      " 27  INJURY         14484 non-null  object \n",
      " 28  FATAL_NO       673 non-null    float64\n",
      " 29  INITDIR        11257 non-null  object \n",
      " 30  VEHTYPE        13566 non-null  object \n",
      " 31  MANOEUVER      9141 non-null   object \n",
      " 32  DRIVACT        8032 non-null   object \n",
      " 33  DRIVCOND       8032 non-null   object \n",
      " 34  PEDTYPE        2570 non-null   object \n",
      " 35  PEDACT         2564 non-null   object \n",
      " 36  PEDCOND        2684 non-null   object \n",
      " 37  CYCLISTYPE     641 non-null    object \n",
      " 38  CYCACT         666 non-null    object \n",
      " 39  CYCCOND        665 non-null    object \n",
      " 40  PEDESTRIAN     6484 non-null   object \n",
      " 41  CYCLIST        1681 non-null   object \n",
      " 42  AUTOMOBILE     14632 non-null  object \n",
      " 43  MOTORCYCLE     1274 non-null   object \n",
      " 44  TRUCK          990 non-null    object \n",
      " 45  TRSN_CITY_VEH  982 non-null    object \n",
      " 46  EMERG_VEH      31 non-null     object \n",
      " 47  PASSENGER      6091 non-null   object \n",
      " 48  SPEEDING       2157 non-null   object \n",
      " 49  AG_DRIV        8306 non-null   object \n",
      " 50  REDLIGHT       1361 non-null   object \n",
      " 51  ALCOHOL        713 non-null    object \n",
      " 52  DISABILITY     450 non-null    object \n",
      " 53  Hood_ID        16093 non-null  int64  \n",
      " 54  Neighbourhood  16093 non-null  object \n",
      " 55  ObjectId       16093 non-null  int64  \n",
      "dtypes: float64(6), int64(8), object(42)\n",
      "memory usage: 6.9+ MB\n"
     ]
    }
   ],
   "source": [
    "new_df.info(verbose=True, null_counts=True)"
   ]
  },
  {
   "cell_type": "code",
   "execution_count": 7,
   "metadata": {},
   "outputs": [],
   "source": [
    "from sklearn.tree import DecisionTreeClassifier\n",
    " \n",
    "import matplotlib.pyplot as plt\n",
    " \n",
    "import numpy as np\n",
    " \n",
    "import seaborn as sns\n",
    "  \n",
    "from sklearn import tree\n",
    " \n",
    "from IPython.display import SVG\n",
    " \n",
    "import scipy.stats as sstats\n",
    "from sklearn.tree import export_graphviz"
   ]
  },
  {
   "cell_type": "code",
   "execution_count": 8,
   "metadata": {},
   "outputs": [],
   "source": [
    "def cramers_v(x, y):\n",
    "    confusion_matrix = pd.crosstab(x,y)\n",
    "    chi2 = ss.chi2_contingency(confusion_matrix)[0]\n",
    "    n = confusion_matrix.sum().sum()\n",
    "    phi2 = chi2/n\n",
    "    r,k = confusion_matrix.shape\n",
    "    phi2corr = max(0, phi2-((k-1)*(r-1))/(n-1))\n",
    "    rcorr = r-((r-1)**2)/(n-1)\n",
    "    kcorr = k-((k-1)**2)/(n-1)\n",
    "    return np.sqrt(phi2corr/min((kcorr-1),(rcorr-1)))"
   ]
  },
  {
   "cell_type": "code",
   "execution_count": 9,
   "metadata": {},
   "outputs": [
    {
     "ename": "NameError",
     "evalue": "name 'n' is not defined",
     "output_type": "error",
     "traceback": [
      "\u001b[1;31m---------------------------------------------------------------------------\u001b[0m",
      "\u001b[1;31mNameError\u001b[0m                                 Traceback (most recent call last)",
      "\u001b[1;32m<ipython-input-9-1afaafe449a9>\u001b[0m in \u001b[0;36m<module>\u001b[1;34m\u001b[0m\n\u001b[0;32m      1\u001b[0m \u001b[1;31m#cramers_v = pd.dataframe(cramers_v,index=categorical_features,columns=categorical_features)\u001b[0m\u001b[1;33m\u001b[0m\u001b[1;33m\u001b[0m\u001b[1;33m\u001b[0m\u001b[0m\n\u001b[1;32m----> 2\u001b[1;33m \u001b[0msns\u001b[0m\u001b[1;33m.\u001b[0m\u001b[0mheatmap\u001b[0m\u001b[1;33m(\u001b[0m\u001b[0mn\u001b[0m\u001b[1;33m,\u001b[0m\u001b[0mlinewidths\u001b[0m\u001b[1;33m=\u001b[0m\u001b[1;36m0.15\u001b[0m\u001b[1;33m,\u001b[0m\u001b[0msquare\u001b[0m\u001b[1;33m=\u001b[0m\u001b[1;32mTrue\u001b[0m\u001b[1;33m,\u001b[0m \u001b[0mvmax\u001b[0m\u001b[1;33m=\u001b[0m\u001b[1;36m1.0\u001b[0m\u001b[1;33m,\u001b[0m \u001b[0mcmap\u001b[0m\u001b[1;33m=\u001b[0m\u001b[0mplt\u001b[0m\u001b[1;33m.\u001b[0m\u001b[0mcm\u001b[0m\u001b[1;33m.\u001b[0m\u001b[0mBuGn\u001b[0m\u001b[1;33m,\u001b[0m \u001b[0mlinecolor\u001b[0m\u001b[1;33m=\u001b[0m\u001b[1;34m'white'\u001b[0m\u001b[1;33m,\u001b[0m \u001b[0mannot\u001b[0m\u001b[1;33m=\u001b[0m\u001b[1;32mTrue\u001b[0m\u001b[1;33m)\u001b[0m\u001b[1;33m;\u001b[0m\u001b[1;33m\u001b[0m\u001b[1;33m\u001b[0m\u001b[0m\n\u001b[0m",
      "\u001b[1;31mNameError\u001b[0m: name 'n' is not defined"
     ]
    }
   ],
   "source": [
    "#cramers_v = pd.dataframe(cramers_v,index=categorical_features,columns=categorical_features)\n",
    "sns.heatmap(n,linewidths=0.15,square=True, vmax=1.0, cmap=plt.cm.BuGn, linecolor='white', annot=True);"
   ]
  },
  {
   "cell_type": "markdown",
   "metadata": {},
   "source": [
    "## <u>Quick Looks</u>\n",
    "\n",
    "Variables to highlight in dataset for prediction:\n",
    "\n",
    "    ROAD_CLASS\n",
    "    WardNum\n",
    "    Division\n",
    "    TRAFFCTRL\n",
    "    VISIBILITY\n",
    "    LIGHT\n",
    "    RDSFCOND\n",
    "    INVTYPE\n",
    "    INVAGE\n",
    "    INJURY\n",
    "    VEHTYPE\n",
    "    DRIVCOND"
   ]
  },
  {
   "cell_type": "markdown",
   "metadata": {},
   "source": [
    "### Road_Class"
   ]
  },
  {
   "cell_type": "code",
   "execution_count": null,
   "metadata": {},
   "outputs": [],
   "source": [
    "countplt, ax = plt.subplots(figsize = (8,4))\n",
    "ax =sb.countplot(x = 'ROAD_CLASS', data=new_df, ax=ax)\n",
    "ax.set_xticklabels(ax.get_xticklabels(), rotation=45, horizontalalignment='right')\n",
    "\n",
    "plt.show()"
   ]
  },
  {
   "cell_type": "markdown",
   "metadata": {},
   "source": [
    "### WardNum"
   ]
  },
  {
   "cell_type": "code",
   "execution_count": null,
   "metadata": {},
   "outputs": [],
   "source": [
    "countplt, ax = plt.subplots(figsize = (16,4))\n",
    "ax =sb.countplot(x = 'WardNum', data=new_df)\n",
    "\n",
    "plt.show()"
   ]
  },
  {
   "cell_type": "markdown",
   "metadata": {},
   "source": [
    "### Division"
   ]
  },
  {
   "cell_type": "code",
   "execution_count": null,
   "metadata": {},
   "outputs": [],
   "source": [
    "countplt, ax = plt.subplots(figsize = (8,4))\n",
    "ax =sb.countplot(x = 'Division', data=new_df)\n",
    "\n",
    "plt.show()"
   ]
  },
  {
   "cell_type": "markdown",
   "metadata": {},
   "source": [
    "### TRAFFCTL"
   ]
  },
  {
   "cell_type": "code",
   "execution_count": null,
   "metadata": {},
   "outputs": [],
   "source": [
    "countplt, ax = plt.subplots(figsize = (8,4))\n",
    "ax =sb.countplot(x = 'TRAFFCTL', data=new_df, ax=ax)\n",
    "ax.set_xticklabels(ax.get_xticklabels(), rotation=45, horizontalalignment='right')\n",
    "\n",
    "plt.show()"
   ]
  },
  {
   "cell_type": "markdown",
   "metadata": {},
   "source": [
    "### VISIBILITY"
   ]
  },
  {
   "cell_type": "code",
   "execution_count": null,
   "metadata": {},
   "outputs": [],
   "source": [
    "countplt, ax = plt.subplots(figsize = (8,4))\n",
    "ax =sb.countplot(x = 'VISIBILITY', data=new_df, ax=ax)\n",
    "ax.set_xticklabels(ax.get_xticklabels(), rotation=45, horizontalalignment='right')\n",
    "\n",
    "plt.show()"
   ]
  },
  {
   "cell_type": "markdown",
   "metadata": {},
   "source": [
    "<font color = \"red\">Suggest to bin results together as such:\n",
    "    \n",
    "    Clear\n",
    "    Rain = Rain, Freezing Rain\n",
    "    Snow = Snow, Drifting Snow\n",
    "    Other = Other, \"Fog, Mist, Smoke, Dust\", Strong wind"
   ]
  },
  {
   "cell_type": "markdown",
   "metadata": {},
   "source": [
    "### LIGHT"
   ]
  },
  {
   "cell_type": "code",
   "execution_count": null,
   "metadata": {},
   "outputs": [],
   "source": [
    "countplt, ax = plt.subplots(figsize = (8,4))\n",
    "ax =sb.countplot(x = 'LIGHT', data=new_df, ax=ax)\n",
    "ax.set_xticklabels(ax.get_xticklabels(), rotation=45, horizontalalignment='right')\n",
    "\n",
    "plt.show()"
   ]
  },
  {
   "cell_type": "markdown",
   "metadata": {},
   "source": [
    "### RDSFCOND"
   ]
  },
  {
   "cell_type": "code",
   "execution_count": 10,
   "metadata": {},
   "outputs": [
    {
     "data": {
      "image/png": "[encoded data removed]",
      "text/plain": [
       "<Figure size 576x288 with 1 Axes>"
      ]
     },
     "metadata": {
      "needs_background": "light"
     },
     "output_type": "display_data"
    }
   ],
   "source": [
    "countplt, ax = plt.subplots(figsize = (8,4))\n",
    "ax =sb.countplot(x = 'RDSFCOND', data=new_df, ax=ax)\n",
    "ax.set_xticklabels(ax.get_xticklabels(), rotation=45, horizontalalignment='right')\n",
    "\n",
    "plt.show()"
   ]
  },
  {
   "cell_type": "markdown",
   "metadata": {},
   "source": [
    "### INVTYPE"
   ]
  },
  {
   "cell_type": "code",
   "execution_count": 11,
   "metadata": {},
   "outputs": [
    {
     "data": {
      "image/png": "[encoded data removed]",
      "text/plain": [
       "<Figure size 576x288 with 1 Axes>"
      ]
     },
     "metadata": {
      "needs_background": "light"
     },
     "output_type": "display_data"
    }
   ],
   "source": [
    "countplt, ax = plt.subplots(figsize = (8,4))\n",
    "ax =sb.countplot(x = 'INVTYPE', data=new_df, ax=ax)\n",
    "ax.set_xticklabels(ax.get_xticklabels(), rotation=45, horizontalalignment='right')\n",
    "\n",
    "plt.show()"
   ]
  },
  {
   "cell_type": "markdown",
   "metadata": {},
   "source": [
    "### INVAGE"
   ]
  },
  {
   "cell_type": "code",
   "execution_count": 12,
   "metadata": {},
   "outputs": [],
   "source": [
    "df.sort_values(by=['INVAGE'], inplace=True)\n"
   ]
  },
  {
   "cell_type": "code",
   "execution_count": 13,
   "metadata": {},
   "outputs": [
    {
     "data": {
      "image/png": "[encoded data removed]",
      "text/plain": [
       "<Figure size 1152x288 with 1 Axes>"
      ]
     },
     "metadata": {
      "needs_background": "light"
     },
     "output_type": "display_data"
    }
   ],
   "source": [
    "countplt, ax = plt.subplots(figsize = (16,4))\n",
    "ax =sb.countplot(x = 'INVAGE', data=new_df, ax=ax)\n",
    "ax.set_xticklabels(ax.get_xticklabels(), rotation=45, horizontalalignment='right')\n",
    "\n",
    "plt.show()"
   ]
  },
  {
   "cell_type": "markdown",
   "metadata": {},
   "source": [
    "### INJURY"
   ]
  },
  {
   "cell_type": "code",
   "execution_count": 14,
   "metadata": {},
   "outputs": [
    {
     "data": {
      "image/png": "[encoded data removed]",
      "text/plain": [
       "<Figure size 576x288 with 1 Axes>"
      ]
     },
     "metadata": {
      "needs_background": "light"
     },
     "output_type": "display_data"
    }
   ],
   "source": [
    "countplt, ax = plt.subplots(figsize = (8,4))\n",
    "ax =sb.countplot(x = 'INJURY', data=new_df)\n",
    "\n",
    "plt.show()"
   ]
  },
  {
   "cell_type": "markdown",
   "metadata": {},
   "source": [
    "### VEHTYPE"
   ]
  },
  {
   "cell_type": "code",
   "execution_count": 15,
   "metadata": {},
   "outputs": [
    {
     "data": {
      "image/png": "[encoded data removed]",
      "text/plain": [
       "<Figure size 576x288 with 1 Axes>"
      ]
     },
     "metadata": {
      "needs_background": "light"
     },
     "output_type": "display_data"
    }
   ],
   "source": [
    "countplt, ax = plt.subplots(figsize = (8,4))\n",
    "ax =sb.countplot(x = 'VEHTYPE', data=new_df, ax=ax)\n",
    "ax.set_xticklabels(ax.get_xticklabels(), rotation=45, horizontalalignment='right')\n",
    "\n",
    "plt.show()"
   ]
  },
  {
   "cell_type": "markdown",
   "metadata": {},
   "source": [
    "### DRIVCOND"
   ]
  },
  {
   "cell_type": "code",
   "execution_count": 16,
   "metadata": {},
   "outputs": [
    {
     "data": {
      "image/png": "[encoded data removed]",
      "text/plain": [
       "<Figure size 576x288 with 1 Axes>"
      ]
     },
     "metadata": {
      "needs_background": "light"
     },
     "output_type": "display_data"
    }
   ],
   "source": [
    "countplt, ax = plt.subplots(figsize = (8,4))\n",
    "ax =sb.countplot(x = 'DRIVCOND', data=new_df, ax=ax)\n",
    "ax.set_xticklabels(ax.get_xticklabels(), rotation=45, horizontalalignment='right')\n",
    "\n",
    "plt.show()"
   ]
  },
  {
   "cell_type": "markdown",
   "metadata": {},
   "source": [
    "## <u>Correlations</u>"
   ]
  },
  {
   "cell_type": "code",
   "execution_count": 17,
   "metadata": {},
   "outputs": [
    {
     "data": {
      "text/html": [
       "<div>\n",
       "<style scoped>\n",
       "    .dataframe tbody tr th:only-of-type {\n",
       "        vertical-align: middle;\n",
       "    }\n",
       "\n",
       "    .dataframe tbody tr th {\n",
       "        vertical-align: top;\n",
       "    }\n",
       "\n",
       "    .dataframe thead th {\n",
       "        text-align: right;\n",
       "    }\n",
       "</style>\n",
       "<table border=\"1\" class=\"dataframe\">\n",
       "  <thead>\n",
       "    <tr style=\"text-align: right;\">\n",
       "      <th></th>\n",
       "      <th>X</th>\n",
       "      <th>Y</th>\n",
       "      <th>Index_</th>\n",
       "      <th>ACCNUM</th>\n",
       "      <th>YEAR</th>\n",
       "      <th>TIME</th>\n",
       "      <th>HOUR</th>\n",
       "      <th>WardNum</th>\n",
       "      <th>Division</th>\n",
       "      <th>LATITUDE</th>\n",
       "      <th>LONGITUDE</th>\n",
       "      <th>FATAL_NO</th>\n",
       "      <th>Hood_ID</th>\n",
       "      <th>ObjectId</th>\n",
       "    </tr>\n",
       "  </thead>\n",
       "  <tbody>\n",
       "    <tr>\n",
       "      <th>X</th>\n",
       "      <td>1.000000</td>\n",
       "      <td>0.418629</td>\n",
       "      <td>0.012716</td>\n",
       "      <td>0.015548</td>\n",
       "      <td>0.023994</td>\n",
       "      <td>0.014342</td>\n",
       "      <td>0.014169</td>\n",
       "      <td>0.938228</td>\n",
       "      <td>0.597783</td>\n",
       "      <td>0.418572</td>\n",
       "      <td>1.000000</td>\n",
       "      <td>0.070810</td>\n",
       "      <td>0.784651</td>\n",
       "      <td>0.025409</td>\n",
       "    </tr>\n",
       "    <tr>\n",
       "      <th>Y</th>\n",
       "      <td>0.418629</td>\n",
       "      <td>1.000000</td>\n",
       "      <td>0.039309</td>\n",
       "      <td>0.042582</td>\n",
       "      <td>0.026833</td>\n",
       "      <td>0.030637</td>\n",
       "      <td>0.031717</td>\n",
       "      <td>0.598885</td>\n",
       "      <td>0.206298</td>\n",
       "      <td>1.000000</td>\n",
       "      <td>0.418629</td>\n",
       "      <td>0.038123</td>\n",
       "      <td>0.267107</td>\n",
       "      <td>0.026809</td>\n",
       "    </tr>\n",
       "    <tr>\n",
       "      <th>Index_</th>\n",
       "      <td>0.012716</td>\n",
       "      <td>0.039309</td>\n",
       "      <td>1.000000</td>\n",
       "      <td>0.946346</td>\n",
       "      <td>0.861860</td>\n",
       "      <td>0.026144</td>\n",
       "      <td>0.030105</td>\n",
       "      <td>0.011783</td>\n",
       "      <td>-0.008520</td>\n",
       "      <td>0.039306</td>\n",
       "      <td>0.012716</td>\n",
       "      <td>0.248803</td>\n",
       "      <td>-0.001706</td>\n",
       "      <td>0.841724</td>\n",
       "    </tr>\n",
       "    <tr>\n",
       "      <th>ACCNUM</th>\n",
       "      <td>0.015548</td>\n",
       "      <td>0.042582</td>\n",
       "      <td>0.946346</td>\n",
       "      <td>1.000000</td>\n",
       "      <td>0.881602</td>\n",
       "      <td>0.021347</td>\n",
       "      <td>0.024178</td>\n",
       "      <td>0.018460</td>\n",
       "      <td>-0.007740</td>\n",
       "      <td>0.042577</td>\n",
       "      <td>0.015548</td>\n",
       "      <td>0.237157</td>\n",
       "      <td>0.003906</td>\n",
       "      <td>0.847290</td>\n",
       "    </tr>\n",
       "    <tr>\n",
       "      <th>YEAR</th>\n",
       "      <td>0.023994</td>\n",
       "      <td>0.026833</td>\n",
       "      <td>0.861860</td>\n",
       "      <td>0.881602</td>\n",
       "      <td>1.000000</td>\n",
       "      <td>0.018423</td>\n",
       "      <td>0.020746</td>\n",
       "      <td>0.023025</td>\n",
       "      <td>0.002230</td>\n",
       "      <td>0.026824</td>\n",
       "      <td>0.023994</td>\n",
       "      <td>0.215134</td>\n",
       "      <td>0.019537</td>\n",
       "      <td>0.990150</td>\n",
       "    </tr>\n",
       "    <tr>\n",
       "      <th>TIME</th>\n",
       "      <td>0.014342</td>\n",
       "      <td>0.030637</td>\n",
       "      <td>0.026144</td>\n",
       "      <td>0.021347</td>\n",
       "      <td>0.018423</td>\n",
       "      <td>1.000000</td>\n",
       "      <td>0.994090</td>\n",
       "      <td>0.013894</td>\n",
       "      <td>0.027399</td>\n",
       "      <td>0.030656</td>\n",
       "      <td>0.014342</td>\n",
       "      <td>0.077022</td>\n",
       "      <td>-0.013828</td>\n",
       "      <td>0.019927</td>\n",
       "    </tr>\n",
       "    <tr>\n",
       "      <th>HOUR</th>\n",
       "      <td>0.014169</td>\n",
       "      <td>0.031717</td>\n",
       "      <td>0.030105</td>\n",
       "      <td>0.024178</td>\n",
       "      <td>0.020746</td>\n",
       "      <td>0.994090</td>\n",
       "      <td>1.000000</td>\n",
       "      <td>0.015667</td>\n",
       "      <td>0.026882</td>\n",
       "      <td>0.031735</td>\n",
       "      <td>0.014169</td>\n",
       "      <td>0.075594</td>\n",
       "      <td>-0.014688</td>\n",
       "      <td>0.022033</td>\n",
       "    </tr>\n",
       "    <tr>\n",
       "      <th>WardNum</th>\n",
       "      <td>0.938228</td>\n",
       "      <td>0.598885</td>\n",
       "      <td>0.011783</td>\n",
       "      <td>0.018460</td>\n",
       "      <td>0.023025</td>\n",
       "      <td>0.013894</td>\n",
       "      <td>0.015667</td>\n",
       "      <td>1.000000</td>\n",
       "      <td>0.588603</td>\n",
       "      <td>0.598826</td>\n",
       "      <td>0.938228</td>\n",
       "      <td>0.049254</td>\n",
       "      <td>0.712596</td>\n",
       "      <td>0.023557</td>\n",
       "    </tr>\n",
       "    <tr>\n",
       "      <th>Division</th>\n",
       "      <td>0.597783</td>\n",
       "      <td>0.206298</td>\n",
       "      <td>-0.008520</td>\n",
       "      <td>-0.007740</td>\n",
       "      <td>0.002230</td>\n",
       "      <td>0.027399</td>\n",
       "      <td>0.026882</td>\n",
       "      <td>0.588603</td>\n",
       "      <td>1.000000</td>\n",
       "      <td>0.206316</td>\n",
       "      <td>0.597783</td>\n",
       "      <td>-0.007568</td>\n",
       "      <td>0.260947</td>\n",
       "      <td>0.005115</td>\n",
       "    </tr>\n",
       "    <tr>\n",
       "      <th>LATITUDE</th>\n",
       "      <td>0.418572</td>\n",
       "      <td>1.000000</td>\n",
       "      <td>0.039306</td>\n",
       "      <td>0.042577</td>\n",
       "      <td>0.026824</td>\n",
       "      <td>0.030656</td>\n",
       "      <td>0.031735</td>\n",
       "      <td>0.598826</td>\n",
       "      <td>0.206316</td>\n",
       "      <td>1.000000</td>\n",
       "      <td>0.418572</td>\n",
       "      <td>0.038148</td>\n",
       "      <td>0.267055</td>\n",
       "      <td>0.026800</td>\n",
       "    </tr>\n",
       "    <tr>\n",
       "      <th>LONGITUDE</th>\n",
       "      <td>1.000000</td>\n",
       "      <td>0.418629</td>\n",
       "      <td>0.012716</td>\n",
       "      <td>0.015548</td>\n",
       "      <td>0.023994</td>\n",
       "      <td>0.014342</td>\n",
       "      <td>0.014169</td>\n",
       "      <td>0.938228</td>\n",
       "      <td>0.597783</td>\n",
       "      <td>0.418572</td>\n",
       "      <td>1.000000</td>\n",
       "      <td>0.070810</td>\n",
       "      <td>0.784651</td>\n",
       "      <td>0.025409</td>\n",
       "    </tr>\n",
       "    <tr>\n",
       "      <th>FATAL_NO</th>\n",
       "      <td>0.070810</td>\n",
       "      <td>0.038123</td>\n",
       "      <td>0.248803</td>\n",
       "      <td>0.237157</td>\n",
       "      <td>0.215134</td>\n",
       "      <td>0.077022</td>\n",
       "      <td>0.075594</td>\n",
       "      <td>0.049254</td>\n",
       "      <td>-0.007568</td>\n",
       "      <td>0.038148</td>\n",
       "      <td>0.070810</td>\n",
       "      <td>1.000000</td>\n",
       "      <td>0.076264</td>\n",
       "      <td>0.288701</td>\n",
       "    </tr>\n",
       "    <tr>\n",
       "      <th>Hood_ID</th>\n",
       "      <td>0.784651</td>\n",
       "      <td>0.267107</td>\n",
       "      <td>-0.001706</td>\n",
       "      <td>0.003906</td>\n",
       "      <td>0.019537</td>\n",
       "      <td>-0.013828</td>\n",
       "      <td>-0.014688</td>\n",
       "      <td>0.712596</td>\n",
       "      <td>0.260947</td>\n",
       "      <td>0.267055</td>\n",
       "      <td>0.784651</td>\n",
       "      <td>0.076264</td>\n",
       "      <td>1.000000</td>\n",
       "      <td>0.021865</td>\n",
       "    </tr>\n",
       "    <tr>\n",
       "      <th>ObjectId</th>\n",
       "      <td>0.025409</td>\n",
       "      <td>0.026809</td>\n",
       "      <td>0.841724</td>\n",
       "      <td>0.847290</td>\n",
       "      <td>0.990150</td>\n",
       "      <td>0.019927</td>\n",
       "      <td>0.022033</td>\n",
       "      <td>0.023557</td>\n",
       "      <td>0.005115</td>\n",
       "      <td>0.026800</td>\n",
       "      <td>0.025409</td>\n",
       "      <td>0.288701</td>\n",
       "      <td>0.021865</td>\n",
       "      <td>1.000000</td>\n",
       "    </tr>\n",
       "  </tbody>\n",
       "</table>\n",
       "</div>"
      ],
      "text/plain": [
       "                  X         Y    Index_    ACCNUM      YEAR      TIME  \\\n",
       "X          1.000000  0.418629  0.012716  0.015548  0.023994  0.014342   \n",
       "Y          0.418629  1.000000  0.039309  0.042582  0.026833  0.030637   \n",
       "Index_     0.012716  0.039309  1.000000  0.946346  0.861860  0.026144   \n",
       "ACCNUM     0.015548  0.042582  0.946346  1.000000  0.881602  0.021347   \n",
       "YEAR       0.023994  0.026833  0.861860  0.881602  1.000000  0.018423   \n",
       "TIME       0.014342  0.030637  0.026144  0.021347  0.018423  1.000000   \n",
       "HOUR       0.014169  0.031717  0.030105  0.024178  0.020746  0.994090   \n",
       "WardNum    0.938228  0.598885  0.011783  0.018460  0.023025  0.013894   \n",
       "Division   0.597783  0.206298 -0.008520 -0.007740  0.002230  0.027399   \n",
       "LATITUDE   0.418572  1.000000  0.039306  0.042577  0.026824  0.030656   \n",
       "LONGITUDE  1.000000  0.418629  0.012716  0.015548  0.023994  0.014342   \n",
       "FATAL_NO   0.070810  0.038123  0.248803  0.237157  0.215134  0.077022   \n",
       "Hood_ID    0.784651  0.267107 -0.001706  0.003906  0.019537 -0.013828   \n",
       "ObjectId   0.025409  0.026809  0.841724  0.847290  0.990150  0.019927   \n",
       "\n",
       "               HOUR   WardNum  Division  LATITUDE  LONGITUDE  FATAL_NO  \\\n",
       "X          0.014169  0.938228  0.597783  0.418572   1.000000  0.070810   \n",
       "Y          0.031717  0.598885  0.206298  1.000000   0.418629  0.038123   \n",
       "Index_     0.030105  0.011783 -0.008520  0.039306   0.012716  0.248803   \n",
       "ACCNUM     0.024178  0.018460 -0.007740  0.042577   0.015548  0.237157   \n",
       "YEAR       0.020746  0.023025  0.002230  0.026824   0.023994  0.215134   \n",
       "TIME       0.994090  0.013894  0.027399  0.030656   0.014342  0.077022   \n",
       "HOUR       1.000000  0.015667  0.026882  0.031735   0.014169  0.075594   \n",
       "WardNum    0.015667  1.000000  0.588603  0.598826   0.938228  0.049254   \n",
       "Division   0.026882  0.588603  1.000000  0.206316   0.597783 -0.007568   \n",
       "LATITUDE   0.031735  0.598826  0.206316  1.000000   0.418572  0.038148   \n",
       "LONGITUDE  0.014169  0.938228  0.597783  0.418572   1.000000  0.070810   \n",
       "FATAL_NO   0.075594  0.049254 -0.007568  0.038148   0.070810  1.000000   \n",
       "Hood_ID   -0.014688  0.712596  0.260947  0.267055   0.784651  0.076264   \n",
       "ObjectId   0.022033  0.023557  0.005115  0.026800   0.025409  0.288701   \n",
       "\n",
       "            Hood_ID  ObjectId  \n",
       "X          0.784651  0.025409  \n",
       "Y          0.267107  0.026809  \n",
       "Index_    -0.001706  0.841724  \n",
       "ACCNUM     0.003906  0.847290  \n",
       "YEAR       0.019537  0.990150  \n",
       "TIME      -0.013828  0.019927  \n",
       "HOUR      -0.014688  0.022033  \n",
       "WardNum    0.712596  0.023557  \n",
       "Division   0.260947  0.005115  \n",
       "LATITUDE   0.267055  0.026800  \n",
       "LONGITUDE  0.784651  0.025409  \n",
       "FATAL_NO   0.076264  0.288701  \n",
       "Hood_ID    1.000000  0.021865  \n",
       "ObjectId   0.021865  1.000000  "
      ]
     },
     "execution_count": 17,
     "metadata": {},
     "output_type": "execute_result"
    }
   ],
   "source": [
    "corrdf = new_df.corr()\n",
    "\n",
    "corrdf"
   ]
  },
  {
   "cell_type": "code",
   "execution_count": 18,
   "metadata": {},
   "outputs": [
    {
     "data": {
      "image/png": "[encoded data removed]",
      "text/plain": [
       "<Figure size 1440x720 with 2 Axes>"
      ]
     },
     "metadata": {
      "needs_background": "light"
     },
     "output_type": "display_data"
    }
   ],
   "source": [
    "corrmat = new_df.corr()\n",
    "highest_corr_vars = corrmat.index\n",
    "plt.figure(figsize=(20,10))\n",
    "g = sb.heatmap(df[highest_corr_vars].corr(),annot = True,cmap = \"RdYlGn\")"
   ]
  },
  {
   "cell_type": "markdown",
   "metadata": {},
   "source": [
    "## <u>Missing Values</u>\n",
    "\n",
    "Variables to highlight in dataset for prediction:\n",
    "\n",
    "    ROAD_CLASS\n",
    "    WardNum\n",
    "    Division\n",
    "    TRAFFCTL\n",
    "    VISIBILITY\n",
    "    LIGHT\n",
    "    RDSFCOND\n",
    "    INVTYPE\n",
    "    INVAGE\n",
    "    INJURY\n",
    "    VEHTYPE\n",
    "    DRIVCOND"
   ]
  },
  {
   "cell_type": "code",
   "execution_count": 19,
   "metadata": {},
   "outputs": [
    {
     "data": {
      "text/plain": [
       "Major Arterial         11555\n",
       "Minor Arterial          2462\n",
       "Collector                900\n",
       "Local                    727\n",
       "NaN                      368\n",
       "Other                     33\n",
       "Expressway                24\n",
       "Pending                   13\n",
       "Laneway                   10\n",
       "Major Arterial Ramp        1\n",
       "Name: ROAD_CLASS, dtype: int64"
      ]
     },
     "execution_count": 19,
     "metadata": {},
     "output_type": "execute_result"
    }
   ],
   "source": [
    "new_df.ROAD_CLASS.value_counts(dropna=False)"
   ]
  },
  {
   "cell_type": "code",
   "execution_count": 20,
   "metadata": {},
   "outputs": [
    {
     "data": {
      "text/plain": [
       "NaN     2298\n",
       "10.0     930\n",
       "1.0      867\n",
       "3.0      740\n",
       "11.0     738\n",
       "5.0      719\n",
       "14.0     712\n",
       "4.0      639\n",
       "21.0     630\n",
       "13.0     618\n",
       "9.0      607\n",
       "22.0     563\n",
       "23.0     558\n",
       "6.0      544\n",
       "7.0      505\n",
       "20.0     486\n",
       "18.0     459\n",
       "24.0     438\n",
       "2.0      437\n",
       "25.0     423\n",
       "8.0      421\n",
       "19.0     409\n",
       "17.0     388\n",
       "16.0     373\n",
       "12.0     347\n",
       "15.0     244\n",
       "Name: WardNum, dtype: int64"
      ]
     },
     "execution_count": 20,
     "metadata": {},
     "output_type": "execute_result"
    }
   ],
   "source": [
    "new_df.WardNum.value_counts(dropna=False)"
   ]
  },
  {
   "cell_type": "code",
   "execution_count": 21,
   "metadata": {},
   "outputs": [
    {
     "data": {
      "text/plain": [
       "42    1612\n",
       "32    1237\n",
       "41    1218\n",
       "23    1200\n",
       "14    1088\n",
       "22    1020\n",
       "43    1004\n",
       "53     902\n",
       "31     853\n",
       "52     852\n",
       "51     845\n",
       "33     839\n",
       "12     807\n",
       "54     706\n",
       "11     670\n",
       "13     659\n",
       "55     581\n",
       "Name: Division, dtype: int64"
      ]
     },
     "execution_count": 21,
     "metadata": {},
     "output_type": "execute_result"
    }
   ],
   "source": [
    "new_df.Division.value_counts(dropna=False)"
   ]
  },
  {
   "cell_type": "code",
   "execution_count": 22,
   "metadata": {},
   "outputs": [
    {
     "data": {
      "text/plain": [
       "No Control              7692\n",
       "Traffic Signal          6771\n",
       "Stop Sign               1272\n",
       "Pedestrian Crossover     189\n",
       "Traffic Controller       100\n",
       "NaN                       29\n",
       "Streetcar (Stop for)      16\n",
       "Yield Sign                13\n",
       "Traffic Gate               5\n",
       "PXO - No Ped               2\n",
       "School Guard               2\n",
       "Police Control             2\n",
       "Name: TRAFFCTL, dtype: int64"
      ]
     },
     "execution_count": 22,
     "metadata": {},
     "output_type": "execute_result"
    }
   ],
   "source": [
    "new_df.TRAFFCTL.value_counts(dropna=False)"
   ]
  },
  {
   "cell_type": "code",
   "execution_count": 23,
   "metadata": {},
   "outputs": [
    {
     "data": {
      "text/plain": [
       "Clear                     13814\n",
       "Rain                       1711\n",
       "Snow                        333\n",
       "Other                        99\n",
       "Fog, Mist, Smoke, Dust       44\n",
       "Freezing Rain                43\n",
       "NaN                          22\n",
       "Drifting Snow                19\n",
       "Strong wind                   8\n",
       "Name: VISIBILITY, dtype: int64"
      ]
     },
     "execution_count": 23,
     "metadata": {},
     "output_type": "execute_result"
    }
   ],
   "source": [
    "new_df.VISIBILITY.value_counts(dropna=False)"
   ]
  },
  {
   "cell_type": "code",
   "execution_count": 24,
   "metadata": {},
   "outputs": [
    {
     "data": {
      "text/plain": [
       "Daylight                9255\n",
       "Dark                    3525\n",
       "Dark, artificial        2609\n",
       "Dusk                     221\n",
       "Dusk, artificial         166\n",
       "Daylight, artificial     124\n",
       "Dawn                     102\n",
       "Dawn, artificial          85\n",
       "Other                      6\n",
       "Name: LIGHT, dtype: int64"
      ]
     },
     "execution_count": 24,
     "metadata": {},
     "output_type": "execute_result"
    }
   ],
   "source": [
    "new_df.LIGHT.value_counts(dropna=False)"
   ]
  },
  {
   "cell_type": "code",
   "execution_count": 25,
   "metadata": {},
   "outputs": [
    {
     "data": {
      "text/plain": [
       "Dry                     12820\n",
       "Wet                      2718\n",
       "Loose Snow                162\n",
       "Other                     147\n",
       "Slush                      96\n",
       "Ice                        73\n",
       "Packed Snow                42\n",
       "NaN                        27\n",
       "Loose Sand or Gravel        7\n",
       "Spilled liquid              1\n",
       "Name: RDSFCOND, dtype: int64"
      ]
     },
     "execution_count": 25,
     "metadata": {},
     "output_type": "execute_result"
    }
   ],
   "source": [
    "new_df.RDSFCOND.value_counts(dropna=False)"
   ]
  },
  {
   "cell_type": "code",
   "execution_count": 26,
   "metadata": {},
   "outputs": [
    {
     "data": {
      "text/plain": [
       "Driver                  7263\n",
       "Pedestrian              2715\n",
       "Passenger               2426\n",
       "Vehicle Owner           1636\n",
       "Cyclist                  684\n",
       "Motorcycle Driver        551\n",
       "Truck Driver             297\n",
       "Other Property Owner     257\n",
       "Other                    157\n",
       "Motorcycle Passenger      30\n",
       "Moped Driver              27\n",
       "Driver - Not Hit          16\n",
       "Wheelchair                13\n",
       "NaN                       10\n",
       "In-Line Skater             5\n",
       "Cyclist Passenger          2\n",
       "Trailer Owner              2\n",
       "Witness                    1\n",
       "Pedestrian - Not Hit       1\n",
       "Name: INVTYPE, dtype: int64"
      ]
     },
     "execution_count": 26,
     "metadata": {},
     "output_type": "execute_result"
    }
   ],
   "source": [
    "new_df.INVTYPE.value_counts(dropna=False)"
   ]
  },
  {
   "cell_type": "code",
   "execution_count": 27,
   "metadata": {},
   "outputs": [
    {
     "data": {
      "text/plain": [
       "unknown     2541\n",
       "20 to 24    1484\n",
       "25 to 29    1417\n",
       "30 to 34    1174\n",
       "50 to 54    1150\n",
       "35 to 39    1136\n",
       "40 to 44    1134\n",
       "45 to 49    1104\n",
       "55 to 59     937\n",
       "60 to 64     743\n",
       "15 to 19     738\n",
       "65 to 69     586\n",
       "70 to 74     463\n",
       "75 to 79     390\n",
       "80 to 84     292\n",
       "10 to 14     214\n",
       "85 to 89     191\n",
       "5 to 9       175\n",
       "0 to 4       156\n",
       "90 to 94      54\n",
       "Over 95       14\n",
       "Name: INVAGE, dtype: int64"
      ]
     },
     "execution_count": 27,
     "metadata": {},
     "output_type": "execute_result"
    }
   ],
   "source": [
    "new_df.INVAGE.value_counts(dropna=False)"
   ]
  },
  {
   "cell_type": "code",
   "execution_count": 28,
   "metadata": {},
   "outputs": [
    {
     "data": {
      "text/plain": [
       "None       6068\n",
       "Major      5375\n",
       "NaN        1609\n",
       "Minor      1264\n",
       "Minimal     996\n",
       "Fatal       781\n",
       "Name: INJURY, dtype: int64"
      ]
     },
     "execution_count": 28,
     "metadata": {},
     "output_type": "execute_result"
    }
   ],
   "source": [
    "new_df.INJURY.value_counts(dropna=False)"
   ]
  },
  {
   "cell_type": "code",
   "execution_count": 29,
   "metadata": {},
   "outputs": [
    {
     "data": {
      "text/plain": [
       "Automobile, Station Wagon           6594\n",
       "Other                               4745\n",
       "NaN                                 2527\n",
       "Bicycle                              680\n",
       "Motorcycle                           551\n",
       "Municipal Transit Bus (TTC)          241\n",
       "Truck - Open                         173\n",
       "Pick Up Truck                        152\n",
       "Passenger Van                        105\n",
       "Delivery Van                          63\n",
       "Truck - Closed (Blazer, etc)          50\n",
       "Street Car                            39\n",
       "Truck - Dump                          32\n",
       "Truck-Tractor                         30\n",
       "Taxi                                  28\n",
       "Moped                                 22\n",
       "Truck (other)                         12\n",
       "Bus (Other) (Go Bus, Gray Coach)      11\n",
       "Intercity Bus                          9\n",
       "Truck - Tank                           7\n",
       "Police Vehicle                         4\n",
       "Construction Equipment                 4\n",
       "Tow Truck                              4\n",
       "School Bus                             4\n",
       "Fire Vehicle                           3\n",
       "Off Road - 2 Wheels                    1\n",
       "Truck - Car Carrier                    1\n",
       "Other Emergency Vehicle                1\n",
       "Name: VEHTYPE, dtype: int64"
      ]
     },
     "execution_count": 29,
     "metadata": {},
     "output_type": "execute_result"
    }
   ],
   "source": [
    "new_df.VEHTYPE.value_counts(dropna=False)"
   ]
  },
  {
   "cell_type": "code",
   "execution_count": 30,
   "metadata": {},
   "outputs": [
    {
     "data": {
      "text/plain": [
       "NaN                                   8061\n",
       "Normal                                5167\n",
       "Inattentive                           1318\n",
       "Unknown                                920\n",
       "Medical or Physical Disability         156\n",
       "Had Been Drinking                      146\n",
       "Ability Impaired, Alcohol Over .08     115\n",
       "Ability Impaired, Alcohol              106\n",
       "Fatigue                                 47\n",
       "Other                                   41\n",
       "Ability Impaired, Drugs                 16\n",
       "Name: DRIVCOND, dtype: int64"
      ]
     },
     "execution_count": 30,
     "metadata": {},
     "output_type": "execute_result"
    }
   ],
   "source": [
    "new_df.DRIVCOND.value_counts(dropna=False)"
   ]
  },
  {
   "cell_type": "markdown",
   "metadata": {},
   "source": [
    "We want to keep all the INJURY records snce it is our target value- we will drop any NaN values in this column."
   ]
  },
  {
   "cell_type": "code",
   "execution_count": 31,
   "metadata": {},
   "outputs": [],
   "source": [
    "new_df_aug1 = new_df.dropna(subset = ['INJURY'], how='all')"
   ]
  },
  {
   "cell_type": "code",
   "execution_count": 32,
   "metadata": {},
   "outputs": [
    {
     "name": "stdout",
     "output_type": "stream",
     "text": [
      "(16093, 56)\n",
      "(14484, 56)\n"
     ]
    }
   ],
   "source": [
    "print(new_df.shape)\n",
    "print(new_df_aug1.shape)"
   ]
  },
  {
   "cell_type": "code",
   "execution_count": 33,
   "metadata": {},
   "outputs": [
    {
     "data": {
      "text/plain": [
       "X                    0\n",
       "Y                    0\n",
       "Index_               0\n",
       "ACCNUM               0\n",
       "YEAR                 0\n",
       "DATE                 0\n",
       "TIME                 0\n",
       "HOUR                 0\n",
       "STREET1              0\n",
       "STREET2           1276\n",
       "OFFSET           12099\n",
       "ROAD_CLASS         313\n",
       "District            13\n",
       "WardNum           2086\n",
       "Division             0\n",
       "LATITUDE             0\n",
       "LONGITUDE            0\n",
       "LOCCOORD           127\n",
       "ACCLOC            4583\n",
       "TRAFFCTL            29\n",
       "VISIBILITY          21\n",
       "LIGHT                0\n",
       "RDSFCOND            26\n",
       "ACCLASS              0\n",
       "IMPACTYPE            4\n",
       "INVTYPE              5\n",
       "INVAGE               0\n",
       "INJURY               0\n",
       "FATAL_NO         13811\n",
       "INITDIR           3244\n",
       "VEHTYPE           2450\n",
       "MANOEUVER         5360\n",
       "DRIVACT           6463\n",
       "DRIVCOND          6463\n",
       "PEDTYPE          11914\n",
       "PEDACT           11920\n",
       "PEDCOND          11800\n",
       "CYCLISTYPE       13843\n",
       "CYCACT           13818\n",
       "CYCCOND          13819\n",
       "PEDESTRIAN        8564\n",
       "CYCLIST          12953\n",
       "AUTOMOBILE        1234\n",
       "MOTORCYCLE       13309\n",
       "TRUCK            13655\n",
       "TRSN_CITY_VEH    13677\n",
       "EMERG_VEH        14454\n",
       "PASSENGER         8881\n",
       "SPEEDING         12569\n",
       "AG_DRIV           6989\n",
       "REDLIGHT         13251\n",
       "ALCOHOL          13853\n",
       "DISABILITY       14092\n",
       "Hood_ID              0\n",
       "Neighbourhood        0\n",
       "ObjectId             0\n",
       "dtype: int64"
      ]
     },
     "execution_count": 33,
     "metadata": {},
     "output_type": "execute_result"
    }
   ],
   "source": [
    "new_df_aug1.isnull().sum()"
   ]
  },
  {
   "cell_type": "markdown",
   "metadata": {},
   "source": [
    "There are still missing values for the following features that we are interested in:\n",
    "\n",
    "    ROAD_CLASS - 313\n",
    "    WardNum - 2086\n",
    "    Division - 0\n",
    "    TRAFFCTL - 29\n",
    "    VISIBILITY - 21\n",
    "    LIGHT - 0\n",
    "    RDSFCOND - 26\n",
    "    INVTYPE - 5\n",
    "    INVAGE - 0 \n",
    "    INJURY - 0\n",
    "    VEHTYPE - 2450\n",
    "    DRIVCOND - 6463"
   ]
  },
  {
   "cell_type": "markdown",
   "metadata": {},
   "source": [
    "Since the WardNum and Division have a strong correlation based on the heatmap we will drop WardNum as a feature since it has too many missing values.\n",
    "\n",
    "Let's look at ROAD_CLASS, VEHTYPE and DRIVCOND since the have large missing values. Both features have categories of \"unknown\" and \"other\" so let's replace NaN with \"unknown\" or \"other\" since we cannot change their values in any vaild way; also we woudl like to keep these features for now."
   ]
  },
  {
   "cell_type": "code",
   "execution_count": 34,
   "metadata": {},
   "outputs": [
    {
     "name": "stderr",
     "output_type": "stream",
     "text": [
      "C:\\Users\\lotte\\anaconda3\\lib\\site-packages\\pandas\\core\\series.py:4517: SettingWithCopyWarning: \n",
      "A value is trying to be set on a copy of a slice from a DataFrame\n",
      "\n",
      "See the caveats in the documentation: https://pandas.pydata.org/pandas-docs/stable/user_guide/indexing.html#returning-a-view-versus-a-copy\n",
      "  return super().fillna(\n"
     ]
    }
   ],
   "source": [
    "new_df_aug1[\"ROAD_CLASS\"].fillna(\"Other\", inplace = True)"
   ]
  },
  {
   "cell_type": "code",
   "execution_count": 35,
   "metadata": {},
   "outputs": [],
   "source": [
    "new_df_aug1[\"VEHTYPE\"].fillna(\"Other\", inplace = True)"
   ]
  },
  {
   "cell_type": "code",
   "execution_count": 36,
   "metadata": {},
   "outputs": [],
   "source": [
    "new_df_aug1[\"DRIVCOND\"].fillna(\"Other\", inplace = True)"
   ]
  },
  {
   "cell_type": "code",
   "execution_count": 37,
   "metadata": {},
   "outputs": [
    {
     "data": {
      "text/plain": [
       "(14484, 56)"
      ]
     },
     "execution_count": 37,
     "metadata": {},
     "output_type": "execute_result"
    }
   ],
   "source": [
    "new_df_aug1.shape\n",
    "# No records have been lost compared to before when doing this replace of Nan values."
   ]
  },
  {
   "cell_type": "code",
   "execution_count": 38,
   "metadata": {},
   "outputs": [
    {
     "data": {
      "text/plain": [
       "X                    0\n",
       "Y                    0\n",
       "Index_               0\n",
       "ACCNUM               0\n",
       "YEAR                 0\n",
       "DATE                 0\n",
       "TIME                 0\n",
       "HOUR                 0\n",
       "STREET1              0\n",
       "STREET2           1276\n",
       "OFFSET           12099\n",
       "ROAD_CLASS           0\n",
       "District            13\n",
       "WardNum           2086\n",
       "Division             0\n",
       "LATITUDE             0\n",
       "LONGITUDE            0\n",
       "LOCCOORD           127\n",
       "ACCLOC            4583\n",
       "TRAFFCTL            29\n",
       "VISIBILITY          21\n",
       "LIGHT                0\n",
       "RDSFCOND            26\n",
       "ACCLASS              0\n",
       "IMPACTYPE            4\n",
       "INVTYPE              5\n",
       "INVAGE               0\n",
       "INJURY               0\n",
       "FATAL_NO         13811\n",
       "INITDIR           3244\n",
       "VEHTYPE              0\n",
       "MANOEUVER         5360\n",
       "DRIVACT           6463\n",
       "DRIVCOND             0\n",
       "PEDTYPE          11914\n",
       "PEDACT           11920\n",
       "PEDCOND          11800\n",
       "CYCLISTYPE       13843\n",
       "CYCACT           13818\n",
       "CYCCOND          13819\n",
       "PEDESTRIAN        8564\n",
       "CYCLIST          12953\n",
       "AUTOMOBILE        1234\n",
       "MOTORCYCLE       13309\n",
       "TRUCK            13655\n",
       "TRSN_CITY_VEH    13677\n",
       "EMERG_VEH        14454\n",
       "PASSENGER         8881\n",
       "SPEEDING         12569\n",
       "AG_DRIV           6989\n",
       "REDLIGHT         13251\n",
       "ALCOHOL          13853\n",
       "DISABILITY       14092\n",
       "Hood_ID              0\n",
       "Neighbourhood        0\n",
       "ObjectId             0\n",
       "dtype: int64"
      ]
     },
     "execution_count": 38,
     "metadata": {},
     "output_type": "execute_result"
    }
   ],
   "source": [
    "new_df_aug1.isnull().sum()"
   ]
  },
  {
   "cell_type": "markdown",
   "metadata": {},
   "source": [
    "We now only have four features left that have a few missing values based on the updated feature table below.\n",
    "    \n",
    "    ROAD_CLASS - 0\n",
    "    Division - 0\n",
    "    TRAFFCTL - 29\n",
    "    VISIBILITY - 21\n",
    "    LIGHT - 0\n",
    "    RDSFCOND - 26\n",
    "    INVTYPE - 5\n",
    "    INVAGE - 0 \n",
    "    INJURY - 0\n",
    "    VEHTYPE - 0\n",
    "    DRIVCOND - 0\n",
    " \n",
    "Since we currently have 14,484 records and the missing values are now very small i.e totally 55 records, we will go ahead and remove them since there is not a meaningful way transform them."
   ]
  },
  {
   "cell_type": "code",
   "execution_count": 39,
   "metadata": {},
   "outputs": [],
   "source": [
    "new_df_aug2 = new_df_aug1.dropna(subset = ['TRAFFCTL'], how='all')"
   ]
  },
  {
   "cell_type": "code",
   "execution_count": 40,
   "metadata": {},
   "outputs": [],
   "source": [
    "new_df_aug3 = new_df_aug2.dropna(subset = ['VISIBILITY'], how='all')"
   ]
  },
  {
   "cell_type": "code",
   "execution_count": 41,
   "metadata": {},
   "outputs": [],
   "source": [
    "new_df_aug4 = new_df_aug3.dropna(subset = ['RDSFCOND'], how='all')"
   ]
  },
  {
   "cell_type": "code",
   "execution_count": 42,
   "metadata": {},
   "outputs": [],
   "source": [
    "new_df_aug5 = new_df_aug4.dropna(subset = ['INVTYPE'], how='all')"
   ]
  },
  {
   "cell_type": "code",
   "execution_count": 43,
   "metadata": {},
   "outputs": [
    {
     "data": {
      "text/plain": [
       "(14422, 56)"
      ]
     },
     "execution_count": 43,
     "metadata": {},
     "output_type": "execute_result"
    }
   ],
   "source": [
    "new_df_aug5.shape"
   ]
  },
  {
   "cell_type": "code",
   "execution_count": 44,
   "metadata": {},
   "outputs": [
    {
     "data": {
      "text/plain": [
       "X                    0\n",
       "Y                    0\n",
       "Index_               0\n",
       "ACCNUM               0\n",
       "YEAR                 0\n",
       "DATE                 0\n",
       "TIME                 0\n",
       "HOUR                 0\n",
       "STREET1              0\n",
       "STREET2           1271\n",
       "OFFSET           12042\n",
       "ROAD_CLASS           0\n",
       "District            13\n",
       "WardNum           2078\n",
       "Division             0\n",
       "LATITUDE             0\n",
       "LONGITUDE            0\n",
       "LOCCOORD           111\n",
       "ACCLOC            4557\n",
       "TRAFFCTL             0\n",
       "VISIBILITY           0\n",
       "LIGHT                0\n",
       "RDSFCOND             0\n",
       "ACCLASS              0\n",
       "IMPACTYPE            4\n",
       "INVTYPE              0\n",
       "INVAGE               0\n",
       "INJURY               0\n",
       "FATAL_NO         13762\n",
       "INITDIR           3216\n",
       "VEHTYPE              0\n",
       "MANOEUVER         5347\n",
       "DRIVACT           6418\n",
       "DRIVCOND             0\n",
       "PEDTYPE          11860\n",
       "PEDACT           11866\n",
       "PEDCOND          11744\n",
       "CYCLISTYPE       13781\n",
       "CYCACT           13756\n",
       "CYCCOND          13757\n",
       "PEDESTRIAN        8525\n",
       "CYCLIST          12891\n",
       "AUTOMOBILE        1228\n",
       "MOTORCYCLE       13249\n",
       "TRUCK            13596\n",
       "TRSN_CITY_VEH    13619\n",
       "EMERG_VEH        14392\n",
       "PASSENGER         8840\n",
       "SPEEDING         12517\n",
       "AG_DRIV           6943\n",
       "REDLIGHT         13189\n",
       "ALCOHOL          13794\n",
       "DISABILITY       14030\n",
       "Hood_ID              0\n",
       "Neighbourhood        0\n",
       "ObjectId             0\n",
       "dtype: int64"
      ]
     },
     "execution_count": 44,
     "metadata": {},
     "output_type": "execute_result"
    }
   ],
   "source": [
    "new_df_aug5.isnull().sum()"
   ]
  },
  {
   "cell_type": "markdown",
   "metadata": {},
   "source": [
    "## Duplicate Values"
   ]
  },
  {
   "cell_type": "code",
   "execution_count": 45,
   "metadata": {
    "scrolled": true
   },
   "outputs": [
    {
     "data": {
      "text/plain": [
       "False    14422\n",
       "dtype: int64"
      ]
     },
     "execution_count": 45,
     "metadata": {},
     "output_type": "execute_result"
    }
   ],
   "source": [
    "new_df_aug5.duplicated().value_counts()"
   ]
  },
  {
   "cell_type": "markdown",
   "metadata": {},
   "source": [
    "There are no duplicate values."
   ]
  },
  {
   "cell_type": "markdown",
   "metadata": {},
   "source": [
    "## Subset Feature and Target Only Dataframe"
   ]
  },
  {
   "cell_type": "code",
   "execution_count": 46,
   "metadata": {},
   "outputs": [],
   "source": [
    "# Create subset of the dataframe with only features that we are interested in.\n",
    "feature_only_df = new_df_aug5.loc[:, ['INJURY', 'ROAD_CLASS', 'LIGHT', 'VISIBILITY', 'VEHTYPE', 'DRIVCOND', 'INVAGE', 'RDSFCOND', 'INVTYPE']]"
   ]
  },
  {
   "cell_type": "code",
   "execution_count": 47,
   "metadata": {},
   "outputs": [
    {
     "data": {
      "text/html": [
       "<div>\n",
       "<style scoped>\n",
       "    .dataframe tbody tr th:only-of-type {\n",
       "        vertical-align: middle;\n",
       "    }\n",
       "\n",
       "    .dataframe tbody tr th {\n",
       "        vertical-align: top;\n",
       "    }\n",
       "\n",
       "    .dataframe thead th {\n",
       "        text-align: right;\n",
       "    }\n",
       "</style>\n",
       "<table border=\"1\" class=\"dataframe\">\n",
       "  <thead>\n",
       "    <tr style=\"text-align: right;\">\n",
       "      <th></th>\n",
       "      <th>INJURY</th>\n",
       "      <th>ROAD_CLASS</th>\n",
       "      <th>LIGHT</th>\n",
       "      <th>VISIBILITY</th>\n",
       "      <th>VEHTYPE</th>\n",
       "      <th>DRIVCOND</th>\n",
       "      <th>INVAGE</th>\n",
       "      <th>RDSFCOND</th>\n",
       "      <th>INVTYPE</th>\n",
       "    </tr>\n",
       "  </thead>\n",
       "  <tbody>\n",
       "    <tr>\n",
       "      <th>0</th>\n",
       "      <td>Major</td>\n",
       "      <td>Major Arterial</td>\n",
       "      <td>Dark</td>\n",
       "      <td>Clear</td>\n",
       "      <td>Other</td>\n",
       "      <td>Other</td>\n",
       "      <td>50 to 54</td>\n",
       "      <td>Wet</td>\n",
       "      <td>Passenger</td>\n",
       "    </tr>\n",
       "    <tr>\n",
       "      <th>1</th>\n",
       "      <td>Minor</td>\n",
       "      <td>Major Arterial</td>\n",
       "      <td>Dark</td>\n",
       "      <td>Clear</td>\n",
       "      <td>Other</td>\n",
       "      <td>Other</td>\n",
       "      <td>15 to 19</td>\n",
       "      <td>Wet</td>\n",
       "      <td>Passenger</td>\n",
       "    </tr>\n",
       "    <tr>\n",
       "      <th>2</th>\n",
       "      <td>Minor</td>\n",
       "      <td>Major Arterial</td>\n",
       "      <td>Dark</td>\n",
       "      <td>Clear</td>\n",
       "      <td>Automobile, Station Wagon</td>\n",
       "      <td>Normal</td>\n",
       "      <td>55 to 59</td>\n",
       "      <td>Wet</td>\n",
       "      <td>Driver</td>\n",
       "    </tr>\n",
       "    <tr>\n",
       "      <th>3</th>\n",
       "      <td>Minor</td>\n",
       "      <td>Major Arterial</td>\n",
       "      <td>Dark</td>\n",
       "      <td>Clear</td>\n",
       "      <td>Other</td>\n",
       "      <td>Other</td>\n",
       "      <td>20 to 24</td>\n",
       "      <td>Wet</td>\n",
       "      <td>Passenger</td>\n",
       "    </tr>\n",
       "    <tr>\n",
       "      <th>4</th>\n",
       "      <td>Minor</td>\n",
       "      <td>Major Arterial</td>\n",
       "      <td>Dark</td>\n",
       "      <td>Clear</td>\n",
       "      <td>Other</td>\n",
       "      <td>Other</td>\n",
       "      <td>15 to 19</td>\n",
       "      <td>Wet</td>\n",
       "      <td>Passenger</td>\n",
       "    </tr>\n",
       "    <tr>\n",
       "      <th>...</th>\n",
       "      <td>...</td>\n",
       "      <td>...</td>\n",
       "      <td>...</td>\n",
       "      <td>...</td>\n",
       "      <td>...</td>\n",
       "      <td>...</td>\n",
       "      <td>...</td>\n",
       "      <td>...</td>\n",
       "      <td>...</td>\n",
       "    </tr>\n",
       "    <tr>\n",
       "      <th>16088</th>\n",
       "      <td>None</td>\n",
       "      <td>Major Arterial</td>\n",
       "      <td>Dark, artificial</td>\n",
       "      <td>Clear</td>\n",
       "      <td>Automobile, Station Wagon</td>\n",
       "      <td>Normal</td>\n",
       "      <td>20 to 24</td>\n",
       "      <td>Dry</td>\n",
       "      <td>Driver</td>\n",
       "    </tr>\n",
       "    <tr>\n",
       "      <th>16089</th>\n",
       "      <td>Major</td>\n",
       "      <td>Major Arterial</td>\n",
       "      <td>Dark, artificial</td>\n",
       "      <td>Clear</td>\n",
       "      <td>Other</td>\n",
       "      <td>Other</td>\n",
       "      <td>10 to 14</td>\n",
       "      <td>Dry</td>\n",
       "      <td>Pedestrian</td>\n",
       "    </tr>\n",
       "    <tr>\n",
       "      <th>16090</th>\n",
       "      <td>None</td>\n",
       "      <td>Major Arterial</td>\n",
       "      <td>Daylight</td>\n",
       "      <td>Clear</td>\n",
       "      <td>Automobile, Station Wagon</td>\n",
       "      <td>Inattentive</td>\n",
       "      <td>50 to 54</td>\n",
       "      <td>Dry</td>\n",
       "      <td>Driver</td>\n",
       "    </tr>\n",
       "    <tr>\n",
       "      <th>16091</th>\n",
       "      <td>None</td>\n",
       "      <td>Major Arterial</td>\n",
       "      <td>Daylight</td>\n",
       "      <td>Clear</td>\n",
       "      <td>Automobile, Station Wagon</td>\n",
       "      <td>Normal</td>\n",
       "      <td>25 to 29</td>\n",
       "      <td>Dry</td>\n",
       "      <td>Driver</td>\n",
       "    </tr>\n",
       "    <tr>\n",
       "      <th>16092</th>\n",
       "      <td>Major</td>\n",
       "      <td>Major Arterial</td>\n",
       "      <td>Daylight</td>\n",
       "      <td>Clear</td>\n",
       "      <td>Other</td>\n",
       "      <td>Other</td>\n",
       "      <td>25 to 29</td>\n",
       "      <td>Dry</td>\n",
       "      <td>Pedestrian</td>\n",
       "    </tr>\n",
       "  </tbody>\n",
       "</table>\n",
       "<p>14422 rows × 9 columns</p>\n",
       "</div>"
      ],
      "text/plain": [
       "      INJURY      ROAD_CLASS             LIGHT VISIBILITY  \\\n",
       "0      Major  Major Arterial              Dark      Clear   \n",
       "1      Minor  Major Arterial              Dark      Clear   \n",
       "2      Minor  Major Arterial              Dark      Clear   \n",
       "3      Minor  Major Arterial              Dark      Clear   \n",
       "4      Minor  Major Arterial              Dark      Clear   \n",
       "...      ...             ...               ...        ...   \n",
       "16088   None  Major Arterial  Dark, artificial      Clear   \n",
       "16089  Major  Major Arterial  Dark, artificial      Clear   \n",
       "16090   None  Major Arterial          Daylight      Clear   \n",
       "16091   None  Major Arterial          Daylight      Clear   \n",
       "16092  Major  Major Arterial          Daylight      Clear   \n",
       "\n",
       "                         VEHTYPE     DRIVCOND    INVAGE RDSFCOND     INVTYPE  \n",
       "0                          Other        Other  50 to 54      Wet   Passenger  \n",
       "1                          Other        Other  15 to 19      Wet   Passenger  \n",
       "2      Automobile, Station Wagon       Normal  55 to 59      Wet      Driver  \n",
       "3                          Other        Other  20 to 24      Wet   Passenger  \n",
       "4                          Other        Other  15 to 19      Wet   Passenger  \n",
       "...                          ...          ...       ...      ...         ...  \n",
       "16088  Automobile, Station Wagon       Normal  20 to 24      Dry      Driver  \n",
       "16089                      Other        Other  10 to 14      Dry  Pedestrian  \n",
       "16090  Automobile, Station Wagon  Inattentive  50 to 54      Dry      Driver  \n",
       "16091  Automobile, Station Wagon       Normal  25 to 29      Dry      Driver  \n",
       "16092                      Other        Other  25 to 29      Dry  Pedestrian  \n",
       "\n",
       "[14422 rows x 9 columns]"
      ]
     },
     "execution_count": 47,
     "metadata": {},
     "output_type": "execute_result"
    }
   ],
   "source": [
    "feature_only_df"
   ]
  },
  {
   "cell_type": "markdown",
   "metadata": {},
   "source": [
    "## Dummy Variables"
   ]
  },
  {
   "cell_type": "code",
   "execution_count": 48,
   "metadata": {},
   "outputs": [],
   "source": [
    "RoadClass_dv = pd.get_dummies(feature_only_df['ROAD_CLASS'], prefix=\"RoadClass\", prefix_sep ='_')"
   ]
  },
  {
   "cell_type": "code",
   "execution_count": 49,
   "metadata": {},
   "outputs": [],
   "source": [
    "# RoadClass_dv"
   ]
  },
  {
   "cell_type": "code",
   "execution_count": 50,
   "metadata": {},
   "outputs": [],
   "source": [
    "Light_dv = pd.get_dummies(feature_only_df['LIGHT'], prefix=\"Light\", prefix_sep ='_')"
   ]
  },
  {
   "cell_type": "code",
   "execution_count": 51,
   "metadata": {},
   "outputs": [],
   "source": [
    "Visibility_dv = pd.get_dummies(feature_only_df['VISIBILITY'], prefix=\"Visibility\", prefix_sep ='_')"
   ]
  },
  {
   "cell_type": "code",
   "execution_count": 52,
   "metadata": {},
   "outputs": [],
   "source": [
    "Vehicle_dv = pd.get_dummies(feature_only_df['VEHTYPE'], prefix=\"VEHTYPE\", prefix_sep ='_')"
   ]
  },
  {
   "cell_type": "code",
   "execution_count": 53,
   "metadata": {},
   "outputs": [],
   "source": [
    "DriverCond_dv = pd.get_dummies(feature_only_df['DRIVCOND'], prefix=\"DRIVCOND\", prefix_sep ='_')"
   ]
  },
  {
   "cell_type": "code",
   "execution_count": 54,
   "metadata": {},
   "outputs": [],
   "source": [
    "Age_dv = pd.get_dummies(feature_only_df['INVAGE'], prefix=\"INVAGE\", prefix_sep ='_')"
   ]
  },
  {
   "cell_type": "code",
   "execution_count": 55,
   "metadata": {},
   "outputs": [],
   "source": [
    "RoadCond_dv = pd.get_dummies(feature_only_df['RDSFCOND'], prefix=\"RDSFCOND\", prefix_sep ='_')"
   ]
  },
  {
   "cell_type": "code",
   "execution_count": 56,
   "metadata": {},
   "outputs": [],
   "source": [
    "Involve_dv = pd.get_dummies(feature_only_df['INVTYPE'], prefix=\"INVTYPE\", prefix_sep ='_')"
   ]
  },
  {
   "cell_type": "code",
   "execution_count": 57,
   "metadata": {},
   "outputs": [],
   "source": [
    "# Decreases the model accuracy\n",
    "#Traffic_dv = pd.get_dummies(feature_only_df['TRAFFCTL'], prefix=\"TRAFFCTL\", prefix_sep ='_')"
   ]
  },
  {
   "cell_type": "code",
   "execution_count": 58,
   "metadata": {},
   "outputs": [],
   "source": [
    "# Put together all the dummy variables\n",
    "new_df_aug5_dv = pd.concat([feature_only_df, RoadClass_dv, Light_dv, Visibility_dv, Vehicle_dv, DriverCond_dv, Age_dv, RoadCond_dv, Involve_dv], axis=1)"
   ]
  },
  {
   "cell_type": "code",
   "execution_count": 59,
   "metadata": {},
   "outputs": [],
   "source": [
    "# Drop feature columns from which dummy variables were created\n",
    "new_df_aug5_dv.drop(['ROAD_CLASS', 'LIGHT', 'VISIBILITY', 'VEHTYPE', 'DRIVCOND','INVAGE','RDSFCOND','INVTYPE'],axis=1,inplace=True)"
   ]
  },
  {
   "cell_type": "code",
   "execution_count": 60,
   "metadata": {},
   "outputs": [
    {
     "data": {
      "text/html": [
       "<div>\n",
       "<style scoped>\n",
       "    .dataframe tbody tr th:only-of-type {\n",
       "        vertical-align: middle;\n",
       "    }\n",
       "\n",
       "    .dataframe tbody tr th {\n",
       "        vertical-align: top;\n",
       "    }\n",
       "\n",
       "    .dataframe thead th {\n",
       "        text-align: right;\n",
       "    }\n",
       "</style>\n",
       "<table border=\"1\" class=\"dataframe\">\n",
       "  <thead>\n",
       "    <tr style=\"text-align: right;\">\n",
       "      <th></th>\n",
       "      <th>INJURY</th>\n",
       "      <th>RoadClass_Collector</th>\n",
       "      <th>RoadClass_Expressway</th>\n",
       "      <th>RoadClass_Laneway</th>\n",
       "      <th>RoadClass_Local</th>\n",
       "      <th>RoadClass_Major Arterial</th>\n",
       "      <th>RoadClass_Major Arterial Ramp</th>\n",
       "      <th>RoadClass_Minor Arterial</th>\n",
       "      <th>RoadClass_Other</th>\n",
       "      <th>RoadClass_Pending</th>\n",
       "      <th>...</th>\n",
       "      <th>INVTYPE_Motorcycle Driver</th>\n",
       "      <th>INVTYPE_Motorcycle Passenger</th>\n",
       "      <th>INVTYPE_Other</th>\n",
       "      <th>INVTYPE_Other Property Owner</th>\n",
       "      <th>INVTYPE_Passenger</th>\n",
       "      <th>INVTYPE_Pedestrian</th>\n",
       "      <th>INVTYPE_Pedestrian - Not Hit</th>\n",
       "      <th>INVTYPE_Truck Driver</th>\n",
       "      <th>INVTYPE_Vehicle Owner</th>\n",
       "      <th>INVTYPE_Wheelchair</th>\n",
       "    </tr>\n",
       "  </thead>\n",
       "  <tbody>\n",
       "    <tr>\n",
       "      <th>0</th>\n",
       "      <td>Major</td>\n",
       "      <td>0</td>\n",
       "      <td>0</td>\n",
       "      <td>0</td>\n",
       "      <td>0</td>\n",
       "      <td>1</td>\n",
       "      <td>0</td>\n",
       "      <td>0</td>\n",
       "      <td>0</td>\n",
       "      <td>0</td>\n",
       "      <td>...</td>\n",
       "      <td>0</td>\n",
       "      <td>0</td>\n",
       "      <td>0</td>\n",
       "      <td>0</td>\n",
       "      <td>1</td>\n",
       "      <td>0</td>\n",
       "      <td>0</td>\n",
       "      <td>0</td>\n",
       "      <td>0</td>\n",
       "      <td>0</td>\n",
       "    </tr>\n",
       "    <tr>\n",
       "      <th>1</th>\n",
       "      <td>Minor</td>\n",
       "      <td>0</td>\n",
       "      <td>0</td>\n",
       "      <td>0</td>\n",
       "      <td>0</td>\n",
       "      <td>1</td>\n",
       "      <td>0</td>\n",
       "      <td>0</td>\n",
       "      <td>0</td>\n",
       "      <td>0</td>\n",
       "      <td>...</td>\n",
       "      <td>0</td>\n",
       "      <td>0</td>\n",
       "      <td>0</td>\n",
       "      <td>0</td>\n",
       "      <td>1</td>\n",
       "      <td>0</td>\n",
       "      <td>0</td>\n",
       "      <td>0</td>\n",
       "      <td>0</td>\n",
       "      <td>0</td>\n",
       "    </tr>\n",
       "    <tr>\n",
       "      <th>2</th>\n",
       "      <td>Minor</td>\n",
       "      <td>0</td>\n",
       "      <td>0</td>\n",
       "      <td>0</td>\n",
       "      <td>0</td>\n",
       "      <td>1</td>\n",
       "      <td>0</td>\n",
       "      <td>0</td>\n",
       "      <td>0</td>\n",
       "      <td>0</td>\n",
       "      <td>...</td>\n",
       "      <td>0</td>\n",
       "      <td>0</td>\n",
       "      <td>0</td>\n",
       "      <td>0</td>\n",
       "      <td>0</td>\n",
       "      <td>0</td>\n",
       "      <td>0</td>\n",
       "      <td>0</td>\n",
       "      <td>0</td>\n",
       "      <td>0</td>\n",
       "    </tr>\n",
       "    <tr>\n",
       "      <th>3</th>\n",
       "      <td>Minor</td>\n",
       "      <td>0</td>\n",
       "      <td>0</td>\n",
       "      <td>0</td>\n",
       "      <td>0</td>\n",
       "      <td>1</td>\n",
       "      <td>0</td>\n",
       "      <td>0</td>\n",
       "      <td>0</td>\n",
       "      <td>0</td>\n",
       "      <td>...</td>\n",
       "      <td>0</td>\n",
       "      <td>0</td>\n",
       "      <td>0</td>\n",
       "      <td>0</td>\n",
       "      <td>1</td>\n",
       "      <td>0</td>\n",
       "      <td>0</td>\n",
       "      <td>0</td>\n",
       "      <td>0</td>\n",
       "      <td>0</td>\n",
       "    </tr>\n",
       "    <tr>\n",
       "      <th>4</th>\n",
       "      <td>Minor</td>\n",
       "      <td>0</td>\n",
       "      <td>0</td>\n",
       "      <td>0</td>\n",
       "      <td>0</td>\n",
       "      <td>1</td>\n",
       "      <td>0</td>\n",
       "      <td>0</td>\n",
       "      <td>0</td>\n",
       "      <td>0</td>\n",
       "      <td>...</td>\n",
       "      <td>0</td>\n",
       "      <td>0</td>\n",
       "      <td>0</td>\n",
       "      <td>0</td>\n",
       "      <td>1</td>\n",
       "      <td>0</td>\n",
       "      <td>0</td>\n",
       "      <td>0</td>\n",
       "      <td>0</td>\n",
       "      <td>0</td>\n",
       "    </tr>\n",
       "    <tr>\n",
       "      <th>...</th>\n",
       "      <td>...</td>\n",
       "      <td>...</td>\n",
       "      <td>...</td>\n",
       "      <td>...</td>\n",
       "      <td>...</td>\n",
       "      <td>...</td>\n",
       "      <td>...</td>\n",
       "      <td>...</td>\n",
       "      <td>...</td>\n",
       "      <td>...</td>\n",
       "      <td>...</td>\n",
       "      <td>...</td>\n",
       "      <td>...</td>\n",
       "      <td>...</td>\n",
       "      <td>...</td>\n",
       "      <td>...</td>\n",
       "      <td>...</td>\n",
       "      <td>...</td>\n",
       "      <td>...</td>\n",
       "      <td>...</td>\n",
       "      <td>...</td>\n",
       "    </tr>\n",
       "    <tr>\n",
       "      <th>16088</th>\n",
       "      <td>None</td>\n",
       "      <td>0</td>\n",
       "      <td>0</td>\n",
       "      <td>0</td>\n",
       "      <td>0</td>\n",
       "      <td>1</td>\n",
       "      <td>0</td>\n",
       "      <td>0</td>\n",
       "      <td>0</td>\n",
       "      <td>0</td>\n",
       "      <td>...</td>\n",
       "      <td>0</td>\n",
       "      <td>0</td>\n",
       "      <td>0</td>\n",
       "      <td>0</td>\n",
       "      <td>0</td>\n",
       "      <td>0</td>\n",
       "      <td>0</td>\n",
       "      <td>0</td>\n",
       "      <td>0</td>\n",
       "      <td>0</td>\n",
       "    </tr>\n",
       "    <tr>\n",
       "      <th>16089</th>\n",
       "      <td>Major</td>\n",
       "      <td>0</td>\n",
       "      <td>0</td>\n",
       "      <td>0</td>\n",
       "      <td>0</td>\n",
       "      <td>1</td>\n",
       "      <td>0</td>\n",
       "      <td>0</td>\n",
       "      <td>0</td>\n",
       "      <td>0</td>\n",
       "      <td>...</td>\n",
       "      <td>0</td>\n",
       "      <td>0</td>\n",
       "      <td>0</td>\n",
       "      <td>0</td>\n",
       "      <td>0</td>\n",
       "      <td>1</td>\n",
       "      <td>0</td>\n",
       "      <td>0</td>\n",
       "      <td>0</td>\n",
       "      <td>0</td>\n",
       "    </tr>\n",
       "    <tr>\n",
       "      <th>16090</th>\n",
       "      <td>None</td>\n",
       "      <td>0</td>\n",
       "      <td>0</td>\n",
       "      <td>0</td>\n",
       "      <td>0</td>\n",
       "      <td>1</td>\n",
       "      <td>0</td>\n",
       "      <td>0</td>\n",
       "      <td>0</td>\n",
       "      <td>0</td>\n",
       "      <td>...</td>\n",
       "      <td>0</td>\n",
       "      <td>0</td>\n",
       "      <td>0</td>\n",
       "      <td>0</td>\n",
       "      <td>0</td>\n",
       "      <td>0</td>\n",
       "      <td>0</td>\n",
       "      <td>0</td>\n",
       "      <td>0</td>\n",
       "      <td>0</td>\n",
       "    </tr>\n",
       "    <tr>\n",
       "      <th>16091</th>\n",
       "      <td>None</td>\n",
       "      <td>0</td>\n",
       "      <td>0</td>\n",
       "      <td>0</td>\n",
       "      <td>0</td>\n",
       "      <td>1</td>\n",
       "      <td>0</td>\n",
       "      <td>0</td>\n",
       "      <td>0</td>\n",
       "      <td>0</td>\n",
       "      <td>...</td>\n",
       "      <td>0</td>\n",
       "      <td>0</td>\n",
       "      <td>0</td>\n",
       "      <td>0</td>\n",
       "      <td>0</td>\n",
       "      <td>0</td>\n",
       "      <td>0</td>\n",
       "      <td>0</td>\n",
       "      <td>0</td>\n",
       "      <td>0</td>\n",
       "    </tr>\n",
       "    <tr>\n",
       "      <th>16092</th>\n",
       "      <td>Major</td>\n",
       "      <td>0</td>\n",
       "      <td>0</td>\n",
       "      <td>0</td>\n",
       "      <td>0</td>\n",
       "      <td>1</td>\n",
       "      <td>0</td>\n",
       "      <td>0</td>\n",
       "      <td>0</td>\n",
       "      <td>0</td>\n",
       "      <td>...</td>\n",
       "      <td>0</td>\n",
       "      <td>0</td>\n",
       "      <td>0</td>\n",
       "      <td>0</td>\n",
       "      <td>0</td>\n",
       "      <td>1</td>\n",
       "      <td>0</td>\n",
       "      <td>0</td>\n",
       "      <td>0</td>\n",
       "      <td>0</td>\n",
       "    </tr>\n",
       "  </tbody>\n",
       "</table>\n",
       "<p>14422 rows × 110 columns</p>\n",
       "</div>"
      ],
      "text/plain": [
       "      INJURY  RoadClass_Collector  RoadClass_Expressway  RoadClass_Laneway  \\\n",
       "0      Major                    0                     0                  0   \n",
       "1      Minor                    0                     0                  0   \n",
       "2      Minor                    0                     0                  0   \n",
       "3      Minor                    0                     0                  0   \n",
       "4      Minor                    0                     0                  0   \n",
       "...      ...                  ...                   ...                ...   \n",
       "16088   None                    0                     0                  0   \n",
       "16089  Major                    0                     0                  0   \n",
       "16090   None                    0                     0                  0   \n",
       "16091   None                    0                     0                  0   \n",
       "16092  Major                    0                     0                  0   \n",
       "\n",
       "       RoadClass_Local  RoadClass_Major Arterial  \\\n",
       "0                    0                         1   \n",
       "1                    0                         1   \n",
       "2                    0                         1   \n",
       "3                    0                         1   \n",
       "4                    0                         1   \n",
       "...                ...                       ...   \n",
       "16088                0                         1   \n",
       "16089                0                         1   \n",
       "16090                0                         1   \n",
       "16091                0                         1   \n",
       "16092                0                         1   \n",
       "\n",
       "       RoadClass_Major Arterial Ramp  RoadClass_Minor Arterial  \\\n",
       "0                                  0                         0   \n",
       "1                                  0                         0   \n",
       "2                                  0                         0   \n",
       "3                                  0                         0   \n",
       "4                                  0                         0   \n",
       "...                              ...                       ...   \n",
       "16088                              0                         0   \n",
       "16089                              0                         0   \n",
       "16090                              0                         0   \n",
       "16091                              0                         0   \n",
       "16092                              0                         0   \n",
       "\n",
       "       RoadClass_Other  RoadClass_Pending  ...  INVTYPE_Motorcycle Driver  \\\n",
       "0                    0                  0  ...                          0   \n",
       "1                    0                  0  ...                          0   \n",
       "2                    0                  0  ...                          0   \n",
       "3                    0                  0  ...                          0   \n",
       "4                    0                  0  ...                          0   \n",
       "...                ...                ...  ...                        ...   \n",
       "16088                0                  0  ...                          0   \n",
       "16089                0                  0  ...                          0   \n",
       "16090                0                  0  ...                          0   \n",
       "16091                0                  0  ...                          0   \n",
       "16092                0                  0  ...                          0   \n",
       "\n",
       "       INVTYPE_Motorcycle Passenger  INVTYPE_Other  \\\n",
       "0                                 0              0   \n",
       "1                                 0              0   \n",
       "2                                 0              0   \n",
       "3                                 0              0   \n",
       "4                                 0              0   \n",
       "...                             ...            ...   \n",
       "16088                             0              0   \n",
       "16089                             0              0   \n",
       "16090                             0              0   \n",
       "16091                             0              0   \n",
       "16092                             0              0   \n",
       "\n",
       "       INVTYPE_Other Property Owner  INVTYPE_Passenger  INVTYPE_Pedestrian  \\\n",
       "0                                 0                  1                   0   \n",
       "1                                 0                  1                   0   \n",
       "2                                 0                  0                   0   \n",
       "3                                 0                  1                   0   \n",
       "4                                 0                  1                   0   \n",
       "...                             ...                ...                 ...   \n",
       "16088                             0                  0                   0   \n",
       "16089                             0                  0                   1   \n",
       "16090                             0                  0                   0   \n",
       "16091                             0                  0                   0   \n",
       "16092                             0                  0                   1   \n",
       "\n",
       "       INVTYPE_Pedestrian - Not Hit  INVTYPE_Truck Driver  \\\n",
       "0                                 0                     0   \n",
       "1                                 0                     0   \n",
       "2                                 0                     0   \n",
       "3                                 0                     0   \n",
       "4                                 0                     0   \n",
       "...                             ...                   ...   \n",
       "16088                             0                     0   \n",
       "16089                             0                     0   \n",
       "16090                             0                     0   \n",
       "16091                             0                     0   \n",
       "16092                             0                     0   \n",
       "\n",
       "       INVTYPE_Vehicle Owner  INVTYPE_Wheelchair  \n",
       "0                          0                   0  \n",
       "1                          0                   0  \n",
       "2                          0                   0  \n",
       "3                          0                   0  \n",
       "4                          0                   0  \n",
       "...                      ...                 ...  \n",
       "16088                      0                   0  \n",
       "16089                      0                   0  \n",
       "16090                      0                   0  \n",
       "16091                      0                   0  \n",
       "16092                      0                   0  \n",
       "\n",
       "[14422 rows x 110 columns]"
      ]
     },
     "execution_count": 60,
     "metadata": {},
     "output_type": "execute_result"
    }
   ],
   "source": [
    "new_df_aug5_dv"
   ]
  },
  {
   "cell_type": "markdown",
   "metadata": {},
   "source": [
    "## Decision Tree Model"
   ]
  },
  {
   "cell_type": "code",
   "execution_count": 62,
   "metadata": {},
   "outputs": [],
   "source": [
    "from sklearn.tree import DecisionTreeClassifier\n",
    "from sklearn.model_selection import train_test_split\n",
    "import numpy as np\n",
    "import sklearn as sk\n",
    "import sklearn.datasets as skd\n",
    "import sklearn.ensemble as ske\n",
    "import matplotlib.pyplot as plt\n",
    "import matplotlib as mpl\n",
    "%matplotlib inline\n",
    "mpl.rcParams['figure.dpi'] = mpl.rcParams['savefig.dpi'] = 300"
   ]
  },
  {
   "cell_type": "code",
   "execution_count": 63,
   "metadata": {},
   "outputs": [],
   "source": [
    "X = new_df_aug5_dv.drop(\"INJURY\", axis=1) # Features\n",
    "y = new_df_aug5_dv[\"INJURY\"] # Target variable"
   ]
  },
  {
   "cell_type": "code",
   "execution_count": 64,
   "metadata": {},
   "outputs": [],
   "source": [
    "# Split the dataset into 75% training data and 25% of testing data\n",
    "X_train, X_test, y_train, y_test = train_test_split(X, y, test_size=0.25, random_state=1)"
   ]
  },
  {
   "cell_type": "code",
   "execution_count": 65,
   "metadata": {},
   "outputs": [],
   "source": [
    "# Train the model with the help of DecisionTreeClassifier class\n",
    "clf = DecisionTreeClassifier()\n",
    "clf = clf.fit(X_train, y_train)"
   ]
  },
  {
   "cell_type": "code",
   "execution_count": 66,
   "metadata": {},
   "outputs": [],
   "source": [
    "# Next we make a prediction\n",
    "y_pred = clf.predict(X_test)"
   ]
  },
  {
   "cell_type": "code",
   "execution_count": 67,
   "metadata": {},
   "outputs": [
    {
     "name": "stdout",
     "output_type": "stream",
     "text": [
      "Confusion Matrix:\n",
      "[[  37  120    3   10   24]\n",
      " [  71  907   23   45  295]\n",
      " [   3   52   21   11  146]\n",
      " [  12   95   25   37  149]\n",
      " [  25  192   52   51 1200]]\n",
      "Classification Report:\n",
      "              precision    recall  f1-score   support\n",
      "\n",
      "       Fatal       0.25      0.19      0.22       194\n",
      "       Major       0.66      0.68      0.67      1341\n",
      "     Minimal       0.17      0.09      0.12       233\n",
      "       Minor       0.24      0.12      0.16       318\n",
      "        None       0.66      0.79      0.72      1520\n",
      "\n",
      "    accuracy                           0.61      3606\n",
      "   macro avg       0.40      0.37      0.38      3606\n",
      "weighted avg       0.57      0.61      0.59      3606\n",
      "\n",
      "Accuracy: 0.610648918469218\n"
     ]
    }
   ],
   "source": [
    "# Get the accuracy score, confusion matrix and classification report\n",
    "from sklearn.metrics import classification_report, confusion_matrix, accuracy_score\n",
    "result = confusion_matrix(y_test, y_pred)\n",
    "print(\"Confusion Matrix:\")\n",
    "print(result)\n",
    "result1 = classification_report(y_test, y_pred)\n",
    "print(\"Classification Report:\",)\n",
    "print (result1)\n",
    "result2 = accuracy_score(y_test,y_pred)\n",
    "print(\"Accuracy:\",result2)"
   ]
  },
  {
   "cell_type": "markdown",
   "metadata": {},
   "source": [
    "The feature TRAFFCTL was used in the model initially but was excluded since it decreased the model accuracy."
   ]
  },
  {
   "cell_type": "code",
   "execution_count": 68,
   "metadata": {},
   "outputs": [
    {
     "data": {
      "text/plain": [
       "<AxesSubplot:>"
      ]
     },
     "execution_count": 68,
     "metadata": {},
     "output_type": "execute_result"
    },
    {
     "data": {
      "image/png": "[encoded data removed]",
      "text/plain": [
       "<Figure size 1800x1200 with 2 Axes>"
      ]
     },
     "metadata": {
      "needs_background": "light"
     },
     "output_type": "display_data"
    }
   ],
   "source": [
    "import seaborn as sns\n",
    "sns.heatmap(result/np.sum(result), annot=True, fmt='.1%', cmap='Blues')"
   ]
  },
  {
   "cell_type": "markdown",
   "metadata": {},
   "source": [
    "Tuning the model using the DecisionTree paramaters."
   ]
  },
  {
   "cell_type": "code",
   "execution_count": 69,
   "metadata": {},
   "outputs": [],
   "source": [
    "# Train the model with the help of DecisionTreeClassifier class\n",
    "clf = DecisionTreeClassifier(max_depth=15, random_state=100, min_samples_leaf=28, criterion='gini')\n",
    "clf = clf.fit(X_train, y_train)"
   ]
  },
  {
   "cell_type": "code",
   "execution_count": 70,
   "metadata": {},
   "outputs": [],
   "source": [
    "# Next we make a prediction\n",
    "y_pred = clf.predict(X_test)"
   ]
  },
  {
   "cell_type": "code",
   "execution_count": 71,
   "metadata": {},
   "outputs": [
    {
     "name": "stdout",
     "output_type": "stream",
     "text": [
      "Accuracy: 0.6597337770382695\n"
     ]
    }
   ],
   "source": [
    "from sklearn.metrics import classification_report, confusion_matrix, accuracy_score\n",
    "result2 = accuracy_score(y_test,y_pred)\n",
    "print(\"Accuracy:\",result2)"
   ]
  },
  {
   "cell_type": "markdown",
   "metadata": {},
   "source": [
    "# Trying to graph decision tree"
   ]
  },
  {
   "cell_type": "code",
   "execution_count": 72,
   "metadata": {},
   "outputs": [
    {
     "data": {
      "text/plain": [
       "Index(['RoadClass_Collector', 'RoadClass_Expressway', 'RoadClass_Laneway',\n",
       "       'RoadClass_Local', 'RoadClass_Major Arterial',\n",
       "       'RoadClass_Major Arterial Ramp', 'RoadClass_Minor Arterial',\n",
       "       'RoadClass_Other', 'RoadClass_Pending', 'Light_Dark',\n",
       "       ...\n",
       "       'INVTYPE_Motorcycle Driver', 'INVTYPE_Motorcycle Passenger',\n",
       "       'INVTYPE_Other', 'INVTYPE_Other Property Owner', 'INVTYPE_Passenger',\n",
       "       'INVTYPE_Pedestrian', 'INVTYPE_Pedestrian - Not Hit',\n",
       "       'INVTYPE_Truck Driver', 'INVTYPE_Vehicle Owner', 'INVTYPE_Wheelchair'],\n",
       "      dtype='object', length=109)"
      ]
     },
     "execution_count": 72,
     "metadata": {},
     "output_type": "execute_result"
    }
   ],
   "source": [
    "FEATURE_NAMES = new_df_aug5_dv.columns[1:110]\n",
    "FEATURE_NAMES"
   ]
  },
  {
   "cell_type": "code",
   "execution_count": 73,
   "metadata": {},
   "outputs": [
    {
     "name": "stdout",
     "output_type": "stream",
     "text": [
      "Requirement already satisfied: pydotplus in c:\\users\\lotte\\anaconda3\\lib\\site-packages (2.0.2)\n",
      "Requirement already satisfied: pyparsing>=2.0.1 in c:\\users\\lotte\\anaconda3\\lib\\site-packages (from pydotplus) (2.4.7)\n",
      "Note: you may need to restart the kernel to use updated packages.\n"
     ]
    }
   ],
   "source": [
    "pip install pydotplus"
   ]
  },
  {
   "cell_type": "code",
   "execution_count": 74,
   "metadata": {},
   "outputs": [
    {
     "ename": "IndexError",
     "evalue": "list index out of range",
     "output_type": "error",
     "traceback": [
      "\u001b[1;31m---------------------------------------------------------------------------\u001b[0m",
      "\u001b[1;31mIndexError\u001b[0m                                Traceback (most recent call last)",
      "\u001b[1;32m<ipython-input-74-484b4762fb3f>\u001b[0m in \u001b[0;36m<module>\u001b[1;34m\u001b[0m\n\u001b[0;32m      7\u001b[0m \u001b[1;33m\u001b[0m\u001b[0m\n\u001b[0;32m      8\u001b[0m \u001b[0mdot_data\u001b[0m \u001b[1;33m=\u001b[0m \u001b[0mStringIO\u001b[0m\u001b[1;33m(\u001b[0m\u001b[1;33m)\u001b[0m\u001b[1;33m\u001b[0m\u001b[1;33m\u001b[0m\u001b[0m\n\u001b[1;32m----> 9\u001b[1;33m export_graphviz(clf, out_file=dot_data,\n\u001b[0m\u001b[0;32m     10\u001b[0m       \u001b[0mfilled\u001b[0m\u001b[1;33m=\u001b[0m\u001b[1;32mTrue\u001b[0m\u001b[1;33m,\u001b[0m \u001b[0mrounded\u001b[0m\u001b[1;33m=\u001b[0m\u001b[1;32mTrue\u001b[0m\u001b[1;33m,\u001b[0m\u001b[1;33m\u001b[0m\u001b[1;33m\u001b[0m\u001b[0m\n\u001b[0;32m     11\u001b[0m       special_characters=True,feature_names = FEATURE_NAMES,class_names=['0','1'])\n",
      "\u001b[1;32m~\\anaconda3\\lib\\site-packages\\sklearn\\utils\\validation.py\u001b[0m in \u001b[0;36minner_f\u001b[1;34m(*args, **kwargs)\u001b[0m\n\u001b[0;32m     70\u001b[0m                           FutureWarning)\n\u001b[0;32m     71\u001b[0m         \u001b[0mkwargs\u001b[0m\u001b[1;33m.\u001b[0m\u001b[0mupdate\u001b[0m\u001b[1;33m(\u001b[0m\u001b[1;33m{\u001b[0m\u001b[0mk\u001b[0m\u001b[1;33m:\u001b[0m \u001b[0marg\u001b[0m \u001b[1;32mfor\u001b[0m \u001b[0mk\u001b[0m\u001b[1;33m,\u001b[0m \u001b[0marg\u001b[0m \u001b[1;32min\u001b[0m \u001b[0mzip\u001b[0m\u001b[1;33m(\u001b[0m\u001b[0msig\u001b[0m\u001b[1;33m.\u001b[0m\u001b[0mparameters\u001b[0m\u001b[1;33m,\u001b[0m \u001b[0margs\u001b[0m\u001b[1;33m)\u001b[0m\u001b[1;33m}\u001b[0m\u001b[1;33m)\u001b[0m\u001b[1;33m\u001b[0m\u001b[1;33m\u001b[0m\u001b[0m\n\u001b[1;32m---> 72\u001b[1;33m         \u001b[1;32mreturn\u001b[0m \u001b[0mf\u001b[0m\u001b[1;33m(\u001b[0m\u001b[1;33m**\u001b[0m\u001b[0mkwargs\u001b[0m\u001b[1;33m)\u001b[0m\u001b[1;33m\u001b[0m\u001b[1;33m\u001b[0m\u001b[0m\n\u001b[0m\u001b[0;32m     73\u001b[0m     \u001b[1;32mreturn\u001b[0m \u001b[0minner_f\u001b[0m\u001b[1;33m\u001b[0m\u001b[1;33m\u001b[0m\u001b[0m\n\u001b[0;32m     74\u001b[0m \u001b[1;33m\u001b[0m\u001b[0m\n",
      "\u001b[1;32m~\\anaconda3\\lib\\site-packages\\sklearn\\tree\\_export.py\u001b[0m in \u001b[0;36mexport_graphviz\u001b[1;34m(decision_tree, out_file, max_depth, feature_names, class_names, label, filled, leaves_parallel, impurity, node_ids, proportion, rotate, rounded, special_characters, precision)\u001b[0m\n\u001b[0;32m    781\u001b[0m             \u001b[0mrounded\u001b[0m\u001b[1;33m=\u001b[0m\u001b[0mrounded\u001b[0m\u001b[1;33m,\u001b[0m \u001b[0mspecial_characters\u001b[0m\u001b[1;33m=\u001b[0m\u001b[0mspecial_characters\u001b[0m\u001b[1;33m,\u001b[0m\u001b[1;33m\u001b[0m\u001b[1;33m\u001b[0m\u001b[0m\n\u001b[0;32m    782\u001b[0m             precision=precision)\n\u001b[1;32m--> 783\u001b[1;33m         \u001b[0mexporter\u001b[0m\u001b[1;33m.\u001b[0m\u001b[0mexport\u001b[0m\u001b[1;33m(\u001b[0m\u001b[0mdecision_tree\u001b[0m\u001b[1;33m)\u001b[0m\u001b[1;33m\u001b[0m\u001b[1;33m\u001b[0m\u001b[0m\n\u001b[0m\u001b[0;32m    784\u001b[0m \u001b[1;33m\u001b[0m\u001b[0m\n\u001b[0;32m    785\u001b[0m         \u001b[1;32mif\u001b[0m \u001b[0mreturn_string\u001b[0m\u001b[1;33m:\u001b[0m\u001b[1;33m\u001b[0m\u001b[1;33m\u001b[0m\u001b[0m\n",
      "\u001b[1;32m~\\anaconda3\\lib\\site-packages\\sklearn\\tree\\_export.py\u001b[0m in \u001b[0;36mexport\u001b[1;34m(self, decision_tree)\u001b[0m\n\u001b[0;32m    421\u001b[0m             \u001b[0mself\u001b[0m\u001b[1;33m.\u001b[0m\u001b[0mrecurse\u001b[0m\u001b[1;33m(\u001b[0m\u001b[0mdecision_tree\u001b[0m\u001b[1;33m,\u001b[0m \u001b[1;36m0\u001b[0m\u001b[1;33m,\u001b[0m \u001b[0mcriterion\u001b[0m\u001b[1;33m=\u001b[0m\u001b[1;34m\"impurity\"\u001b[0m\u001b[1;33m)\u001b[0m\u001b[1;33m\u001b[0m\u001b[1;33m\u001b[0m\u001b[0m\n\u001b[0;32m    422\u001b[0m         \u001b[1;32melse\u001b[0m\u001b[1;33m:\u001b[0m\u001b[1;33m\u001b[0m\u001b[1;33m\u001b[0m\u001b[0m\n\u001b[1;32m--> 423\u001b[1;33m             self.recurse(decision_tree.tree_, 0,\n\u001b[0m\u001b[0;32m    424\u001b[0m                          criterion=decision_tree.criterion)\n\u001b[0;32m    425\u001b[0m \u001b[1;33m\u001b[0m\u001b[0m\n",
      "\u001b[1;32m~\\anaconda3\\lib\\site-packages\\sklearn\\tree\\_export.py\u001b[0m in \u001b[0;36mrecurse\u001b[1;34m(self, tree, node_id, criterion, parent, depth)\u001b[0m\n\u001b[0;32m    481\u001b[0m \u001b[1;33m\u001b[0m\u001b[0m\n\u001b[0;32m    482\u001b[0m             self.out_file.write(\n\u001b[1;32m--> 483\u001b[1;33m                 '%d [label=%s' % (node_id, self.node_to_str(tree, node_id,\n\u001b[0m\u001b[0;32m    484\u001b[0m                                                             criterion)))\n\u001b[0;32m    485\u001b[0m \u001b[1;33m\u001b[0m\u001b[0m\n",
      "\u001b[1;32m~\\anaconda3\\lib\\site-packages\\sklearn\\tree\\_export.py\u001b[0m in \u001b[0;36mnode_to_str\u001b[1;34m(self, tree, node_id, criterion)\u001b[0m\n\u001b[0;32m    352\u001b[0m                 \u001b[0mnode_string\u001b[0m \u001b[1;33m+=\u001b[0m \u001b[1;34m'class = '\u001b[0m\u001b[1;33m\u001b[0m\u001b[1;33m\u001b[0m\u001b[0m\n\u001b[0;32m    353\u001b[0m             \u001b[1;32mif\u001b[0m \u001b[0mself\u001b[0m\u001b[1;33m.\u001b[0m\u001b[0mclass_names\u001b[0m \u001b[1;32mis\u001b[0m \u001b[1;32mnot\u001b[0m \u001b[1;32mTrue\u001b[0m\u001b[1;33m:\u001b[0m\u001b[1;33m\u001b[0m\u001b[1;33m\u001b[0m\u001b[0m\n\u001b[1;32m--> 354\u001b[1;33m                 \u001b[0mclass_name\u001b[0m \u001b[1;33m=\u001b[0m \u001b[0mself\u001b[0m\u001b[1;33m.\u001b[0m\u001b[0mclass_names\u001b[0m\u001b[1;33m[\u001b[0m\u001b[0mnp\u001b[0m\u001b[1;33m.\u001b[0m\u001b[0margmax\u001b[0m\u001b[1;33m(\u001b[0m\u001b[0mvalue\u001b[0m\u001b[1;33m)\u001b[0m\u001b[1;33m]\u001b[0m\u001b[1;33m\u001b[0m\u001b[1;33m\u001b[0m\u001b[0m\n\u001b[0m\u001b[0;32m    355\u001b[0m             \u001b[1;32melse\u001b[0m\u001b[1;33m:\u001b[0m\u001b[1;33m\u001b[0m\u001b[1;33m\u001b[0m\u001b[0m\n\u001b[0;32m    356\u001b[0m                 class_name = \"y%s%s%s\" % (characters[1],\n",
      "\u001b[1;31mIndexError\u001b[0m: list index out of range"
     ]
    }
   ],
   "source": [
    "#method 2\n",
    "from sklearn.tree import export_graphviz\n",
    "from six import StringIO\n",
    "from IPython.display import Image\n",
    "import pydotplus\n",
    "#import graphviz\n",
    "\n",
    "dot_data = StringIO()\n",
    "export_graphviz(clf, out_file=dot_data,\n",
    "      filled=True, rounded=True,\n",
    "      special_characters=True,feature_names = FEATURE_NAMES,class_names=['0','1'])\n",
    "graph = pydotplus.graph_from_dot_data(dot_data.getvalue())\n",
    "# graph.write_png('Pima_diabetes_Tree.png')\n",
    "Image(graph.create_png())"
   ]
  },
  {
   "cell_type": "code",
   "execution_count": null,
   "metadata": {},
   "outputs": [],
   "source": []
  },
  {
   "cell_type": "code",
   "execution_count": null,
   "metadata": {},
   "outputs": [],
   "source": []
  }
 ],
 "metadata": {
  "kernelspec": {
   "display_name": "Python 3",
   "language": "python",
   "name": "python3"
  },
  "language_info": {
   "codemirror_mode": {
    "name": "ipython",
    "version": 3
   },
   "file_extension": ".py",
   "mimetype": "text/x-python",
   "name": "python",
   "nbconvert_exporter": "python",
   "pygments_lexer": "ipython3",
   "version": "3.8.5"
  }
 },
 "nbformat": 4,
 "nbformat_minor": 4
}
